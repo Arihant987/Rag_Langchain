{
  "nbformat": 4,
  "nbformat_minor": 0,
  "metadata": {
    "colab": {
      "provenance": [],
      "gpuType": "T4",
      "authorship_tag": "ABX9TyM69QqMhbkoUy3xIiE3US7y",
      "include_colab_link": true
    },
    "kernelspec": {
      "name": "python3",
      "display_name": "Python 3"
    },
    "language_info": {
      "name": "python"
    },
    "accelerator": "GPU"
  },
  "cells": [
    {
      "cell_type": "markdown",
      "metadata": {
        "id": "view-in-github",
        "colab_type": "text"
      },
      "source": [
        "<a href=\"https://colab.research.google.com/github/Arihant987/Rag_Langchain/blob/main/Rag_sql.ipynb\" target=\"_parent\"><img src=\"https://colab.research.google.com/assets/colab-badge.svg\" alt=\"Open In Colab\"/></a>"
      ]
    },
    {
      "cell_type": "code",
      "execution_count": null,
      "metadata": {
        "colab": {
          "base_uri": "https://localhost:8080/"
        },
        "id": "LKK-D-Eqa5_y",
        "outputId": "348a4cd4-734a-446d-8b8d-78fd8ea53649"
      },
      "outputs": [
        {
          "output_type": "stream",
          "name": "stdout",
          "text": [
            "Collecting llama-index==0.9.45.post1\n",
            "  Downloading llama_index-0.9.45.post1-py3-none-any.whl.metadata (8.4 kB)\n",
            "Collecting arize-phoenix==2.2.1\n",
            "  Downloading arize_phoenix-2.2.1-py3-none-any.whl.metadata (26 kB)\n",
            "Collecting pyvis\n",
            "  Downloading pyvis-0.3.2-py3-none-any.whl.metadata (1.7 kB)\n",
            "Requirement already satisfied: SQLAlchemy>=1.4.49 in /usr/local/lib/python3.11/dist-packages (from SQLAlchemy[asyncio]>=1.4.49->llama-index==0.9.45.post1) (2.0.37)\n",
            "Requirement already satisfied: aiohttp<4.0.0,>=3.8.6 in /usr/local/lib/python3.11/dist-packages (from llama-index==0.9.45.post1) (3.11.11)\n",
            "Collecting dataclasses-json (from llama-index==0.9.45.post1)\n",
            "  Downloading dataclasses_json-0.6.7-py3-none-any.whl.metadata (25 kB)\n",
            "Requirement already satisfied: deprecated>=1.2.9.3 in /usr/local/lib/python3.11/dist-packages (from llama-index==0.9.45.post1) (1.2.15)\n",
            "Collecting dirtyjson<2.0.0,>=1.0.8 (from llama-index==0.9.45.post1)\n",
            "  Downloading dirtyjson-1.0.8-py3-none-any.whl.metadata (11 kB)\n",
            "Requirement already satisfied: fsspec>=2023.5.0 in /usr/local/lib/python3.11/dist-packages (from llama-index==0.9.45.post1) (2024.10.0)\n",
            "Requirement already satisfied: httpx in /usr/local/lib/python3.11/dist-packages (from llama-index==0.9.45.post1) (0.28.1)\n",
            "Requirement already satisfied: nest-asyncio<2.0.0,>=1.5.8 in /usr/local/lib/python3.11/dist-packages (from llama-index==0.9.45.post1) (1.6.0)\n",
            "Requirement already satisfied: networkx>=3.0 in /usr/local/lib/python3.11/dist-packages (from llama-index==0.9.45.post1) (3.4.2)\n",
            "Requirement already satisfied: nltk<4.0.0,>=3.8.1 in /usr/local/lib/python3.11/dist-packages (from llama-index==0.9.45.post1) (3.9.1)\n",
            "Requirement already satisfied: numpy in /usr/local/lib/python3.11/dist-packages (from llama-index==0.9.45.post1) (1.26.4)\n",
            "Requirement already satisfied: openai>=1.1.0 in /usr/local/lib/python3.11/dist-packages (from llama-index==0.9.45.post1) (1.59.6)\n",
            "Requirement already satisfied: pandas in /usr/local/lib/python3.11/dist-packages (from llama-index==0.9.45.post1) (2.2.2)\n",
            "Requirement already satisfied: requests>=2.31.0 in /usr/local/lib/python3.11/dist-packages (from llama-index==0.9.45.post1) (2.32.3)\n",
            "Collecting tenacity<9.0.0,>=8.2.0 (from llama-index==0.9.45.post1)\n",
            "  Downloading tenacity-8.5.0-py3-none-any.whl.metadata (1.2 kB)\n",
            "Collecting tiktoken>=0.3.3 (from llama-index==0.9.45.post1)\n",
            "  Downloading tiktoken-0.8.0-cp311-cp311-manylinux_2_17_x86_64.manylinux2014_x86_64.whl.metadata (6.6 kB)\n",
            "Requirement already satisfied: typing-extensions>=4.5.0 in /usr/local/lib/python3.11/dist-packages (from llama-index==0.9.45.post1) (4.12.2)\n",
            "Collecting typing-inspect>=0.8.0 (from llama-index==0.9.45.post1)\n",
            "  Downloading typing_inspect-0.9.0-py3-none-any.whl.metadata (1.5 kB)\n",
            "Collecting ddsketch (from arize-phoenix==2.2.1)\n",
            "  Downloading ddsketch-3.0.1-py3-none-any.whl.metadata (5.4 kB)\n",
            "Collecting hdbscan<1.0.0,>=0.8.33 (from arize-phoenix==2.2.1)\n",
            "  Downloading hdbscan-0.8.40-cp311-cp311-manylinux_2_17_x86_64.manylinux2014_x86_64.whl.metadata (15 kB)\n",
            "Requirement already satisfied: jinja2 in /usr/local/lib/python3.11/dist-packages (from arize-phoenix==2.2.1) (3.1.5)\n",
            "Collecting opentelemetry-proto (from arize-phoenix==2.2.1)\n",
            "  Downloading opentelemetry_proto-1.29.0-py3-none-any.whl.metadata (2.3 kB)\n",
            "Requirement already satisfied: opentelemetry-sdk in /usr/local/lib/python3.11/dist-packages (from arize-phoenix==2.2.1) (1.29.0)\n",
            "Requirement already satisfied: protobuf<5.0,>=3.20 in /usr/local/lib/python3.11/dist-packages (from arize-phoenix==2.2.1) (4.25.5)\n",
            "Requirement already satisfied: psutil in /usr/local/lib/python3.11/dist-packages (from arize-phoenix==2.2.1) (5.9.5)\n",
            "Requirement already satisfied: pyarrow in /usr/local/lib/python3.11/dist-packages (from arize-phoenix==2.2.1) (17.0.0)\n",
            "Collecting scikit-learn<1.3.0 (from arize-phoenix==2.2.1)\n",
            "  Downloading scikit_learn-1.2.2-cp311-cp311-manylinux_2_17_x86_64.manylinux2014_x86_64.whl.metadata (11 kB)\n",
            "Requirement already satisfied: scipy in /usr/local/lib/python3.11/dist-packages (from arize-phoenix==2.2.1) (1.13.1)\n",
            "Collecting sortedcontainers (from arize-phoenix==2.2.1)\n",
            "  Downloading sortedcontainers-2.4.0-py2.py3-none-any.whl.metadata (10 kB)\n",
            "Collecting starlette (from arize-phoenix==2.2.1)\n",
            "  Downloading starlette-0.45.2-py3-none-any.whl.metadata (6.3 kB)\n",
            "Collecting strawberry-graphql==0.208.2 (from arize-phoenix==2.2.1)\n",
            "  Downloading strawberry_graphql-0.208.2-py3-none-any.whl.metadata (7.5 kB)\n",
            "Requirement already satisfied: tqdm in /usr/local/lib/python3.11/dist-packages (from arize-phoenix==2.2.1) (4.67.1)\n",
            "Collecting umap-learn (from arize-phoenix==2.2.1)\n",
            "  Downloading umap_learn-0.5.7-py3-none-any.whl.metadata (21 kB)\n",
            "Collecting uvicorn (from arize-phoenix==2.2.1)\n",
            "  Downloading uvicorn-0.34.0-py3-none-any.whl.metadata (6.5 kB)\n",
            "Requirement already satisfied: wrapt in /usr/local/lib/python3.11/dist-packages (from arize-phoenix==2.2.1) (1.17.0)\n",
            "Collecting graphql-core<3.3.0,>=3.2.0 (from strawberry-graphql==0.208.2->arize-phoenix==2.2.1)\n",
            "  Downloading graphql_core-3.2.5-py3-none-any.whl.metadata (10 kB)\n",
            "Requirement already satisfied: python-dateutil<3.0.0,>=2.7.0 in /usr/local/lib/python3.11/dist-packages (from strawberry-graphql==0.208.2->arize-phoenix==2.2.1) (2.8.2)\n",
            "Requirement already satisfied: ipython>=5.3.0 in /usr/local/lib/python3.11/dist-packages (from pyvis) (7.34.0)\n",
            "Requirement already satisfied: jsonpickle>=1.4.1 in /usr/local/lib/python3.11/dist-packages (from pyvis) (4.0.1)\n",
            "Requirement already satisfied: aiohappyeyeballs>=2.3.0 in /usr/local/lib/python3.11/dist-packages (from aiohttp<4.0.0,>=3.8.6->llama-index==0.9.45.post1) (2.4.4)\n",
            "Requirement already satisfied: aiosignal>=1.1.2 in /usr/local/lib/python3.11/dist-packages (from aiohttp<4.0.0,>=3.8.6->llama-index==0.9.45.post1) (1.3.2)\n",
            "Requirement already satisfied: attrs>=17.3.0 in /usr/local/lib/python3.11/dist-packages (from aiohttp<4.0.0,>=3.8.6->llama-index==0.9.45.post1) (24.3.0)\n",
            "Requirement already satisfied: frozenlist>=1.1.1 in /usr/local/lib/python3.11/dist-packages (from aiohttp<4.0.0,>=3.8.6->llama-index==0.9.45.post1) (1.5.0)\n",
            "Requirement already satisfied: multidict<7.0,>=4.5 in /usr/local/lib/python3.11/dist-packages (from aiohttp<4.0.0,>=3.8.6->llama-index==0.9.45.post1) (6.1.0)\n",
            "Requirement already satisfied: propcache>=0.2.0 in /usr/local/lib/python3.11/dist-packages (from aiohttp<4.0.0,>=3.8.6->llama-index==0.9.45.post1) (0.2.1)\n",
            "Requirement already satisfied: yarl<2.0,>=1.17.0 in /usr/local/lib/python3.11/dist-packages (from aiohttp<4.0.0,>=3.8.6->llama-index==0.9.45.post1) (1.18.3)\n",
            "Requirement already satisfied: joblib>=1.0 in /usr/local/lib/python3.11/dist-packages (from hdbscan<1.0.0,>=0.8.33->arize-phoenix==2.2.1) (1.4.2)\n",
            "Requirement already satisfied: setuptools>=18.5 in /usr/local/lib/python3.11/dist-packages (from ipython>=5.3.0->pyvis) (75.1.0)\n",
            "Collecting jedi>=0.16 (from ipython>=5.3.0->pyvis)\n",
            "  Downloading jedi-0.19.2-py2.py3-none-any.whl.metadata (22 kB)\n",
            "Requirement already satisfied: decorator in /usr/local/lib/python3.11/dist-packages (from ipython>=5.3.0->pyvis) (4.4.2)\n",
            "Requirement already satisfied: pickleshare in /usr/local/lib/python3.11/dist-packages (from ipython>=5.3.0->pyvis) (0.7.5)\n",
            "Requirement already satisfied: traitlets>=4.2 in /usr/local/lib/python3.11/dist-packages (from ipython>=5.3.0->pyvis) (5.7.1)\n",
            "Requirement already satisfied: prompt-toolkit!=3.0.0,!=3.0.1,<3.1.0,>=2.0.0 in /usr/local/lib/python3.11/dist-packages (from ipython>=5.3.0->pyvis) (3.0.48)\n",
            "Requirement already satisfied: pygments in /usr/local/lib/python3.11/dist-packages (from ipython>=5.3.0->pyvis) (2.18.0)\n",
            "Requirement already satisfied: backcall in /usr/local/lib/python3.11/dist-packages (from ipython>=5.3.0->pyvis) (0.2.0)\n",
            "Requirement already satisfied: matplotlib-inline in /usr/local/lib/python3.11/dist-packages (from ipython>=5.3.0->pyvis) (0.1.7)\n",
            "Requirement already satisfied: pexpect>4.3 in /usr/local/lib/python3.11/dist-packages (from ipython>=5.3.0->pyvis) (4.9.0)\n",
            "Requirement already satisfied: MarkupSafe>=2.0 in /usr/local/lib/python3.11/dist-packages (from jinja2->arize-phoenix==2.2.1) (3.0.2)\n",
            "Requirement already satisfied: click in /usr/local/lib/python3.11/dist-packages (from nltk<4.0.0,>=3.8.1->llama-index==0.9.45.post1) (8.1.8)\n",
            "Requirement already satisfied: regex>=2021.8.3 in /usr/local/lib/python3.11/dist-packages (from nltk<4.0.0,>=3.8.1->llama-index==0.9.45.post1) (2024.11.6)\n",
            "Requirement already satisfied: anyio<5,>=3.5.0 in /usr/local/lib/python3.11/dist-packages (from openai>=1.1.0->llama-index==0.9.45.post1) (3.7.1)\n",
            "Requirement already satisfied: distro<2,>=1.7.0 in /usr/local/lib/python3.11/dist-packages (from openai>=1.1.0->llama-index==0.9.45.post1) (1.9.0)\n",
            "Requirement already satisfied: jiter<1,>=0.4.0 in /usr/local/lib/python3.11/dist-packages (from openai>=1.1.0->llama-index==0.9.45.post1) (0.8.2)\n",
            "Requirement already satisfied: pydantic<3,>=1.9.0 in /usr/local/lib/python3.11/dist-packages (from openai>=1.1.0->llama-index==0.9.45.post1) (2.10.5)\n",
            "Requirement already satisfied: sniffio in /usr/local/lib/python3.11/dist-packages (from openai>=1.1.0->llama-index==0.9.45.post1) (1.3.1)\n",
            "Requirement already satisfied: certifi in /usr/local/lib/python3.11/dist-packages (from httpx->llama-index==0.9.45.post1) (2024.12.14)\n",
            "Requirement already satisfied: httpcore==1.* in /usr/local/lib/python3.11/dist-packages (from httpx->llama-index==0.9.45.post1) (1.0.7)\n",
            "Requirement already satisfied: idna in /usr/local/lib/python3.11/dist-packages (from httpx->llama-index==0.9.45.post1) (3.10)\n",
            "Requirement already satisfied: h11<0.15,>=0.13 in /usr/local/lib/python3.11/dist-packages (from httpcore==1.*->httpx->llama-index==0.9.45.post1) (0.14.0)\n",
            "Requirement already satisfied: charset-normalizer<4,>=2 in /usr/local/lib/python3.11/dist-packages (from requests>=2.31.0->llama-index==0.9.45.post1) (3.4.1)\n",
            "Requirement already satisfied: urllib3<3,>=1.21.1 in /usr/local/lib/python3.11/dist-packages (from requests>=2.31.0->llama-index==0.9.45.post1) (2.3.0)\n",
            "Requirement already satisfied: threadpoolctl>=2.0.0 in /usr/local/lib/python3.11/dist-packages (from scikit-learn<1.3.0->arize-phoenix==2.2.1) (3.5.0)\n",
            "Requirement already satisfied: greenlet!=0.4.17 in /usr/local/lib/python3.11/dist-packages (from SQLAlchemy>=1.4.49->SQLAlchemy[asyncio]>=1.4.49->llama-index==0.9.45.post1) (3.1.1)\n",
            "Collecting mypy-extensions>=0.3.0 (from typing-inspect>=0.8.0->llama-index==0.9.45.post1)\n",
            "  Downloading mypy_extensions-1.0.0-py3-none-any.whl.metadata (1.1 kB)\n",
            "Collecting marshmallow<4.0.0,>=3.18.0 (from dataclasses-json->llama-index==0.9.45.post1)\n",
            "  Downloading marshmallow-3.25.1-py3-none-any.whl.metadata (7.3 kB)\n",
            "Requirement already satisfied: six in /usr/local/lib/python3.11/dist-packages (from ddsketch->arize-phoenix==2.2.1) (1.17.0)\n",
            "INFO: pip is looking at multiple versions of opentelemetry-proto to determine which version is compatible with other requirements. This could take a while.\n",
            "Collecting opentelemetry-proto (from arize-phoenix==2.2.1)\n",
            "  Downloading opentelemetry_proto-1.28.2-py3-none-any.whl.metadata (2.3 kB)\n",
            "  Downloading opentelemetry_proto-1.28.1-py3-none-any.whl.metadata (2.3 kB)\n",
            "  Downloading opentelemetry_proto-1.28.0-py3-none-any.whl.metadata (2.3 kB)\n",
            "  Downloading opentelemetry_proto-1.27.0-py3-none-any.whl.metadata (2.3 kB)\n",
            "Requirement already satisfied: opentelemetry-api==1.29.0 in /usr/local/lib/python3.11/dist-packages (from opentelemetry-sdk->arize-phoenix==2.2.1) (1.29.0)\n",
            "Requirement already satisfied: opentelemetry-semantic-conventions==0.50b0 in /usr/local/lib/python3.11/dist-packages (from opentelemetry-sdk->arize-phoenix==2.2.1) (0.50b0)\n",
            "Requirement already satisfied: importlib-metadata<=8.5.0,>=6.0 in /usr/local/lib/python3.11/dist-packages (from opentelemetry-api==1.29.0->opentelemetry-sdk->arize-phoenix==2.2.1) (8.5.0)\n",
            "Requirement already satisfied: pytz>=2020.1 in /usr/local/lib/python3.11/dist-packages (from pandas->llama-index==0.9.45.post1) (2024.2)\n",
            "Requirement already satisfied: tzdata>=2022.7 in /usr/local/lib/python3.11/dist-packages (from pandas->llama-index==0.9.45.post1) (2024.2)\n",
            "Requirement already satisfied: numba>=0.51.2 in /usr/local/lib/python3.11/dist-packages (from umap-learn->arize-phoenix==2.2.1) (0.60.0)\n",
            "Collecting pynndescent>=0.5 (from umap-learn->arize-phoenix==2.2.1)\n",
            "  Downloading pynndescent-0.5.13-py3-none-any.whl.metadata (6.8 kB)\n",
            "Requirement already satisfied: parso<0.9.0,>=0.8.4 in /usr/local/lib/python3.11/dist-packages (from jedi>=0.16->ipython>=5.3.0->pyvis) (0.8.4)\n",
            "Requirement already satisfied: packaging>=17.0 in /usr/local/lib/python3.11/dist-packages (from marshmallow<4.0.0,>=3.18.0->dataclasses-json->llama-index==0.9.45.post1) (24.2)\n",
            "Requirement already satisfied: llvmlite<0.44,>=0.43.0dev0 in /usr/local/lib/python3.11/dist-packages (from numba>=0.51.2->umap-learn->arize-phoenix==2.2.1) (0.43.0)\n",
            "Requirement already satisfied: ptyprocess>=0.5 in /usr/local/lib/python3.11/dist-packages (from pexpect>4.3->ipython>=5.3.0->pyvis) (0.7.0)\n",
            "Requirement already satisfied: wcwidth in /usr/local/lib/python3.11/dist-packages (from prompt-toolkit!=3.0.0,!=3.0.1,<3.1.0,>=2.0.0->ipython>=5.3.0->pyvis) (0.2.13)\n",
            "Requirement already satisfied: annotated-types>=0.6.0 in /usr/local/lib/python3.11/dist-packages (from pydantic<3,>=1.9.0->openai>=1.1.0->llama-index==0.9.45.post1) (0.7.0)\n",
            "Requirement already satisfied: pydantic-core==2.27.2 in /usr/local/lib/python3.11/dist-packages (from pydantic<3,>=1.9.0->openai>=1.1.0->llama-index==0.9.45.post1) (2.27.2)\n",
            "Requirement already satisfied: zipp>=3.20 in /usr/local/lib/python3.11/dist-packages (from importlib-metadata<=8.5.0,>=6.0->opentelemetry-api==1.29.0->opentelemetry-sdk->arize-phoenix==2.2.1) (3.21.0)\n",
            "Downloading llama_index-0.9.45.post1-py3-none-any.whl (15.9 MB)\n",
            "\u001b[2K   \u001b[90m━━━━━━━━━━━━━━━━━━━━━━━━━━━━━━━━━━━━━━━━\u001b[0m \u001b[32m15.9/15.9 MB\u001b[0m \u001b[31m36.7 MB/s\u001b[0m eta \u001b[36m0:00:00\u001b[0m\n",
            "\u001b[?25hDownloading arize_phoenix-2.2.1-py3-none-any.whl (1.2 MB)\n",
            "\u001b[2K   \u001b[90m━━━━━━━━━━━━━━━━━━━━━━━━━━━━━━━━━━━━━━━━\u001b[0m \u001b[32m1.2/1.2 MB\u001b[0m \u001b[31m69.1 MB/s\u001b[0m eta \u001b[36m0:00:00\u001b[0m\n",
            "\u001b[?25hDownloading strawberry_graphql-0.208.2-py3-none-any.whl (269 kB)\n",
            "\u001b[2K   \u001b[90m━━━━━━━━━━━━━━━━━━━━━━━━━━━━━━━━━━━━━━━━\u001b[0m \u001b[32m269.0/269.0 kB\u001b[0m \u001b[31m24.7 MB/s\u001b[0m eta \u001b[36m0:00:00\u001b[0m\n",
            "\u001b[?25hDownloading pyvis-0.3.2-py3-none-any.whl (756 kB)\n",
            "\u001b[2K   \u001b[90m━━━━━━━━━━━━━━━━━━━━━━━━━━━━━━━━━━━━━━━━\u001b[0m \u001b[32m756.0/756.0 kB\u001b[0m \u001b[31m56.8 MB/s\u001b[0m eta \u001b[36m0:00:00\u001b[0m\n",
            "\u001b[?25hDownloading dirtyjson-1.0.8-py3-none-any.whl (25 kB)\n",
            "Downloading hdbscan-0.8.40-cp311-cp311-manylinux_2_17_x86_64.manylinux2014_x86_64.whl (4.6 MB)\n",
            "\u001b[2K   \u001b[90m━━━━━━━━━━━━━━━━━━━━━━━━━━━━━━━━━━━━━━━━\u001b[0m \u001b[32m4.6/4.6 MB\u001b[0m \u001b[31m86.4 MB/s\u001b[0m eta \u001b[36m0:00:00\u001b[0m\n",
            "\u001b[?25hDownloading scikit_learn-1.2.2-cp311-cp311-manylinux_2_17_x86_64.manylinux2014_x86_64.whl (9.6 MB)\n",
            "\u001b[2K   \u001b[90m━━━━━━━━━━━━━━━━━━━━━━━━━━━━━━━━━━━━━━━━\u001b[0m \u001b[32m9.6/9.6 MB\u001b[0m \u001b[31m84.5 MB/s\u001b[0m eta \u001b[36m0:00:00\u001b[0m\n",
            "\u001b[?25hDownloading tenacity-8.5.0-py3-none-any.whl (28 kB)\n",
            "Downloading tiktoken-0.8.0-cp311-cp311-manylinux_2_17_x86_64.manylinux2014_x86_64.whl (1.2 MB)\n",
            "\u001b[2K   \u001b[90m━━━━━━━━━━━━━━━━━━━━━━━━━━━━━━━━━━━━━━━━\u001b[0m \u001b[32m1.2/1.2 MB\u001b[0m \u001b[31m64.8 MB/s\u001b[0m eta \u001b[36m0:00:00\u001b[0m\n",
            "\u001b[?25hDownloading typing_inspect-0.9.0-py3-none-any.whl (8.8 kB)\n",
            "Downloading dataclasses_json-0.6.7-py3-none-any.whl (28 kB)\n",
            "Downloading ddsketch-3.0.1-py3-none-any.whl (19 kB)\n",
            "Downloading opentelemetry_proto-1.27.0-py3-none-any.whl (52 kB)\n",
            "\u001b[2K   \u001b[90m━━━━━━━━━━━━━━━━━━━━━━━━━━━━━━━━━━━━━━━━\u001b[0m \u001b[32m52.5/52.5 kB\u001b[0m \u001b[31m5.2 MB/s\u001b[0m eta \u001b[36m0:00:00\u001b[0m\n",
            "\u001b[?25hDownloading sortedcontainers-2.4.0-py2.py3-none-any.whl (29 kB)\n",
            "Downloading starlette-0.45.2-py3-none-any.whl (71 kB)\n",
            "\u001b[2K   \u001b[90m━━━━━━━━━━━━━━━━━━━━━━━━━━━━━━━━━━━━━━━━\u001b[0m \u001b[32m71.5/71.5 kB\u001b[0m \u001b[31m7.8 MB/s\u001b[0m eta \u001b[36m0:00:00\u001b[0m\n",
            "\u001b[?25hDownloading umap_learn-0.5.7-py3-none-any.whl (88 kB)\n",
            "\u001b[2K   \u001b[90m━━━━━━━━━━━━━━━━━━━━━━━━━━━━━━━━━━━━━━━━\u001b[0m \u001b[32m88.8/88.8 kB\u001b[0m \u001b[31m10.0 MB/s\u001b[0m eta \u001b[36m0:00:00\u001b[0m\n",
            "\u001b[?25hDownloading uvicorn-0.34.0-py3-none-any.whl (62 kB)\n",
            "\u001b[2K   \u001b[90m━━━━━━━━━━━━━━━━━━━━━━━━━━━━━━━━━━━━━━━━\u001b[0m \u001b[32m62.3/62.3 kB\u001b[0m \u001b[31m1.3 MB/s\u001b[0m eta \u001b[36m0:00:00\u001b[0m\n",
            "\u001b[?25hDownloading graphql_core-3.2.5-py3-none-any.whl (203 kB)\n",
            "\u001b[2K   \u001b[90m━━━━━━━━━━━━━━━━━━━━━━━━━━━━━━━━━━━━━━━━\u001b[0m \u001b[32m203.2/203.2 kB\u001b[0m \u001b[31m11.9 MB/s\u001b[0m eta \u001b[36m0:00:00\u001b[0m\n",
            "\u001b[?25hDownloading jedi-0.19.2-py2.py3-none-any.whl (1.6 MB)\n",
            "\u001b[2K   \u001b[90m━━━━━━━━━━━━━━━━━━━━━━━━━━━━━━━━━━━━━━━━\u001b[0m \u001b[32m1.6/1.6 MB\u001b[0m \u001b[31m74.4 MB/s\u001b[0m eta \u001b[36m0:00:00\u001b[0m\n",
            "\u001b[?25hDownloading marshmallow-3.25.1-py3-none-any.whl (49 kB)\n",
            "\u001b[2K   \u001b[90m━━━━━━━━━━━━━━━━━━━━━━━━━━━━━━━━━━━━━━━━\u001b[0m \u001b[32m49.6/49.6 kB\u001b[0m \u001b[31m5.1 MB/s\u001b[0m eta \u001b[36m0:00:00\u001b[0m\n",
            "\u001b[?25hDownloading mypy_extensions-1.0.0-py3-none-any.whl (4.7 kB)\n",
            "Downloading pynndescent-0.5.13-py3-none-any.whl (56 kB)\n",
            "\u001b[2K   \u001b[90m━━━━━━━━━━━━━━━━━━━━━━━━━━━━━━━━━━━━━━━━\u001b[0m \u001b[32m56.9/56.9 kB\u001b[0m \u001b[31m5.1 MB/s\u001b[0m eta \u001b[36m0:00:00\u001b[0m\n",
            "\u001b[?25hInstalling collected packages: sortedcontainers, dirtyjson, uvicorn, tenacity, opentelemetry-proto, mypy-extensions, marshmallow, jedi, graphql-core, ddsketch, typing-inspect, tiktoken, strawberry-graphql, starlette, scikit-learn, pyvis, pynndescent, hdbscan, dataclasses-json, umap-learn, llama-index, arize-phoenix\n",
            "  Attempting uninstall: tenacity\n",
            "    Found existing installation: tenacity 9.0.0\n",
            "    Uninstalling tenacity-9.0.0:\n",
            "      Successfully uninstalled tenacity-9.0.0\n",
            "  Attempting uninstall: scikit-learn\n",
            "    Found existing installation: scikit-learn 1.6.0\n",
            "    Uninstalling scikit-learn-1.6.0:\n",
            "      Successfully uninstalled scikit-learn-1.6.0\n",
            "\u001b[31mERROR: pip's dependency resolver does not currently take into account all the packages that are installed. This behaviour is the source of the following dependency conflicts.\n",
            "mlxtend 0.23.3 requires scikit-learn>=1.3.1, but you have scikit-learn 1.2.2 which is incompatible.\n",
            "imbalanced-learn 0.13.0 requires scikit-learn<2,>=1.3.2, but you have scikit-learn 1.2.2 which is incompatible.\u001b[0m\u001b[31m\n",
            "\u001b[0mSuccessfully installed arize-phoenix-2.2.1 dataclasses-json-0.6.7 ddsketch-3.0.1 dirtyjson-1.0.8 graphql-core-3.2.5 hdbscan-0.8.40 jedi-0.19.2 llama-index-0.9.45.post1 marshmallow-3.25.1 mypy-extensions-1.0.0 opentelemetry-proto-1.27.0 pynndescent-0.5.13 pyvis-0.3.2 scikit-learn-1.2.2 sortedcontainers-2.4.0 starlette-0.45.2 strawberry-graphql-0.208.2 tenacity-8.5.0 tiktoken-0.8.0 typing-inspect-0.9.0 umap-learn-0.5.7 uvicorn-0.34.0\n"
          ]
        }
      ],
      "source": [
        "!pip install llama-index==0.9.45.post1 arize-phoenix==2.2.1 pyvis"
      ]
    },
    {
      "cell_type": "code",
      "source": [
        "from llama_index.query_pipeline import (\n",
        "    QueryPipeline as QP,\n",
        "    Link,\n",
        "    InputComponent,\n",
        ")\n",
        "from llama_index.query_engine.pandas import PandasInstructionParser\n",
        "from llama_index.llms import OpenAI\n",
        "from llama_index.prompts import PromptTemplate"
      ],
      "metadata": {
        "id": "rcw8zdsya83P"
      },
      "execution_count": null,
      "outputs": []
    },
    {
      "cell_type": "code",
      "source": [
        "import os\n",
        "from google.colab import userdata\n",
        "os.environ[\"OPENAI_API_KEY\"] = userdata.get('OPENAI_API_KEY')"
      ],
      "metadata": {
        "id": "EqJ8WmkjbA0L"
      },
      "execution_count": 87,
      "outputs": []
    },
    {
      "cell_type": "code",
      "source": [
        "from google.colab import drive\n",
        "drive.mount('/content/drive')"
      ],
      "metadata": {
        "colab": {
          "base_uri": "https://localhost:8080/"
        },
        "id": "o9TS-fAZbHoW",
        "outputId": "49b7610a-2732-4c37-95ef-840322313217"
      },
      "execution_count": null,
      "outputs": [
        {
          "output_type": "stream",
          "name": "stdout",
          "text": [
            "Mounted at /content/drive\n"
          ]
        }
      ]
    },
    {
      "cell_type": "code",
      "source": [
        "import pandas as pd\n",
        "file_path = '/content/drive/My Drive/train.csv'\n",
        "df = pd.read_csv(file_path)\n",
        "df.head(5)"
      ],
      "metadata": {
        "colab": {
          "base_uri": "https://localhost:8080/",
          "height": 206
        },
        "id": "PN9Zf5rvbIS_",
        "outputId": "3c5aa5a0-d2fa-48ba-c192-7b939ddbb3b4"
      },
      "execution_count": null,
      "outputs": [
        {
          "output_type": "execute_result",
          "data": {
            "text/plain": [
              "                                            Question            Source  \\\n",
              "0               what is the full name of the company  Customer Profile   \n",
              "1                   what is duetto's company website  Customer Profile   \n",
              "2                        what is the company address  Customer Profile   \n",
              "3  please provide a duetto company brief description  Customer Profile   \n",
              "4  please provide a duetto company detailed descr...  Customer Profile   \n",
              "\n",
              "   Category                                             Answer  \n",
              "0  Business                                Duetto Research Inc  \n",
              "1  Business                        https://www.duettocloud.com  \n",
              "2  Business       333 Bush Street, Floor 4\\nSan Francisco, CA   \n",
              "3  Business      Hotel revenue management software & solutions  \n",
              "4  Business  Cloud-based, scalable, and easy-to-use\n",
              "revenue...  "
            ],
            "text/html": [
              "\n",
              "  <div id=\"df-3c18194c-f5a2-45a5-81a3-955c1855bb99\" class=\"colab-df-container\">\n",
              "    <div>\n",
              "<style scoped>\n",
              "    .dataframe tbody tr th:only-of-type {\n",
              "        vertical-align: middle;\n",
              "    }\n",
              "\n",
              "    .dataframe tbody tr th {\n",
              "        vertical-align: top;\n",
              "    }\n",
              "\n",
              "    .dataframe thead th {\n",
              "        text-align: right;\n",
              "    }\n",
              "</style>\n",
              "<table border=\"1\" class=\"dataframe\">\n",
              "  <thead>\n",
              "    <tr style=\"text-align: right;\">\n",
              "      <th></th>\n",
              "      <th>Question</th>\n",
              "      <th>Source</th>\n",
              "      <th>Category</th>\n",
              "      <th>Answer</th>\n",
              "    </tr>\n",
              "  </thead>\n",
              "  <tbody>\n",
              "    <tr>\n",
              "      <th>0</th>\n",
              "      <td>what is the full name of the company</td>\n",
              "      <td>Customer Profile</td>\n",
              "      <td>Business</td>\n",
              "      <td>Duetto Research Inc</td>\n",
              "    </tr>\n",
              "    <tr>\n",
              "      <th>1</th>\n",
              "      <td>what is duetto's company website</td>\n",
              "      <td>Customer Profile</td>\n",
              "      <td>Business</td>\n",
              "      <td>https://www.duettocloud.com</td>\n",
              "    </tr>\n",
              "    <tr>\n",
              "      <th>2</th>\n",
              "      <td>what is the company address</td>\n",
              "      <td>Customer Profile</td>\n",
              "      <td>Business</td>\n",
              "      <td>333 Bush Street, Floor 4\\nSan Francisco, CA</td>\n",
              "    </tr>\n",
              "    <tr>\n",
              "      <th>3</th>\n",
              "      <td>please provide a duetto company brief description</td>\n",
              "      <td>Customer Profile</td>\n",
              "      <td>Business</td>\n",
              "      <td>Hotel revenue management software &amp; solutions</td>\n",
              "    </tr>\n",
              "    <tr>\n",
              "      <th>4</th>\n",
              "      <td>please provide a duetto company detailed descr...</td>\n",
              "      <td>Customer Profile</td>\n",
              "      <td>Business</td>\n",
              "      <td>Cloud-based, scalable, and easy-to-use revenue...</td>\n",
              "    </tr>\n",
              "  </tbody>\n",
              "</table>\n",
              "</div>\n",
              "    <div class=\"colab-df-buttons\">\n",
              "\n",
              "  <div class=\"colab-df-container\">\n",
              "    <button class=\"colab-df-convert\" onclick=\"convertToInteractive('df-3c18194c-f5a2-45a5-81a3-955c1855bb99')\"\n",
              "            title=\"Convert this dataframe to an interactive table.\"\n",
              "            style=\"display:none;\">\n",
              "\n",
              "  <svg xmlns=\"http://www.w3.org/2000/svg\" height=\"24px\" viewBox=\"0 -960 960 960\">\n",
              "    <path d=\"M120-120v-720h720v720H120Zm60-500h600v-160H180v160Zm220 220h160v-160H400v160Zm0 220h160v-160H400v160ZM180-400h160v-160H180v160Zm440 0h160v-160H620v160ZM180-180h160v-160H180v160Zm440 0h160v-160H620v160Z\"/>\n",
              "  </svg>\n",
              "    </button>\n",
              "\n",
              "  <style>\n",
              "    .colab-df-container {\n",
              "      display:flex;\n",
              "      gap: 12px;\n",
              "    }\n",
              "\n",
              "    .colab-df-convert {\n",
              "      background-color: #E8F0FE;\n",
              "      border: none;\n",
              "      border-radius: 50%;\n",
              "      cursor: pointer;\n",
              "      display: none;\n",
              "      fill: #1967D2;\n",
              "      height: 32px;\n",
              "      padding: 0 0 0 0;\n",
              "      width: 32px;\n",
              "    }\n",
              "\n",
              "    .colab-df-convert:hover {\n",
              "      background-color: #E2EBFA;\n",
              "      box-shadow: 0px 1px 2px rgba(60, 64, 67, 0.3), 0px 1px 3px 1px rgba(60, 64, 67, 0.15);\n",
              "      fill: #174EA6;\n",
              "    }\n",
              "\n",
              "    .colab-df-buttons div {\n",
              "      margin-bottom: 4px;\n",
              "    }\n",
              "\n",
              "    [theme=dark] .colab-df-convert {\n",
              "      background-color: #3B4455;\n",
              "      fill: #D2E3FC;\n",
              "    }\n",
              "\n",
              "    [theme=dark] .colab-df-convert:hover {\n",
              "      background-color: #434B5C;\n",
              "      box-shadow: 0px 1px 3px 1px rgba(0, 0, 0, 0.15);\n",
              "      filter: drop-shadow(0px 1px 2px rgba(0, 0, 0, 0.3));\n",
              "      fill: #FFFFFF;\n",
              "    }\n",
              "  </style>\n",
              "\n",
              "    <script>\n",
              "      const buttonEl =\n",
              "        document.querySelector('#df-3c18194c-f5a2-45a5-81a3-955c1855bb99 button.colab-df-convert');\n",
              "      buttonEl.style.display =\n",
              "        google.colab.kernel.accessAllowed ? 'block' : 'none';\n",
              "\n",
              "      async function convertToInteractive(key) {\n",
              "        const element = document.querySelector('#df-3c18194c-f5a2-45a5-81a3-955c1855bb99');\n",
              "        const dataTable =\n",
              "          await google.colab.kernel.invokeFunction('convertToInteractive',\n",
              "                                                    [key], {});\n",
              "        if (!dataTable) return;\n",
              "\n",
              "        const docLinkHtml = 'Like what you see? Visit the ' +\n",
              "          '<a target=\"_blank\" href=https://colab.research.google.com/notebooks/data_table.ipynb>data table notebook</a>'\n",
              "          + ' to learn more about interactive tables.';\n",
              "        element.innerHTML = '';\n",
              "        dataTable['output_type'] = 'display_data';\n",
              "        await google.colab.output.renderOutput(dataTable, element);\n",
              "        const docLink = document.createElement('div');\n",
              "        docLink.innerHTML = docLinkHtml;\n",
              "        element.appendChild(docLink);\n",
              "      }\n",
              "    </script>\n",
              "  </div>\n",
              "\n",
              "\n",
              "<div id=\"df-026c5a46-1ee0-4142-94be-7f524f7c9a32\">\n",
              "  <button class=\"colab-df-quickchart\" onclick=\"quickchart('df-026c5a46-1ee0-4142-94be-7f524f7c9a32')\"\n",
              "            title=\"Suggest charts\"\n",
              "            style=\"display:none;\">\n",
              "\n",
              "<svg xmlns=\"http://www.w3.org/2000/svg\" height=\"24px\"viewBox=\"0 0 24 24\"\n",
              "     width=\"24px\">\n",
              "    <g>\n",
              "        <path d=\"M19 3H5c-1.1 0-2 .9-2 2v14c0 1.1.9 2 2 2h14c1.1 0 2-.9 2-2V5c0-1.1-.9-2-2-2zM9 17H7v-7h2v7zm4 0h-2V7h2v10zm4 0h-2v-4h2v4z\"/>\n",
              "    </g>\n",
              "</svg>\n",
              "  </button>\n",
              "\n",
              "<style>\n",
              "  .colab-df-quickchart {\n",
              "      --bg-color: #E8F0FE;\n",
              "      --fill-color: #1967D2;\n",
              "      --hover-bg-color: #E2EBFA;\n",
              "      --hover-fill-color: #174EA6;\n",
              "      --disabled-fill-color: #AAA;\n",
              "      --disabled-bg-color: #DDD;\n",
              "  }\n",
              "\n",
              "  [theme=dark] .colab-df-quickchart {\n",
              "      --bg-color: #3B4455;\n",
              "      --fill-color: #D2E3FC;\n",
              "      --hover-bg-color: #434B5C;\n",
              "      --hover-fill-color: #FFFFFF;\n",
              "      --disabled-bg-color: #3B4455;\n",
              "      --disabled-fill-color: #666;\n",
              "  }\n",
              "\n",
              "  .colab-df-quickchart {\n",
              "    background-color: var(--bg-color);\n",
              "    border: none;\n",
              "    border-radius: 50%;\n",
              "    cursor: pointer;\n",
              "    display: none;\n",
              "    fill: var(--fill-color);\n",
              "    height: 32px;\n",
              "    padding: 0;\n",
              "    width: 32px;\n",
              "  }\n",
              "\n",
              "  .colab-df-quickchart:hover {\n",
              "    background-color: var(--hover-bg-color);\n",
              "    box-shadow: 0 1px 2px rgba(60, 64, 67, 0.3), 0 1px 3px 1px rgba(60, 64, 67, 0.15);\n",
              "    fill: var(--button-hover-fill-color);\n",
              "  }\n",
              "\n",
              "  .colab-df-quickchart-complete:disabled,\n",
              "  .colab-df-quickchart-complete:disabled:hover {\n",
              "    background-color: var(--disabled-bg-color);\n",
              "    fill: var(--disabled-fill-color);\n",
              "    box-shadow: none;\n",
              "  }\n",
              "\n",
              "  .colab-df-spinner {\n",
              "    border: 2px solid var(--fill-color);\n",
              "    border-color: transparent;\n",
              "    border-bottom-color: var(--fill-color);\n",
              "    animation:\n",
              "      spin 1s steps(1) infinite;\n",
              "  }\n",
              "\n",
              "  @keyframes spin {\n",
              "    0% {\n",
              "      border-color: transparent;\n",
              "      border-bottom-color: var(--fill-color);\n",
              "      border-left-color: var(--fill-color);\n",
              "    }\n",
              "    20% {\n",
              "      border-color: transparent;\n",
              "      border-left-color: var(--fill-color);\n",
              "      border-top-color: var(--fill-color);\n",
              "    }\n",
              "    30% {\n",
              "      border-color: transparent;\n",
              "      border-left-color: var(--fill-color);\n",
              "      border-top-color: var(--fill-color);\n",
              "      border-right-color: var(--fill-color);\n",
              "    }\n",
              "    40% {\n",
              "      border-color: transparent;\n",
              "      border-right-color: var(--fill-color);\n",
              "      border-top-color: var(--fill-color);\n",
              "    }\n",
              "    60% {\n",
              "      border-color: transparent;\n",
              "      border-right-color: var(--fill-color);\n",
              "    }\n",
              "    80% {\n",
              "      border-color: transparent;\n",
              "      border-right-color: var(--fill-color);\n",
              "      border-bottom-color: var(--fill-color);\n",
              "    }\n",
              "    90% {\n",
              "      border-color: transparent;\n",
              "      border-bottom-color: var(--fill-color);\n",
              "    }\n",
              "  }\n",
              "</style>\n",
              "\n",
              "  <script>\n",
              "    async function quickchart(key) {\n",
              "      const quickchartButtonEl =\n",
              "        document.querySelector('#' + key + ' button');\n",
              "      quickchartButtonEl.disabled = true;  // To prevent multiple clicks.\n",
              "      quickchartButtonEl.classList.add('colab-df-spinner');\n",
              "      try {\n",
              "        const charts = await google.colab.kernel.invokeFunction(\n",
              "            'suggestCharts', [key], {});\n",
              "      } catch (error) {\n",
              "        console.error('Error during call to suggestCharts:', error);\n",
              "      }\n",
              "      quickchartButtonEl.classList.remove('colab-df-spinner');\n",
              "      quickchartButtonEl.classList.add('colab-df-quickchart-complete');\n",
              "    }\n",
              "    (() => {\n",
              "      let quickchartButtonEl =\n",
              "        document.querySelector('#df-026c5a46-1ee0-4142-94be-7f524f7c9a32 button');\n",
              "      quickchartButtonEl.style.display =\n",
              "        google.colab.kernel.accessAllowed ? 'block' : 'none';\n",
              "    })();\n",
              "  </script>\n",
              "</div>\n",
              "\n",
              "    </div>\n",
              "  </div>\n"
            ],
            "application/vnd.google.colaboratory.intrinsic+json": {
              "type": "dataframe",
              "variable_name": "df",
              "summary": "{\n  \"name\": \"df\",\n  \"rows\": 513,\n  \"fields\": [\n    {\n      \"column\": \"Question\",\n      \"properties\": {\n        \"dtype\": \"string\",\n        \"num_unique_values\": 510,\n        \"samples\": [\n          \"Do you coordinate with other integrated vendors when you are making enhancements to the RMS that impact the interface or vice versa\",\n          \"Do you have a dedicated testing system or testing environment\",\n          \"What is your average interface up time\"\n        ],\n        \"semantic_type\": \"\",\n        \"description\": \"\"\n      }\n    },\n    {\n      \"column\": \"Source\",\n      \"properties\": {\n        \"dtype\": \"category\",\n        \"num_unique_values\": 4,\n        \"samples\": [\n          \"Derivative\",\n          \"Contacts\",\n          \"Customer Profile\"\n        ],\n        \"semantic_type\": \"\",\n        \"description\": \"\"\n      }\n    },\n    {\n      \"column\": \"Category\",\n      \"properties\": {\n        \"dtype\": \"category\",\n        \"num_unique_values\": 2,\n        \"samples\": [\n          \"Security\",\n          \"Business\"\n        ],\n        \"semantic_type\": \"\",\n        \"description\": \"\"\n      }\n    },\n    {\n      \"column\": \"Answer\",\n      \"properties\": {\n        \"dtype\": \"string\",\n        \"num_unique_values\": 380,\n        \"samples\": [\n          \"Every optimization runs for 365 days.\",\n          \"We do not charge more. Duetto will evaluate groups up to 5 years out.\"\n        ],\n        \"semantic_type\": \"\",\n        \"description\": \"\"\n      }\n    }\n  ]\n}"
            }
          },
          "metadata": {},
          "execution_count": 5
        }
      ]
    },
    {
      "cell_type": "code",
      "source": [
        "instruction_str = (\n",
        "    \"1. Convert the query to executable Python code using Pandas.\\n\"\n",
        "    \"2. The final line of code should be a Python expression that can be called with the `eval()` function.\\n\"\n",
        "    \"3. The code should represent a solution to the query.\\n\"\n",
        "    \"4. PRINT ONLY THE EXPRESSION.\\n\"\n",
        "    \"5. Do not quote the expression.\\n\"\n",
        ")\n",
        "\n",
        "pandas_prompt_str = (\n",
        "    \"You are working with a pandas dataframe in Python try to find answer or solution in df.\\n\"\n",
        "    \"The name of the dataframe is `df`.\\n\"\n",
        "    \"This is the result of `print(df.head())`:\\n\"\n",
        "    \"{df_str}\\n\\n\"\n",
        "    \"Follow these instructions:\\n\"\n",
        "    \"{instruction_str}\\n\"\n",
        "    \"Query: {query_str}\\n\\n\"\n",
        "    \"Expression:\"\n",
        ")\n",
        "response_synthesis_prompt_str = (\n",
        "    \"Given an input question, synthesize a response from the query results.\\n\"\n",
        "    \"Query: {query_str}\\n\\n\"\n",
        "    \"Pandas Instructions (optional):\\n{pandas_instructions}\\n\\n\"\n",
        "    \"Pandas Output: {pandas_output}\\n\\n\"\n",
        "    \"Response: \"\n",
        ")\n",
        "\n",
        "pandas_prompt = PromptTemplate(pandas_prompt_str).partial_format(\n",
        "    instruction_str=instruction_str, df_str=df.head(5)\n",
        ")\n",
        "pandas_output_parser = PandasInstructionParser(df)\n",
        "response_synthesis_prompt = PromptTemplate(response_synthesis_prompt_str)\n",
        "llm = OpenAI(model=\"gpt-4\")"
      ],
      "metadata": {
        "id": "1Dzza9YnblB_"
      },
      "execution_count": 88,
      "outputs": []
    },
    {
      "cell_type": "code",
      "source": [
        "qp = QP(\n",
        "    modules={\n",
        "        \"input\": InputComponent(),\n",
        "        \"pandas_prompt\": pandas_prompt,\n",
        "        \"llm1\": llm,\n",
        "        \"pandas_output_parser\": pandas_output_parser,\n",
        "        \"response_synthesis_prompt\": response_synthesis_prompt,\n",
        "        \"llm2\": llm,\n",
        "    },\n",
        "    verbose=True,\n",
        ")\n",
        "qp.add_chain([\"input\", \"pandas_prompt\", \"llm1\", \"pandas_output_parser\"])\n",
        "qp.add_links(\n",
        "    [\n",
        "        Link(\"input\", \"response_synthesis_prompt\", dest_key=\"query_str\"),\n",
        "        Link(\n",
        "            \"llm1\", \"response_synthesis_prompt\", dest_key=\"pandas_instructions\"\n",
        "        ),\n",
        "        Link(\n",
        "            \"pandas_output_parser\",\n",
        "            \"response_synthesis_prompt\",\n",
        "            dest_key=\"pandas_output\",\n",
        "        ),\n",
        "    ]\n",
        ")\n",
        "qp.add_link(\"response_synthesis_prompt\", \"llm2\")"
      ],
      "metadata": {
        "id": "QZl254Avbt4N"
      },
      "execution_count": 89,
      "outputs": []
    },
    {
      "cell_type": "code",
      "source": [
        "df.isnull().sum()\n",
        "df.fillna(0, inplace=True)"
      ],
      "metadata": {
        "id": "-hHUAyQSd5H-"
      },
      "execution_count": 90,
      "outputs": []
    },
    {
      "cell_type": "code",
      "source": [
        "response = qp.run(\n",
        "    query_str=\"Product list ?\",\n",
        ")"
      ],
      "metadata": {
        "colab": {
          "base_uri": "https://localhost:8080/"
        },
        "id": "giMD24jIb1vd",
        "outputId": "0b964a2e-a5e7-40dd-ea4b-ca32e09f679d"
      },
      "execution_count": 91,
      "outputs": [
        {
          "output_type": "stream",
          "name": "stdout",
          "text": [
            "\u001b[1;3;38;2;155;135;227m> Running module input with input: \n",
            "query_str: Product list ?\n",
            "\n",
            "\u001b[0m\u001b[1;3;38;2;155;135;227m> Running module pandas_prompt with input: \n",
            "query_str: Product list ?\n",
            "\n",
            "\u001b[0m\u001b[1;3;38;2;155;135;227m> Running module llm1 with input: \n",
            "messages: You are working with a pandas dataframe in Python try to find answer or solution in df.\n",
            "The name of the dataframe is `df`.\n",
            "This is the result of `print(df.head())`:\n",
            "  Unnamed: 0        Unnamed: 1     ...\n",
            "\n",
            "\u001b[0m\u001b[1;3;38;2;155;135;227m> Running module pandas_output_parser with input: \n",
            "input: assistant: df['Unnamed: 3'].unique()\n",
            "\n",
            "\u001b[0m\u001b[1;3;38;2;155;135;227m> Running module response_synthesis_prompt with input: \n",
            "query_str: Product list ?\n",
            "pandas_instructions: assistant: df['Unnamed: 3'].unique()\n",
            "pandas_output: [0 'Theme' 'Algorithms, Analytics & Forecasting']\n",
            "\n",
            "\u001b[0m\u001b[1;3;38;2;155;135;227m> Running module llm2 with input: \n",
            "messages: Given an input question, synthesize a response from the query results.\n",
            "Query: Product list ?\n",
            "\n",
            "Pandas Instructions (optional):\n",
            "df['Unnamed: 3'].unique()\n",
            "\n",
            "Pandas Output: [0 'Theme' 'Algorithms, Analytic...\n",
            "\n",
            "\u001b[0m"
          ]
        }
      ]
    },
    {
      "cell_type": "code",
      "source": [
        "print(response.message.content)"
      ],
      "metadata": {
        "id": "Ni_G2Wzlb8B1"
      },
      "execution_count": null,
      "outputs": []
    },
    {
      "cell_type": "code",
      "source": [],
      "metadata": {
        "id": "TJw6UjaGcPpc"
      },
      "execution_count": null,
      "outputs": []
    },
    {
      "cell_type": "code",
      "source": [],
      "metadata": {
        "id": "hDRuSLlOhBHo"
      },
      "execution_count": null,
      "outputs": []
    },
    {
      "cell_type": "code",
      "source": [],
      "metadata": {
        "id": "-edLLIZ9hBJ1"
      },
      "execution_count": null,
      "outputs": []
    },
    {
      "cell_type": "code",
      "source": [],
      "metadata": {
        "id": "wlv26xuIhBL-"
      },
      "execution_count": null,
      "outputs": []
    },
    {
      "cell_type": "code",
      "source": [
        "import pandas as pd\n",
        "from pathlib import Path\n",
        "\n",
        "data_dir = Path('/content/drive/My Drive/Train_folder/')\n",
        "csv_files = sorted([f for f in data_dir.glob(\"*.csv\")])\n",
        "dfs = []\n",
        "for csv_file in csv_files:\n",
        "    print(f\"processing file: {csv_file}\")\n",
        "    try:\n",
        "        df = pd.read_csv(csv_file)\n",
        "        dfs.append(df)\n",
        "    except Exception as e:\n",
        "        print(f\"Error parsing {csv_file}: {str(e)}\")"
      ],
      "metadata": {
        "colab": {
          "base_uri": "https://localhost:8080/"
        },
        "id": "WsHPUrBOhBOH",
        "outputId": "9ec95c86-0c9a-4585-a303-3d005bdbe0bb"
      },
      "execution_count": null,
      "outputs": [
        {
          "output_type": "stream",
          "name": "stdout",
          "text": [
            "processing file: /content/drive/My Drive/Train_folder/Duetto - normalized.xlsx - Normalized.csv\n",
            "processing file: /content/drive/My Drive/Train_folder/Duetto-RFP-Q&A v2.xlsx - Q&A.csv\n"
          ]
        }
      ]
    },
    {
      "cell_type": "code",
      "source": [
        "csv_files"
      ],
      "metadata": {
        "colab": {
          "base_uri": "https://localhost:8080/"
        },
        "id": "wDQ46sYh88Or",
        "outputId": "e9d0efc6-d1c3-455a-ae7b-41a5bfdc7f1e"
      },
      "execution_count": null,
      "outputs": [
        {
          "output_type": "execute_result",
          "data": {
            "text/plain": [
              "[PosixPath('/content/drive/My Drive/Train_folder/Duetto - normalized.xlsx - Normalized.csv'),\n",
              " PosixPath('/content/drive/My Drive/Train_folder/Duetto-RFP-Q&A v2.xlsx - Q&A.csv')]"
            ]
          },
          "metadata": {},
          "execution_count": 20
        }
      ]
    },
    {
      "cell_type": "code",
      "source": [
        "tableinfo_dir = \"TableInfo\"\n",
        "!mkdir {tableinfo_dir}"
      ],
      "metadata": {
        "id": "WK7PIwFc_lYZ"
      },
      "execution_count": null,
      "outputs": []
    },
    {
      "cell_type": "code",
      "source": [
        "from llama_index.program import LLMTextCompletionProgram\n",
        "from llama_index.bridge.pydantic import BaseModel, Field\n",
        "from llama_index.llms import OpenAI\n",
        "\n",
        "\n",
        "class TableInfo(BaseModel):\n",
        "    \"\"\"Information regarding a structured table.\"\"\"\n",
        "\n",
        "    table_name: str = Field(\n",
        "        ..., description=\"table name (must be underscores and NO spaces)\"\n",
        "    )\n",
        "    table_summary: str = Field(\n",
        "        ..., description=\"short, concise summary/caption of the table\"\n",
        "    )\n",
        "\n",
        "\n",
        "prompt_str = \"\"\"\\\n",
        "Give me a summary of the table with the following JSON format.\n",
        "\n",
        "- The table name must be unique to the table and describe it while being concise.\n",
        "- Do NOT output a generic table name (e.g. table, my_table).\n",
        "\n",
        "Do NOT make the table name one of the following: {exclude_table_name_list}\n",
        "\n",
        "Table:\n",
        "{table_str}\n",
        "\n",
        "Summary: \"\"\"\n",
        "\n",
        "program = LLMTextCompletionProgram.from_defaults(\n",
        "    output_cls=TableInfo,\n",
        "    llm=OpenAI(model=\"gpt-4\"),\n",
        "    prompt_template_str=prompt_str,\n",
        ")"
      ],
      "metadata": {
        "id": "-qbcshULAGtA"
      },
      "execution_count": null,
      "outputs": []
    },
    {
      "cell_type": "code",
      "source": [
        "import json\n",
        "\n",
        "\n",
        "def _get_tableinfo_with_index(idx: int) -> str:\n",
        "    results_gen = Path(tableinfo_dir).glob(f\"{idx}_*\")\n",
        "    results_list = list(results_gen)\n",
        "    if len(results_list) == 0:\n",
        "        return None\n",
        "    elif len(results_list) == 1:\n",
        "        path = results_list[0]\n",
        "        return TableInfo.parse_file(path)\n",
        "    else:\n",
        "        raise ValueError(\n",
        "            f\"More than one file matching index: {list(results_gen)}\"\n",
        "        )\n",
        "\n",
        "\n",
        "table_names = set()\n",
        "table_infos = []\n",
        "for idx, df in enumerate(dfs):\n",
        "    table_info = _get_tableinfo_with_index(idx)\n",
        "    if table_info:\n",
        "        table_infos.append(table_info)\n",
        "    else:\n",
        "        while True:\n",
        "            df_str = df.head(10).to_csv()\n",
        "            table_info = program(\n",
        "                table_str=df_str,\n",
        "                exclude_table_name_list=str(list(table_names)),\n",
        "            )\n",
        "            table_name = table_info.table_name\n",
        "            print(f\"Processed table: {table_name}\")\n",
        "            if table_name not in table_names:\n",
        "                table_names.add(table_name)\n",
        "                break\n",
        "            else:\n",
        "                # try again\n",
        "                print(f\"Table name {table_name} already exists, trying again.\")\n",
        "                pass\n",
        "\n",
        "        out_file = f\"{tableinfo_dir}/{idx}_{table_name}.json\"\n",
        "        json.dump(table_info.dict(), open(out_file, \"w\"))\n",
        "    table_infos.append(table_info)"
      ],
      "metadata": {
        "colab": {
          "base_uri": "https://localhost:8080/"
        },
        "id": "86GHy1zUAPNs",
        "outputId": "bd4aa72a-947d-43d6-9ee1-fffaaefe17a4"
      },
      "execution_count": null,
      "outputs": [
        {
          "output_type": "stream",
          "name": "stdout",
          "text": [
            "Processed table: duetto_company_profile\n",
            "Processed table: analytics_forecasting_responses\n"
          ]
        }
      ]
    },
    {
      "cell_type": "code",
      "source": [
        "# put data into sqlite db\n",
        "from sqlalchemy import (\n",
        "    create_engine,\n",
        "    MetaData,\n",
        "    Table,\n",
        "    Column,\n",
        "    String,\n",
        "    Integer,\n",
        ")\n",
        "import re\n",
        "\n",
        "\n",
        "# Function to create a sanitized column name\n",
        "def sanitize_column_name(col_name):\n",
        "    # Remove special characters and replace spaces with underscores\n",
        "    return re.sub(r\"\\W+\", \"_\", col_name)\n",
        "\n",
        "\n",
        "# Function to create a table from a DataFrame using SQLAlchemy\n",
        "def create_table_from_dataframe(\n",
        "    df: pd.DataFrame, table_name: str, engine, metadata_obj\n",
        "):\n",
        "    # Sanitize column names\n",
        "    sanitized_columns = {col: col for col in df.columns}\n",
        "    df = df.rename(columns=sanitized_columns)\n",
        "\n",
        "    # Dynamically create columns based on DataFrame columns and data types\n",
        "    columns = [\n",
        "        Column(col, String if dtype == \"object\" else Integer)\n",
        "        for col, dtype in zip(df.columns, df.dtypes)\n",
        "    ]\n",
        "\n",
        "    # Create a table with the defined columns\n",
        "    table = Table(table_name, metadata_obj, *columns)\n",
        "\n",
        "    # Create the table in the database\n",
        "    metadata_obj.create_all(engine)\n",
        "\n",
        "    # Insert data from DataFrame into the table\n",
        "    with engine.connect() as conn:\n",
        "        for _, row in df.iterrows():\n",
        "            insert_stmt = table.insert().values(**row.to_dict())\n",
        "            conn.execute(insert_stmt)\n",
        "        conn.commit()\n",
        "\n",
        "\n",
        "engine = create_engine(\"sqlite:///:memory:\")\n",
        "metadata_obj = MetaData()\n",
        "for idx, df in enumerate(dfs):\n",
        "    tableinfo = _get_tableinfo_with_index(idx)\n",
        "    print(f\"Creating table: {tableinfo.table_name}\")\n",
        "    create_table_from_dataframe(df, tableinfo.table_name, engine, metadata_obj)"
      ],
      "metadata": {
        "colab": {
          "base_uri": "https://localhost:8080/"
        },
        "id": "OzmqXF0uARgD",
        "outputId": "3f1ef0be-6fe5-4dd6-c094-60b733c7ab50"
      },
      "execution_count": null,
      "outputs": [
        {
          "output_type": "stream",
          "name": "stdout",
          "text": [
            "Creating table: duetto_company_profile\n",
            "Creating table: analytics_forecasting_responses\n"
          ]
        }
      ]
    },
    {
      "cell_type": "code",
      "source": [
        "from llama_index.objects import (\n",
        "    SQLTableNodeMapping,\n",
        "    ObjectIndex,\n",
        "    SQLTableSchema,\n",
        ")\n",
        "from llama_index import SQLDatabase, VectorStoreIndex\n",
        "\n",
        "sql_database = SQLDatabase(engine)\n",
        "\n",
        "table_node_mapping = SQLTableNodeMapping(sql_database)\n",
        "table_schema_objs = [\n",
        "    SQLTableSchema(table_name=t.table_name, context_str=t.table_summary)\n",
        "    for t in table_infos\n",
        "]  # add a SQLTableSchema for each table\n",
        "\n",
        "obj_index = ObjectIndex.from_objects(\n",
        "    table_schema_objs,\n",
        "    table_node_mapping,\n",
        "    VectorStoreIndex,\n",
        ")\n",
        "obj_retriever = obj_index.as_retriever(similarity_top_k=3)"
      ],
      "metadata": {
        "id": "MG_Z_0SSAm8H"
      },
      "execution_count": null,
      "outputs": []
    },
    {
      "cell_type": "code",
      "source": [
        "from llama_index.retrievers import SQLRetriever\n",
        "from typing import List\n",
        "from llama_index.query_pipeline import FnComponent\n",
        "\n",
        "sql_retriever = SQLRetriever(sql_database)\n",
        "\n",
        "\n",
        "def get_table_context_str(table_schema_objs: List[SQLTableSchema]):\n",
        "    \"\"\"Get table context string.\"\"\"\n",
        "    context_strs = []\n",
        "    for table_schema_obj in table_schema_objs:\n",
        "        table_info = sql_database.get_single_table_info(\n",
        "            table_schema_obj.table_name\n",
        "        )\n",
        "        if table_schema_obj.context_str:\n",
        "            table_opt_context = \" The table description is: \"\n",
        "            table_opt_context += table_schema_obj.context_str\n",
        "            table_info += table_opt_context\n",
        "\n",
        "        context_strs.append(table_info)\n",
        "    return \"\\n\\n\".join(context_strs)\n",
        "\n",
        "\n",
        "table_parser_component = FnComponent(fn=get_table_context_str)"
      ],
      "metadata": {
        "id": "AdzXehCZAn5J"
      },
      "execution_count": null,
      "outputs": []
    },
    {
      "cell_type": "code",
      "source": [
        "from llama_index.prompts.default_prompts import DEFAULT_TEXT_TO_SQL_PROMPT\n",
        "from llama_index.prompts import PromptTemplate\n",
        "from llama_index.query_pipeline import FnComponent\n",
        "from llama_index.llms import ChatResponse\n",
        "\n",
        "\n",
        "def parse_response_to_sql(response: ChatResponse) -> str:\n",
        "    \"\"\"Parse response to SQL.\"\"\"\n",
        "    response = response.message.content\n",
        "    sql_query_start = response.find(\"SQLQuery:\")\n",
        "    if sql_query_start != -1:\n",
        "        response = response[sql_query_start:]\n",
        "        # TODO: move to removeprefix after Python 3.9+\n",
        "        if response.startswith(\"SQLQuery:\"):\n",
        "            response = response[len(\"SQLQuery:\") :]\n",
        "    sql_result_start = response.find(\"SQLResult:\")\n",
        "    if sql_result_start != -1:\n",
        "        response = response[:sql_result_start]\n",
        "    return response.strip().strip(\"```\").strip()\n",
        "\n",
        "\n",
        "sql_parser_component = FnComponent(fn=parse_response_to_sql)\n",
        "\n",
        "text2sql_prompt = DEFAULT_TEXT_TO_SQL_PROMPT.partial_format(\n",
        "    dialect=engine.dialect.name\n",
        ")\n",
        "print(text2sql_prompt.template)"
      ],
      "metadata": {
        "colab": {
          "base_uri": "https://localhost:8080/"
        },
        "id": "ISzp0ry4A0LG",
        "outputId": "c21c687d-55b8-405c-9d47-632b7e07becf"
      },
      "execution_count": null,
      "outputs": [
        {
          "output_type": "stream",
          "name": "stdout",
          "text": [
            "Given an input question, first create a syntactically correct {dialect} query to run, then look at the results of the query and return the answer. You can order the results by a relevant column to return the most interesting examples in the database.\n",
            "\n",
            "Never query for all the columns from a specific table, only ask for a few relevant columns given the question.\n",
            "\n",
            "Pay attention to use only the column names that you can see in the schema description. Be careful to not query for columns that do not exist. Pay attention to which column is in which table. Also, qualify column names with the table name when needed. You are required to use the following format, each taking one line:\n",
            "\n",
            "Question: Question here\n",
            "SQLQuery: SQL Query to run\n",
            "SQLResult: Result of the SQLQuery\n",
            "Answer: Final answer here\n",
            "\n",
            "Only use tables listed below.\n",
            "{schema}\n",
            "\n",
            "Question: {query_str}\n",
            "SQLQuery: \n"
          ]
        }
      ]
    },
    {
      "cell_type": "code",
      "source": [
        "response_synthesis_prompt_str = (\n",
        "    \"Given an input question, synthesize a response from the query results.\\n\"\n",
        "    \"Query: {query_str}\\n\"\n",
        "    \"SQL: {sql_query}\\n\"\n",
        "    \"SQL Response: {context_str}\\n\"\n",
        "    \"Response: \"\n",
        ")\n",
        "response_synthesis_prompt = PromptTemplate(\n",
        "    response_synthesis_prompt_str,\n",
        ")\n",
        "llm = OpenAI(model=\"gpt-4\")"
      ],
      "metadata": {
        "id": "5LF5gBHtA2Ik"
      },
      "execution_count": null,
      "outputs": []
    },
    {
      "cell_type": "code",
      "source": [
        "from llama_index.query_pipeline import (\n",
        "    QueryPipeline as QP,\n",
        "    Link,\n",
        "    InputComponent,\n",
        "    CustomQueryComponent,\n",
        ")\n",
        "\n",
        "qp = QP(\n",
        "    modules={\n",
        "        \"input\": InputComponent(),\n",
        "        \"table_retriever\": obj_retriever,\n",
        "        \"table_output_parser\": table_parser_component,\n",
        "        \"text2sql_prompt\": text2sql_prompt,\n",
        "        \"text2sql_llm\": llm,\n",
        "        \"sql_output_parser\": sql_parser_component,\n",
        "        \"sql_retriever\": sql_retriever,\n",
        "        \"response_synthesis_prompt\": response_synthesis_prompt,\n",
        "        \"response_synthesis_llm\": llm,\n",
        "    },\n",
        "    verbose=True,\n",
        ")"
      ],
      "metadata": {
        "id": "u9SF4RzSA4oO"
      },
      "execution_count": null,
      "outputs": []
    },
    {
      "cell_type": "code",
      "source": [
        "qp.add_chain([\"input\", \"table_retriever\", \"table_output_parser\"])\n",
        "qp.add_link(\"input\", \"text2sql_prompt\", dest_key=\"query_str\")\n",
        "qp.add_link(\"table_output_parser\", \"text2sql_prompt\", dest_key=\"schema\")\n",
        "qp.add_chain(\n",
        "    [\"text2sql_prompt\", \"text2sql_llm\", \"sql_output_parser\", \"sql_retriever\"]\n",
        ")\n",
        "qp.add_link(\n",
        "    \"sql_output_parser\", \"response_synthesis_prompt\", dest_key=\"sql_query\"\n",
        ")\n",
        "qp.add_link(\n",
        "    \"sql_retriever\", \"response_synthesis_prompt\", dest_key=\"context_str\"\n",
        ")\n",
        "qp.add_link(\"input\", \"response_synthesis_prompt\", dest_key=\"query_str\")\n",
        "qp.add_link(\"response_synthesis_prompt\", \"response_synthesis_llm\")"
      ],
      "metadata": {
        "id": "rHvW22RcA_F0"
      },
      "execution_count": null,
      "outputs": []
    },
    {
      "cell_type": "code",
      "source": [
        "response = qp.run(\n",
        "    query=\"What products do we duetto provide to customers ?\"\n",
        ")\n",
        "print(str(response))"
      ],
      "metadata": {
        "colab": {
          "base_uri": "https://localhost:8080/"
        },
        "id": "C43yhxOUBA7p",
        "outputId": "51ab38ab-a47f-4e56-ef69-e58033558fdb"
      },
      "execution_count": null,
      "outputs": [
        {
          "output_type": "stream",
          "name": "stdout",
          "text": [
            "\u001b[1;3;38;2;155;135;227m> Running module input with input: \n",
            "query: What products do we duetto provide to customers ?\n",
            "\n",
            "\u001b[0m\u001b[1;3;38;2;155;135;227m> Running module table_retriever with input: \n",
            "input: What products do we duetto provide to customers ?\n",
            "\n",
            "\u001b[0m\u001b[1;3;38;2;155;135;227m> Running module table_output_parser with input: \n",
            "table_schema_objs: [SQLTableSchema(table_name='duetto_company_profile', context_str='The table contains detailed information about the company Duetto Research Inc, including its full name, website, address, brief and de...\n",
            "\n",
            "\u001b[0m\u001b[1;3;38;2;155;135;227m> Running module text2sql_prompt with input: \n",
            "query_str: What products do we duetto provide to customers ?\n",
            "schema: Table 'duetto_company_profile' has columns: Question (VARCHAR), Source (VARCHAR), Category (VARCHAR), Answer (VARCHAR), and foreign keys: . The table description is: The table contains detailed inform...\n",
            "\n",
            "\u001b[0m\u001b[1;3;38;2;155;135;227m> Running module text2sql_llm with input: \n",
            "messages: Given an input question, first create a syntactically correct sqlite query to run, then look at the results of the query and return the answer. You can order the results by a relevant column to return...\n",
            "\n",
            "\u001b[0m\u001b[1;3;38;2;155;135;227m> Running module sql_output_parser with input: \n",
            "response: assistant: SELECT Answer FROM duetto_company_profile WHERE Question = 'What products do we provide to customers?'\n",
            "SQLResult: Duetto provides Revenue Strategy Platform, ScoreBoard, GameChanger, and Blo...\n",
            "\n",
            "\u001b[0m\u001b[1;3;38;2;155;135;227m> Running module sql_retriever with input: \n",
            "input: SELECT Answer FROM duetto_company_profile WHERE Question = 'What products do we provide to customers?'\n",
            "\n",
            "\u001b[0m\u001b[1;3;38;2;155;135;227m> Running module response_synthesis_prompt with input: \n",
            "query_str: What products do we duetto provide to customers ?\n",
            "sql_query: SELECT Answer FROM duetto_company_profile WHERE Question = 'What products do we provide to customers?'\n",
            "context_str: [NodeWithScore(node=TextNode(id_='a0f69a95-f570-44fe-a693-708e5bd25feb', embedding=None, metadata={}, excluded_embed_metadata_keys=[], excluded_llm_metadata_keys=[], relationships={}, text='[]', start...\n",
            "\n",
            "\u001b[0m\u001b[1;3;38;2;155;135;227m> Running module response_synthesis_llm with input: \n",
            "messages: Given an input question, synthesize a response from the query results.\n",
            "Query: What products do we duetto provide to customers ?\n",
            "SQL: SELECT Answer FROM duetto_company_profile WHERE Question = 'What pr...\n",
            "\n",
            "\u001b[0massistant: The query results did not provide specific information about the products that Duetto provides to customers.\n"
          ]
        }
      ]
    },
    {
      "cell_type": "code",
      "source": [
        "response = qp.run(query=\"Who are the top clients and why ?\")\n",
        "print(str(response))"
      ],
      "metadata": {
        "colab": {
          "base_uri": "https://localhost:8080/"
        },
        "id": "qsMJTIdgBDGM",
        "outputId": "8190ea9b-a119-4424-e653-baedaa95a103"
      },
      "execution_count": null,
      "outputs": [
        {
          "output_type": "stream",
          "name": "stdout",
          "text": [
            "\u001b[1;3;38;2;155;135;227m> Running module input with input: \n",
            "query: Who are the top clients and why ?\n",
            "\n",
            "\u001b[0m\u001b[1;3;38;2;155;135;227m> Running module table_retriever with input: \n",
            "input: Who are the top clients and why ?\n",
            "\n",
            "\u001b[0m\u001b[1;3;38;2;155;135;227m> Running module table_output_parser with input: \n",
            "table_schema_objs: [SQLTableSchema(table_name='duetto_company_profile', context_str='The table contains detailed information about the company Duetto Research Inc, including its full name, website, address, brief and de...\n",
            "\n",
            "\u001b[0m\u001b[1;3;38;2;155;135;227m> Running module text2sql_prompt with input: \n",
            "query_str: Who are the top clients and why ?\n",
            "schema: Table 'duetto_company_profile' has columns: Question (VARCHAR), Source (VARCHAR), Category (VARCHAR), Answer (VARCHAR), and foreign keys: . The table description is: The table contains detailed inform...\n",
            "\n",
            "\u001b[0m\u001b[1;3;38;2;155;135;227m> Running module text2sql_llm with input: \n",
            "messages: Given an input question, first create a syntactically correct sqlite query to run, then look at the results of the query and return the answer. You can order the results by a relevant column to return...\n",
            "\n",
            "\u001b[0m\u001b[1;3;38;2;155;135;227m> Running module sql_output_parser with input: \n",
            "response: assistant: SELECT duetto_company_profile.Question, duetto_company_profile.Answer \n",
            "FROM duetto_company_profile \n",
            "WHERE duetto_company_profile.Question LIKE '%top clients%';\n",
            "SQLResult: No results found.\n",
            "...\n",
            "\n",
            "\u001b[0m\u001b[1;3;38;2;155;135;227m> Running module sql_retriever with input: \n",
            "input: SELECT duetto_company_profile.Question, duetto_company_profile.Answer \n",
            "FROM duetto_company_profile \n",
            "WHERE duetto_company_profile.Question LIKE '%top clients%';\n",
            "\n",
            "\u001b[0m\u001b[1;3;38;2;155;135;227m> Running module response_synthesis_prompt with input: \n",
            "query_str: Who are the top clients and why ?\n",
            "sql_query: SELECT duetto_company_profile.Question, duetto_company_profile.Answer \n",
            "FROM duetto_company_profile \n",
            "WHERE duetto_company_profile.Question LIKE '%top clients%';\n",
            "context_str: [NodeWithScore(node=TextNode(id_='b0cdc2f6-827c-4b9d-8df7-00a003c332d5', embedding=None, metadata={}, excluded_embed_metadata_keys=[], excluded_llm_metadata_keys=[], relationships={}, text='[(\\'Who ar...\n",
            "\n",
            "\u001b[0m\u001b[1;3;38;2;155;135;227m> Running module response_synthesis_llm with input: \n",
            "messages: Given an input question, synthesize a response from the query results.\n",
            "Query: Who are the top clients and why ?\n",
            "SQL: SELECT duetto_company_profile.Question, duetto_company_profile.Answer \n",
            "FROM duetto_...\n",
            "\n",
            "\u001b[0massistant: Duetto's top clients are Melia Hotels International, NH Hotels, Nordic Choice, citizenM, Novum Hotels, and Louvre Hotel Group. Melia Hotels International is a global heavyweight, NH Hotels were early adopters of Duetto, Nordic Choice is currently in deployment, citizenM is one of the most innovative players in the market, Novum Hotels is expanding modern RM to the budget sector, and Louvre Hotel Group is a valued client.\n"
          ]
        }
      ]
    },
    {
      "cell_type": "code",
      "source": [
        "response = qp.run(query=\"When was company established ?\")\n",
        "print(str(response))"
      ],
      "metadata": {
        "colab": {
          "base_uri": "https://localhost:8080/"
        },
        "id": "hMaqpRbuBufL",
        "outputId": "e9afb6a7-de97-4a06-8f2a-6db962a3c63a"
      },
      "execution_count": null,
      "outputs": [
        {
          "output_type": "stream",
          "name": "stdout",
          "text": [
            "\u001b[1;3;38;2;155;135;227m> Running module input with input: \n",
            "query: When was company established ?\n",
            "\n",
            "\u001b[0m\u001b[1;3;38;2;155;135;227m> Running module table_retriever with input: \n",
            "input: When was company established ?\n",
            "\n",
            "\u001b[0m\u001b[1;3;38;2;155;135;227m> Running module table_output_parser with input: \n",
            "table_schema_objs: [SQLTableSchema(table_name='duetto_company_profile', context_str='The table contains detailed information about the company Duetto Research Inc, including its full name, website, address, brief and de...\n",
            "\n",
            "\u001b[0m\u001b[1;3;38;2;155;135;227m> Running module text2sql_prompt with input: \n",
            "query_str: When was company established ?\n",
            "schema: Table 'duetto_company_profile' has columns: Question (VARCHAR), Source (VARCHAR), Category (VARCHAR), Answer (VARCHAR), and foreign keys: . The table description is: The table contains detailed inform...\n",
            "\n",
            "\u001b[0m\u001b[1;3;38;2;155;135;227m> Running module text2sql_llm with input: \n",
            "messages: Given an input question, first create a syntactically correct sqlite query to run, then look at the results of the query and return the answer. You can order the results by a relevant column to return...\n",
            "\n",
            "\u001b[0m\u001b[1;3;38;2;155;135;227m> Running module sql_output_parser with input: \n",
            "response: assistant: SELECT Answer FROM duetto_company_profile WHERE Question = 'When was company established ?'\n",
            "SQLResult: 2012\n",
            "Answer: The company was established in 2012.\n",
            "\n",
            "\u001b[0m\u001b[1;3;38;2;155;135;227m> Running module sql_retriever with input: \n",
            "input: SELECT Answer FROM duetto_company_profile WHERE Question = 'When was company established ?'\n",
            "\n",
            "\u001b[0m\u001b[1;3;38;2;155;135;227m> Running module response_synthesis_prompt with input: \n",
            "query_str: When was company established ?\n",
            "sql_query: SELECT Answer FROM duetto_company_profile WHERE Question = 'When was company established ?'\n",
            "context_str: [NodeWithScore(node=TextNode(id_='ff4182d9-0849-4487-8edf-41bdb06a9a5e', embedding=None, metadata={}, excluded_embed_metadata_keys=[], excluded_llm_metadata_keys=[], relationships={}, text='[]', start...\n",
            "\n",
            "\u001b[0m\u001b[1;3;38;2;155;135;227m> Running module response_synthesis_llm with input: \n",
            "messages: Given an input question, synthesize a response from the query results.\n",
            "Query: When was company established ?\n",
            "SQL: SELECT Answer FROM duetto_company_profile WHERE Question = 'When was company establish...\n",
            "\n",
            "\u001b[0massistant: The data does not provide information on when the company was established.\n"
          ]
        }
      ]
    },
    {
      "cell_type": "code",
      "source": [],
      "metadata": {
        "id": "7-mtd_S0B_Gv"
      },
      "execution_count": null,
      "outputs": []
    },
    {
      "cell_type": "code",
      "source": [],
      "metadata": {
        "id": "UNfs0GsgEKRe"
      },
      "execution_count": null,
      "outputs": []
    },
    {
      "cell_type": "code",
      "source": [],
      "metadata": {
        "id": "RbMZiqhJEKT0"
      },
      "execution_count": null,
      "outputs": []
    },
    {
      "cell_type": "code",
      "source": [],
      "metadata": {
        "id": "qRzd0sCEEKW7"
      },
      "execution_count": null,
      "outputs": []
    },
    {
      "cell_type": "code",
      "source": [],
      "metadata": {
        "id": "P3yyndDrEKZT"
      },
      "execution_count": null,
      "outputs": []
    },
    {
      "cell_type": "code",
      "source": [
        "from llama_index.query_pipeline import QueryPipeline as QP\n",
        "from llama_index.service_context import ServiceContext\n",
        "\n",
        "qp = QP(verbose=True)\n",
        "# NOTE: service context will be deprecated in v0.10 (though will still be backwards compatible)\n",
        "service_context = ServiceContext.from_defaults(callback_manager=qp.callback_manager)"
      ],
      "metadata": {
        "id": "p1ANOxE1EKcv"
      },
      "execution_count": null,
      "outputs": []
    },
    {
      "cell_type": "code",
      "source": [
        "from llama_index import VectorStoreIndex, load_index_from_storage\n",
        "from sqlalchemy import text\n",
        "from llama_index.schema import TextNode\n",
        "from llama_index.storage import StorageContext\n",
        "import os\n",
        "from pathlib import Path\n",
        "from typing import Dict\n",
        "\n",
        "\n",
        "def index_all_tables(\n",
        "    sql_database: SQLDatabase, table_index_dir: str = \"table_index_dir\"\n",
        ") -> Dict[str, VectorStoreIndex]:\n",
        "    \"\"\"Index all tables.\"\"\"\n",
        "    if not Path(table_index_dir).exists():\n",
        "        os.makedirs(table_index_dir)\n",
        "\n",
        "    vector_index_dict = {}\n",
        "    engine = sql_database.engine\n",
        "    for table_name in sql_database.get_usable_table_names():\n",
        "        print(f\"Indexing rows in table: {table_name}\")\n",
        "        if not os.path.exists(f\"{table_index_dir}/{table_name}\"):\n",
        "            # get all rows from table\n",
        "            with engine.connect() as conn:\n",
        "                cursor = conn.execute(text(f'SELECT * FROM \"{table_name}\"'))\n",
        "                result = cursor.fetchall()\n",
        "                row_tups = []\n",
        "                for row in result:\n",
        "                    row_tups.append(tuple(row))\n",
        "\n",
        "            # index each row, put into vector store index\n",
        "            nodes = [TextNode(text=str(t)) for t in row_tups]\n",
        "\n",
        "            # put into vector store index (use OpenAIEmbeddings by default)\n",
        "            index = VectorStoreIndex(nodes, service_context=service_context)\n",
        "\n",
        "            # save index\n",
        "            index.set_index_id(\"vector_index\")\n",
        "            index.storage_context.persist(f\"{table_index_dir}/{table_name}\")\n",
        "        else:\n",
        "            # rebuild storage context\n",
        "            storage_context = StorageContext.from_defaults(\n",
        "                persist_dir=f\"{table_index_dir}/{table_name}\"\n",
        "            )\n",
        "            # load index\n",
        "            index = load_index_from_storage(\n",
        "                storage_context, index_id=\"vector_index\", service_context=service_context\n",
        "            )\n",
        "        vector_index_dict[table_name] = index\n",
        "\n",
        "    return vector_index_dict\n",
        "\n",
        "\n",
        "vector_index_dict = index_all_tables(sql_database)"
      ],
      "metadata": {
        "colab": {
          "base_uri": "https://localhost:8080/"
        },
        "id": "vo78WJX4EKrg",
        "outputId": "0ce9b2ed-f0a7-4e67-9881-a31fefa9f522"
      },
      "execution_count": null,
      "outputs": [
        {
          "output_type": "stream",
          "name": "stdout",
          "text": [
            "Indexing rows in table: analytics_forecasting_responses\n",
            "Indexing rows in table: duetto_company_profile\n"
          ]
        }
      ]
    },
    {
      "cell_type": "code",
      "source": [
        "from llama_index.retrievers import SQLRetriever\n",
        "from typing import List\n",
        "from llama_index.query_pipeline import FnComponent\n",
        "\n",
        "sql_retriever = SQLRetriever(sql_database)\n",
        "\n",
        "\n",
        "def get_table_context_and_rows_str(\n",
        "    query_str: str, table_schema_objs: List[SQLTableSchema]\n",
        "):\n",
        "    \"\"\"Get table context string.\"\"\"\n",
        "    context_strs = []\n",
        "    for table_schema_obj in table_schema_objs:\n",
        "        # first append table info + additional context\n",
        "        table_info = sql_database.get_single_table_info(\n",
        "            table_schema_obj.table_name\n",
        "        )\n",
        "        if table_schema_obj.context_str:\n",
        "            table_opt_context = \" The table description is: \"\n",
        "            table_opt_context += table_schema_obj.context_str\n",
        "            table_info += table_opt_context\n",
        "\n",
        "        # also lookup vector index to return relevant table rows\n",
        "        vector_retriever = vector_index_dict[\n",
        "            table_schema_obj.table_name\n",
        "        ].as_retriever(similarity_top_k=2)\n",
        "        relevant_nodes = vector_retriever.retrieve(query_str)\n",
        "        if len(relevant_nodes) > 0:\n",
        "            table_row_context = \"\\nHere are some relevant example rows (values in the same order as columns above)\\n\"\n",
        "            for node in relevant_nodes:\n",
        "                table_row_context += str(node.get_content()) + \"\\n\"\n",
        "            table_info += table_row_context\n",
        "\n",
        "        context_strs.append(table_info)\n",
        "    return \"\\n\\n\".join(context_strs)\n",
        "\n",
        "\n",
        "table_parser_component = FnComponent(fn=get_table_context_and_rows_str)"
      ],
      "metadata": {
        "id": "YaIYx0A_EU-Z"
      },
      "execution_count": null,
      "outputs": []
    },
    {
      "cell_type": "code",
      "source": [
        "from llama_index.query_pipeline import (\n",
        "    QueryPipeline as QP,\n",
        "    Link,\n",
        "    InputComponent,\n",
        "    CustomQueryComponent,\n",
        ")\n",
        "\n",
        "qp.add_modules({\n",
        "    \"input\": InputComponent(),\n",
        "    \"table_retriever\": obj_retriever,\n",
        "    \"table_output_parser\": table_parser_component,\n",
        "    \"text2sql_prompt\": text2sql_prompt,\n",
        "    \"text2sql_llm\": llm,\n",
        "    \"sql_output_parser\": sql_parser_component,\n",
        "    \"sql_retriever\": sql_retriever,\n",
        "    \"response_synthesis_prompt\": response_synthesis_prompt,\n",
        "    \"response_synthesis_llm\": llm,\n",
        "})"
      ],
      "metadata": {
        "id": "0IFhnEhNEVA4"
      },
      "execution_count": null,
      "outputs": []
    },
    {
      "cell_type": "code",
      "source": [
        "qp.add_link(\"input\", \"table_retriever\")\n",
        "qp.add_link(\"input\", \"table_output_parser\", dest_key=\"query_str\")\n",
        "qp.add_link(\n",
        "    \"table_retriever\", \"table_output_parser\", dest_key=\"table_schema_objs\"\n",
        ")\n",
        "qp.add_link(\"input\", \"text2sql_prompt\", dest_key=\"query_str\")\n",
        "qp.add_link(\"table_output_parser\", \"text2sql_prompt\", dest_key=\"schema\")\n",
        "qp.add_chain(\n",
        "    [\"text2sql_prompt\", \"text2sql_llm\", \"sql_output_parser\", \"sql_retriever\"]\n",
        ")\n",
        "qp.add_link(\n",
        "    \"sql_output_parser\", \"response_synthesis_prompt\", dest_key=\"sql_query\"\n",
        ")\n",
        "qp.add_link(\n",
        "    \"sql_retriever\", \"response_synthesis_prompt\", dest_key=\"context_str\"\n",
        ")\n",
        "qp.add_link(\"input\", \"response_synthesis_prompt\", dest_key=\"query_str\")\n",
        "qp.add_link(\"response_synthesis_prompt\", \"response_synthesis_llm\")"
      ],
      "metadata": {
        "id": "tCo9weH9EVCu"
      },
      "execution_count": null,
      "outputs": []
    },
    {
      "cell_type": "code",
      "source": [
        "response = qp.run(\n",
        "    query=\"When was company established ?\"\n",
        ")\n",
        "print(str(response))"
      ],
      "metadata": {
        "colab": {
          "base_uri": "https://localhost:8080/"
        },
        "id": "dP4LEGlwEVF7",
        "outputId": "bfb458ad-c728-4691-ca8b-19dc7f18c346"
      },
      "execution_count": null,
      "outputs": [
        {
          "output_type": "stream",
          "name": "stdout",
          "text": [
            "\u001b[1;3;38;2;155;135;227m> Running module input with input: \n",
            "query: When was company established ?\n",
            "\n",
            "\u001b[0m\u001b[1;3;38;2;155;135;227m> Running module table_retriever with input: \n",
            "input: When was company established ?\n",
            "\n",
            "\u001b[0m\u001b[1;3;38;2;155;135;227m> Running module table_output_parser with input: \n",
            "query_str: When was company established ?\n",
            "table_schema_objs: [SQLTableSchema(table_name='duetto_company_profile', context_str='The table contains detailed information about the company Duetto Research Inc, including its full name, website, address, brief and de...\n",
            "\n",
            "\u001b[0m\u001b[1;3;38;2;155;135;227m> Running module text2sql_prompt with input: \n",
            "query_str: When was company established ?\n",
            "schema: Table 'duetto_company_profile' has columns: Question (VARCHAR), Source (VARCHAR), Category (VARCHAR), Answer (VARCHAR), and foreign keys: . The table description is: The table contains detailed inform...\n",
            "\n",
            "\u001b[0m\u001b[1;3;38;2;155;135;227m> Running module text2sql_llm with input: \n",
            "messages: Given an input question, first create a syntactically correct sqlite query to run, then look at the results of the query and return the answer. You can order the results by a relevant column to return...\n",
            "\n",
            "\u001b[0m\u001b[1;3;38;2;155;135;227m> Running module sql_output_parser with input: \n",
            "response: assistant: SELECT Answer FROM duetto_company_profile WHERE Question = 'when was duetto company established'\n",
            "SQLResult: 'Duetto was established in 2012, born from the idea that revenue management shoul...\n",
            "\n",
            "\u001b[0m\u001b[1;3;38;2;155;135;227m> Running module sql_retriever with input: \n",
            "input: SELECT Answer FROM duetto_company_profile WHERE Question = 'when was duetto company established'\n",
            "\n",
            "\u001b[0m\u001b[1;3;38;2;155;135;227m> Running module response_synthesis_prompt with input: \n",
            "query_str: When was company established ?\n",
            "sql_query: SELECT Answer FROM duetto_company_profile WHERE Question = 'when was duetto company established'\n",
            "context_str: [NodeWithScore(node=TextNode(id_='23b88c24-b9fb-449b-8a66-509db5a807fc', embedding=None, metadata={}, excluded_embed_metadata_keys=[], excluded_llm_metadata_keys=[], relationships={}, text=\"[('Duetto ...\n",
            "\n",
            "\u001b[0m\u001b[1;3;38;2;155;135;227m> Running module response_synthesis_llm with input: \n",
            "messages: Given an input question, synthesize a response from the query results.\n",
            "Query: When was company established ?\n",
            "SQL: SELECT Answer FROM duetto_company_profile WHERE Question = 'when was duetto company es...\n",
            "\n",
            "\u001b[0massistant: Duetto was established in 2012. The idea was born from the belief that revenue management should be more than pricing. The co-founders, who previously worked together at Wynn Resorts, were dissatisfied with the revenue solutions available to them. In 2010, they set out to address the biggest problems faced by the industry.\n"
          ]
        }
      ]
    },
    {
      "cell_type": "code",
      "source": [
        "response = qp.run(\n",
        "    query=\"What is customer retention rate ?\"\n",
        ")\n",
        "print(str(response))"
      ],
      "metadata": {
        "colab": {
          "base_uri": "https://localhost:8080/"
        },
        "id": "Lmstd5fTEVID",
        "outputId": "268a08e2-0954-457a-9849-4921537b7fe8"
      },
      "execution_count": null,
      "outputs": [
        {
          "output_type": "stream",
          "name": "stdout",
          "text": [
            "\u001b[1;3;38;2;155;135;227m> Running module input with input: \n",
            "query: What is customer retention rate ?\n",
            "\n",
            "\u001b[0m\u001b[1;3;38;2;155;135;227m> Running module table_retriever with input: \n",
            "input: What is customer retention rate ?\n",
            "\n",
            "\u001b[0m\u001b[1;3;38;2;155;135;227m> Running module table_output_parser with input: \n",
            "query_str: What is customer retention rate ?\n",
            "table_schema_objs: [SQLTableSchema(table_name='analytics_forecasting_responses', context_str='The table contains responses to a set of questions related to algorithms, analytics, and forecasting. The questions were answ...\n",
            "\n",
            "\u001b[0m\u001b[1;3;38;2;155;135;227m> Running module text2sql_prompt with input: \n",
            "query_str: What is customer retention rate ?\n",
            "schema: Table 'analytics_forecasting_responses' has columns: Unnamed: 0 (VARCHAR), Unnamed: 1 (VARCHAR), Unnamed: 2 (VARCHAR), Unnamed: 3 (VARCHAR), Unnamed: 4 (VARCHAR), Unnamed: 5 (VARCHAR), Unnamed: 6 (VAR...\n",
            "\n",
            "\u001b[0m\u001b[1;3;38;2;155;135;227m> Running module text2sql_llm with input: \n",
            "messages: Given an input question, first create a syntactically correct sqlite query to run, then look at the results of the query and return the answer. You can order the results by a relevant column to return...\n",
            "\n",
            "\u001b[0m\u001b[1;3;38;2;155;135;227m> Running module sql_output_parser with input: \n",
            "response: assistant: SELECT Answer FROM duetto_company_profile WHERE Question = 'Can you provide your customer retention rate?'\n",
            "SQLResult: \"Duetto's customer retention is an industry-leading 99%.\"\n",
            "Answer: Duett...\n",
            "\n",
            "\u001b[0m\u001b[1;3;38;2;155;135;227m> Running module sql_retriever with input: \n",
            "input: SELECT Answer FROM duetto_company_profile WHERE Question = 'Can you provide your customer retention rate?'\n",
            "\n",
            "\u001b[0m\u001b[1;3;38;2;155;135;227m> Running module response_synthesis_prompt with input: \n",
            "query_str: What is customer retention rate ?\n",
            "sql_query: SELECT Answer FROM duetto_company_profile WHERE Question = 'Can you provide your customer retention rate?'\n",
            "context_str: [NodeWithScore(node=TextNode(id_='fa8fb730-9afa-42cc-bd29-7a429ee1d7a3', embedding=None, metadata={}, excluded_embed_metadata_keys=[], excluded_llm_metadata_keys=[], relationships={}, text='[(\"Duetto\\...\n",
            "\n",
            "\u001b[0m\u001b[1;3;38;2;155;135;227m> Running module response_synthesis_llm with input: \n",
            "messages: Given an input question, synthesize a response from the query results.\n",
            "Query: What is customer retention rate ?\n",
            "SQL: SELECT Answer FROM duetto_company_profile WHERE Question = 'Can you provide your cu...\n",
            "\n",
            "\u001b[0massistant: Duetto's customer retention rate is an industry-leading 99%.\n"
          ]
        }
      ]
    },
    {
      "cell_type": "code",
      "source": [
        "response = qp.run(query=\"Who are the top clients and why ?\")\n",
        "print(str(response))"
      ],
      "metadata": {
        "colab": {
          "base_uri": "https://localhost:8080/"
        },
        "id": "n42PifIjEVLm",
        "outputId": "d29fec11-b3c1-4da2-ab79-01c18ad7fdd4"
      },
      "execution_count": null,
      "outputs": [
        {
          "output_type": "stream",
          "name": "stdout",
          "text": [
            "\u001b[1;3;38;2;155;135;227m> Running module input with input: \n",
            "query: Who are the top clients and why ?\n",
            "\n",
            "\u001b[0m\u001b[1;3;38;2;155;135;227m> Running module table_retriever with input: \n",
            "input: Who are the top clients and why ?\n",
            "\n",
            "\u001b[0m\u001b[1;3;38;2;155;135;227m> Running module table_output_parser with input: \n",
            "query_str: Who are the top clients and why ?\n",
            "table_schema_objs: [SQLTableSchema(table_name='duetto_company_profile', context_str='The table contains detailed information about the company Duetto Research Inc, including its full name, website, address, brief and de...\n",
            "\n",
            "\u001b[0m\u001b[1;3;38;2;155;135;227m> Running module text2sql_prompt with input: \n",
            "query_str: Who are the top clients and why ?\n",
            "schema: Table 'duetto_company_profile' has columns: Question (VARCHAR), Source (VARCHAR), Category (VARCHAR), Answer (VARCHAR), and foreign keys: . The table description is: The table contains detailed inform...\n",
            "\n",
            "\u001b[0m\u001b[1;3;38;2;155;135;227m> Running module text2sql_llm with input: \n",
            "messages: Given an input question, first create a syntactically correct sqlite query to run, then look at the results of the query and return the answer. You can order the results by a relevant column to return...\n",
            "\n",
            "\u001b[0m\u001b[1;3;38;2;155;135;227m> Running module sql_output_parser with input: \n",
            "response: assistant: SELECT Question, Answer FROM duetto_company_profile WHERE Question = 'Who are your top clients and why?'\n",
            "SQLResult: ('Who are your top clients and why?', \"Duetto's top customers are: Melia ...\n",
            "\n",
            "\u001b[0m\u001b[1;3;38;2;155;135;227m> Running module sql_retriever with input: \n",
            "input: SELECT Question, Answer FROM duetto_company_profile WHERE Question = 'Who are your top clients and why?'\n",
            "\n",
            "\u001b[0m\u001b[1;3;38;2;155;135;227m> Running module response_synthesis_prompt with input: \n",
            "query_str: Who are the top clients and why ?\n",
            "sql_query: SELECT Question, Answer FROM duetto_company_profile WHERE Question = 'Who are your top clients and why?'\n",
            "context_str: [NodeWithScore(node=TextNode(id_='b86f6f94-a9c8-439b-ae65-81ba87f974f3', embedding=None, metadata={}, excluded_embed_metadata_keys=[], excluded_llm_metadata_keys=[], relationships={}, text='[(\\'Who ar...\n",
            "\n",
            "\u001b[0m\u001b[1;3;38;2;155;135;227m> Running module response_synthesis_llm with input: \n",
            "messages: Given an input question, synthesize a response from the query results.\n",
            "Query: Who are the top clients and why ?\n",
            "SQL: SELECT Question, Answer FROM duetto_company_profile WHERE Question = 'Who are your ...\n",
            "\n",
            "\u001b[0massistant: Duetto's top clients include Melia Hotels International, NH Hotels, Nordic Choice, citizenM, Novum Hotels, and Louvre Hotel Group. These clients are considered top due to various reasons such as their global presence, early adoption of Duetto, current deployment, innovation in the market, expansion of modern RM to the budget sector, and more.\n"
          ]
        }
      ]
    },
    {
      "cell_type": "code",
      "source": [
        "response = qp.run(query=\"Duetto product list ?\")\n",
        "print(str(response))"
      ],
      "metadata": {
        "colab": {
          "base_uri": "https://localhost:8080/"
        },
        "id": "Ad_KuPlBFXHt",
        "outputId": "b7f6cf73-7b7d-4809-8e9c-3d14f6afa041"
      },
      "execution_count": null,
      "outputs": [
        {
          "output_type": "stream",
          "name": "stdout",
          "text": [
            "\u001b[1;3;38;2;155;135;227m> Running module input with input: \n",
            "query: Duetto product list ?\n",
            "\n",
            "\u001b[0m\u001b[1;3;38;2;155;135;227m> Running module table_retriever with input: \n",
            "input: Duetto product list ?\n",
            "\n",
            "\u001b[0m\u001b[1;3;38;2;155;135;227m> Running module table_output_parser with input: \n",
            "query_str: Duetto product list ?\n",
            "table_schema_objs: [SQLTableSchema(table_name='duetto_company_profile', context_str='The table contains detailed information about the company Duetto Research Inc, including its full name, website, address, brief and de...\n",
            "\n",
            "\u001b[0m\u001b[1;3;38;2;155;135;227m> Running module text2sql_prompt with input: \n",
            "query_str: Duetto product list ?\n",
            "schema: Table 'duetto_company_profile' has columns: Question (VARCHAR), Source (VARCHAR), Category (VARCHAR), Answer (VARCHAR), and foreign keys: . The table description is: The table contains detailed inform...\n",
            "\n",
            "\u001b[0m\u001b[1;3;38;2;155;135;227m> Running module text2sql_llm with input: \n",
            "messages: Given an input question, first create a syntactically correct sqlite query to run, then look at the results of the query and return the answer. You can order the results by a relevant column to return...\n",
            "\n",
            "\u001b[0m\u001b[1;3;38;2;155;135;227m> Running module sql_output_parser with input: \n",
            "response: assistant: SELECT Answer FROM duetto_company_profile WHERE Question = 'what is the duetto product list'\n",
            "SQLResult: 'GameChanger\\nScoreBoard\\nBlockBuster\\nAdvance\\nIntegrations\\nPartners'\n",
            "Answer: The p...\n",
            "\n",
            "\u001b[0m\u001b[1;3;38;2;155;135;227m> Running module sql_retriever with input: \n",
            "input: SELECT Answer FROM duetto_company_profile WHERE Question = 'what is the duetto product list'\n",
            "\n",
            "\u001b[0m\u001b[1;3;38;2;155;135;227m> Running module response_synthesis_prompt with input: \n",
            "query_str: Duetto product list ?\n",
            "sql_query: SELECT Answer FROM duetto_company_profile WHERE Question = 'what is the duetto product list'\n",
            "context_str: [NodeWithScore(node=TextNode(id_='3166e569-a70a-4b88-b48f-56ebfbeb866e', embedding=None, metadata={}, excluded_embed_metadata_keys=[], excluded_llm_metadata_keys=[], relationships={}, text=\"[('GameCha...\n",
            "\n",
            "\u001b[0m\u001b[1;3;38;2;155;135;227m> Running module response_synthesis_llm with input: \n",
            "messages: Given an input question, synthesize a response from the query results.\n",
            "Query: Duetto product list ?\n",
            "SQL: SELECT Answer FROM duetto_company_profile WHERE Question = 'what is the duetto product list'\n",
            "SQ...\n",
            "\n",
            "\u001b[0massistant: The product list of Duetto includes GameChanger, ScoreBoard, BlockBuster, Advance, Integrations, and Partners.\n"
          ]
        }
      ]
    },
    {
      "cell_type": "code",
      "source": [
        "response = qp.run(query=\"The solution is manual or automated ?\")\n",
        "print(str(response))"
      ],
      "metadata": {
        "colab": {
          "base_uri": "https://localhost:8080/"
        },
        "id": "WyhTE8vIFhgM",
        "outputId": "89eb1775-4973-4e60-87b4-e6d5ed1c5556"
      },
      "execution_count": null,
      "outputs": [
        {
          "output_type": "stream",
          "name": "stdout",
          "text": [
            "\u001b[1;3;38;2;155;135;227m> Running module input with input: \n",
            "query: The solution is manual or automated ?\n",
            "\n",
            "\u001b[0m\u001b[1;3;38;2;155;135;227m> Running module table_retriever with input: \n",
            "input: The solution is manual or automated ?\n",
            "\n",
            "\u001b[0m\u001b[1;3;38;2;155;135;227m> Running module table_output_parser with input: \n",
            "query_str: The solution is manual or automated ?\n",
            "table_schema_objs: [SQLTableSchema(table_name='analytics_forecasting_responses', context_str='The table contains responses to a set of questions related to algorithms, analytics, and forecasting. The questions were answ...\n",
            "\n",
            "\u001b[0m\u001b[1;3;38;2;155;135;227m> Running module text2sql_prompt with input: \n",
            "query_str: The solution is manual or automated ?\n",
            "schema: Table 'analytics_forecasting_responses' has columns: Unnamed: 0 (VARCHAR), Unnamed: 1 (VARCHAR), Unnamed: 2 (VARCHAR), Unnamed: 3 (VARCHAR), Unnamed: 4 (VARCHAR), Unnamed: 5 (VARCHAR), Unnamed: 6 (VAR...\n",
            "\n",
            "\u001b[0m\u001b[1;3;38;2;155;135;227m> Running module text2sql_llm with input: \n",
            "messages: Given an input question, first create a syntactically correct sqlite query to run, then look at the results of the query and return the answer. You can order the results by a relevant column to return...\n",
            "\n",
            "\u001b[0m\u001b[1;3;38;2;155;135;227m> Running module sql_output_parser with input: \n",
            "response: assistant: SELECT Answer FROM duetto_company_profile WHERE Question = 'Is your solution fully automated ?'\n",
            "SQLResult: \"Duetto offers flexibility with autopilot settings extending all of the way down t...\n",
            "\n",
            "\u001b[0m\u001b[1;3;38;2;155;135;227m> Running module sql_retriever with input: \n",
            "input: SELECT Answer FROM duetto_company_profile WHERE Question = 'Is your solution fully automated ?'\n",
            "\n",
            "\u001b[0m\u001b[1;3;38;2;155;135;227m> Running module response_synthesis_prompt with input: \n",
            "query_str: The solution is manual or automated ?\n",
            "sql_query: SELECT Answer FROM duetto_company_profile WHERE Question = 'Is your solution fully automated ?'\n",
            "context_str: [NodeWithScore(node=TextNode(id_='901756f8-2b00-4ffd-8707-91a915953869', embedding=None, metadata={}, excluded_embed_metadata_keys=[], excluded_llm_metadata_keys=[], relationships={}, text='[(\"Duetto ...\n",
            "\n",
            "\u001b[0m\u001b[1;3;38;2;155;135;227m> Running module response_synthesis_llm with input: \n",
            "messages: Given an input question, synthesize a response from the query results.\n",
            "Query: The solution is manual or automated ?\n",
            "SQL: SELECT Answer FROM duetto_company_profile WHERE Question = 'Is your solution fu...\n",
            "\n",
            "\u001b[0massistant: Duetto offers a flexible solution with autopilot settings that extend all the way down to the hotel's segment level. The Autopilot Scheduler in Duetto allows the hotel to choose from full autopilot, in which all decisions are sent to the connected systems upon each optimization, or other options. Therefore, the solution can be both manual and automated, depending on the settings chosen.\n"
          ]
        }
      ]
    },
    {
      "cell_type": "code",
      "source": [
        "response = qp.run(query=\"Is there any client support ?\")\n",
        "print(str(response))"
      ],
      "metadata": {
        "id": "-SxeocGRHq5s",
        "colab": {
          "base_uri": "https://localhost:8080/"
        },
        "outputId": "387e9dcf-96d9-4ee1-e332-652dc073256c"
      },
      "execution_count": 83,
      "outputs": [
        {
          "output_type": "stream",
          "name": "stdout",
          "text": [
            "\u001b[1;3;38;2;155;135;227m> Running module input with input: \n",
            "query: Is there any client support ?\n",
            "\n",
            "\u001b[0m\u001b[1;3;38;2;155;135;227m> Running module table_retriever with input: \n",
            "input: Is there any client support ?\n",
            "\n",
            "\u001b[0m\u001b[1;3;38;2;155;135;227m> Running module table_output_parser with input: \n",
            "query_str: Is there any client support ?\n",
            "table_schema_objs: [SQLTableSchema(table_name='duetto_company_profile', context_str='The table contains detailed information about the company Duetto Research Inc, including its full name, website, address, brief and de...\n",
            "\n",
            "\u001b[0m\u001b[1;3;38;2;155;135;227m> Running module text2sql_prompt with input: \n",
            "query_str: Is there any client support ?\n",
            "schema: Table 'duetto_company_profile' has columns: Question (VARCHAR), Source (VARCHAR), Category (VARCHAR), Answer (VARCHAR), and foreign keys: . The table description is: The table contains detailed inform...\n",
            "\n",
            "\u001b[0m\u001b[1;3;38;2;155;135;227m> Running module text2sql_llm with input: \n",
            "messages: Given an input question, first create a syntactically correct sqlite query to run, then look at the results of the query and return the answer. You can order the results by a relevant column to return...\n",
            "\n",
            "\u001b[0m\u001b[1;3;38;2;155;135;227m> Running module sql_output_parser with input: \n",
            "response: assistant: SELECT Question, Answer FROM duetto_company_profile WHERE Question LIKE '%support%'\n",
            "SQLResult: [('Is your customer support desk 7 X 24 and can we contact the support center multiple ways? S...\n",
            "\n",
            "\u001b[0m\u001b[1;3;38;2;155;135;227m> Running module sql_retriever with input: \n",
            "input: SELECT Question, Answer FROM duetto_company_profile WHERE Question LIKE '%support%'\n",
            "\n",
            "\u001b[0m\u001b[1;3;38;2;155;135;227m> Running module response_synthesis_prompt with input: \n",
            "query_str: Is there any client support ?\n",
            "sql_query: SELECT Question, Answer FROM duetto_company_profile WHERE Question LIKE '%support%'\n",
            "context_str: [NodeWithScore(node=TextNode(id_='1a5d8a67-9703-4a09-896e-4d0a222fa936', embedding=None, metadata={}, excluded_embed_metadata_keys=[], excluded_llm_metadata_keys=[], relationships={}, text='[(\\'Can yo...\n",
            "\n",
            "\u001b[0m\u001b[1;3;38;2;155;135;227m> Running module response_synthesis_llm with input: \n",
            "messages: Given an input question, synthesize a response from the query results.\n",
            "Query: Is there any client support ?\n",
            "SQL: SELECT Question, Answer FROM duetto_company_profile WHERE Question LIKE '%support%'\n",
            "SQL...\n",
            "\n",
            "\u001b[0massistant: Duetto offers client support through a \"glocal\" approach, with teams distributed globally to best serve their customers. They have registered offices located in Las Vegas, London, San Francisco, and Singapore, and also have local presence in various territories.\n"
          ]
        }
      ]
    },
    {
      "cell_type": "code",
      "source": [
        "response = qp.run(query=\"Is there any mobile application ?\")\n",
        "print(str(response))"
      ],
      "metadata": {
        "colab": {
          "base_uri": "https://localhost:8080/"
        },
        "id": "TaRlhGqiIqOK",
        "outputId": "2bfd7dce-dfb2-4658-d9f6-be376105cc50"
      },
      "execution_count": 84,
      "outputs": [
        {
          "output_type": "stream",
          "name": "stdout",
          "text": [
            "\u001b[1;3;38;2;155;135;227m> Running module input with input: \n",
            "query: Is there any mobile application ?\n",
            "\n",
            "\u001b[0m\u001b[1;3;38;2;155;135;227m> Running module table_retriever with input: \n",
            "input: Is there any mobile application ?\n",
            "\n",
            "\u001b[0m\u001b[1;3;38;2;155;135;227m> Running module table_output_parser with input: \n",
            "query_str: Is there any mobile application ?\n",
            "table_schema_objs: [SQLTableSchema(table_name='duetto_company_profile', context_str='The table contains detailed information about the company Duetto Research Inc, including its full name, website, address, brief and de...\n",
            "\n",
            "\u001b[0m\u001b[1;3;38;2;155;135;227m> Running module text2sql_prompt with input: \n",
            "query_str: Is there any mobile application ?\n",
            "schema: Table 'duetto_company_profile' has columns: Question (VARCHAR), Source (VARCHAR), Category (VARCHAR), Answer (VARCHAR), and foreign keys: . The table description is: The table contains detailed inform...\n",
            "\n",
            "\u001b[0m\u001b[1;3;38;2;155;135;227m> Running module text2sql_llm with input: \n",
            "messages: Given an input question, first create a syntactically correct sqlite query to run, then look at the results of the query and return the answer. You can order the results by a relevant column to return...\n",
            "\n",
            "\u001b[0m\u001b[1;3;38;2;155;135;227m> Running module sql_output_parser with input: \n",
            "response: assistant: SELECT Question, Answer FROM duetto_company_profile WHERE Question LIKE '%mobile app%'\n",
            "SQLResult: [('Do you have a mobile app?', 'No, however we meet this need by utizilzing responsive desi...\n",
            "\n",
            "\u001b[0m\u001b[1;3;38;2;155;135;227m> Running module sql_retriever with input: \n",
            "input: SELECT Question, Answer FROM duetto_company_profile WHERE Question LIKE '%mobile app%'\n",
            "\n",
            "\u001b[0m\u001b[1;3;38;2;155;135;227m> Running module response_synthesis_prompt with input: \n",
            "query_str: Is there any mobile application ?\n",
            "sql_query: SELECT Question, Answer FROM duetto_company_profile WHERE Question LIKE '%mobile app%'\n",
            "context_str: [NodeWithScore(node=TextNode(id_='c1cf5416-8c3a-4fed-ba7c-85ebdf80a48b', embedding=None, metadata={}, excluded_embed_metadata_keys=[], excluded_llm_metadata_keys=[], relationships={}, text='[(\\'Do you...\n",
            "\n",
            "\u001b[0m\u001b[1;3;38;2;155;135;227m> Running module response_synthesis_llm with input: \n",
            "messages: Given an input question, synthesize a response from the query results.\n",
            "Query: Is there any mobile application ?\n",
            "SQL: SELECT Question, Answer FROM duetto_company_profile WHERE Question LIKE '%mobile ap...\n",
            "\n",
            "\u001b[0massistant: Duetto's entire solution is accessible through mobile devices as it was programmed mobile first. However, there is currently no additional mobile app. They meet this need by utilizing responsive design for cross-device, including mobile, support.\n"
          ]
        }
      ]
    },
    {
      "cell_type": "code",
      "source": [],
      "metadata": {
        "id": "MzdfCqXnJI3R"
      },
      "execution_count": null,
      "outputs": []
    }
  ]
}