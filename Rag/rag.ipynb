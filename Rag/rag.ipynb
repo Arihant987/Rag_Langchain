{
 "cells": [
  {
   "cell_type": "code",
   "execution_count": 1,
   "metadata": {},
   "outputs": [
    {
     "name": "stdout",
     "output_type": "stream",
     "text": [
      "Implementation of Rag\n"
     ]
    }
   ],
   "source": [
    "print('Implementation of Rag')"
   ]
  },
  {
   "cell_type": "code",
   "execution_count": 2,
   "metadata": {},
   "outputs": [
    {
     "data": {
      "text/plain": [
       "[Document(metadata={'source': 'speech.txt'}, page_content='The world must be made safe for democracy. Its peace must be planted upon the tested foundations of political liberty. We have no selfish ends to serve. We desire no conquest, no dominion. We seek no indemnities for ourselves, no material compensation for the sacrifices we shall freely make. We are but one of the champions of the rights of mankind. We shall be satisfied when those rights have been made as secure as the faith and the freedom of nations can make them.\\n\\nJust because we fight without rancor and without selfish object, seeking nothing for ourselves but what we shall wish to share with all free peoples, we shall, I feel confident, conduct our operations as belligerents without passion and ourselves observe with proud punctilio the principles of right and of fair play we profess to be fighting for.\\n\\nâ€¦\\n\\nIt will be all the easier for us to conduct ourselves as belligerents in a high spirit of right and fairness because we act without animus, not in enmity toward a people or with the desire to bring any injury or disadvantage upon them, but only in armed opposition to an irresponsible government which has thrown aside all considerations of humanity and of right and is running amuck. We are, let me say again, the sincere friends of the German people, and shall desire nothing so much as the early reestablishment of intimate relations of mutual advantage between usâ€”however hard it may be for them, for the time being, to believe that this is spoken from our hearts.\\n\\nWe have borne with their present government through all these bitter months because of that friendshipâ€”exercising a patience and forbearance which would otherwise have been impossible. We shall, happily, still have an opportunity to prove that friendship in our daily attitude and actions toward the millions of men and women of German birth and native sympathy who live among us and share our life, and we shall be proud to prove it toward all who are in fact loyal to their neighbors and to the government in the hour of test. They are, most of them, as true and loyal Americans as if they had never known any other fealty or allegiance. They will be prompt to stand with us in rebuking and restraining the few who may be of a different mind and purpose. If there should be disloyalty, it will be dealt with with a firm hand of stern repression; but, if it lifts its head at all, it will lift it only here and there and without countenance except from a lawless and malignant few.\\n\\nIt is a distressing and oppressive duty, gentlemen of the Congress, which I have performed in thus addressing you. There are, it may be, many months of fiery trial and sacrifice ahead of us. It is a fearful thing to lead this great peaceful people into war, into the most terrible and disastrous of all wars, civilization itself seeming to be in the balance. But the right is more precious than peace, and we shall fight for the things which we have always carried nearest our heartsâ€”for democracy, for the right of those who submit to authority to have a voice in their own governments, for the rights and liberties of small nations, for a universal dominion of right by such a concert of free peoples as shall bring peace and safety to all nations and make the world itself at last free.\\n\\nTo such a task we can dedicate our lives and our fortunes, everything that we are and everything that we have, with the pride of those who know that the day has come when America is privileged to spend her blood and her might for the principles that gave her birth and happiness and the peace which she has treasured. God helping her, she can do no other.')]"
      ]
     },
     "execution_count": 2,
     "metadata": {},
     "output_type": "execute_result"
    }
   ],
   "source": [
    "# Data Ingestion\n",
    "from langchain_community.document_loaders import TextLoader\n",
    "loader=TextLoader(\"speech.txt\")\n",
    "text_documents=loader.load()\n",
    "text_documents"
   ]
  },
  {
   "cell_type": "code",
   "execution_count": 3,
   "metadata": {},
   "outputs": [
    {
     "data": {
      "text/plain": [
       "<function dotenv.main.load_dotenv(dotenv_path: Union[str, ForwardRef('os.PathLike[str]'), NoneType] = None, stream: Optional[IO[str]] = None, verbose: bool = False, override: bool = False, interpolate: bool = True, encoding: Optional[str] = 'utf-8') -> bool>"
      ]
     },
     "execution_count": 3,
     "metadata": {},
     "output_type": "execute_result"
    }
   ],
   "source": [
    "import os\n",
    "from dotenv import load_dotenv\n",
    "load_dotenv"
   ]
  },
  {
   "cell_type": "code",
   "execution_count": 4,
   "metadata": {},
   "outputs": [],
   "source": [
    "os.environ[\"OPENAI_API_KEY\"]=os.getenv(\"openai_api_key\")"
   ]
  },
  {
   "cell_type": "code",
   "execution_count": 5,
   "metadata": {},
   "outputs": [],
   "source": [
    "from langchain_community.document_loaders import PyPDFLoader\n",
    "loader=PyPDFLoader(\"attention_is_all_you_need.pdf\")\n",
    "attention=loader.load()"
   ]
  },
  {
   "cell_type": "code",
   "execution_count": 6,
   "metadata": {},
   "outputs": [
    {
     "data": {
      "text/plain": [
       "[Document(metadata={'source': 'attention_is_all_you_need.pdf', 'page': 0}, page_content='Provided proper attribution is provided, Google hereby grants permission to\\nreproduce the tables and figures in this paper solely for use in journalistic or\\nscholarly works.\\nAttention Is All You Need\\nAshish Vaswani∗\\nGoogle Brain\\navaswani@google.comNoam Shazeer∗\\nGoogle Brain\\nnoam@google.comNiki Parmar∗\\nGoogle Research\\nnikip@google.comJakob Uszkoreit∗\\nGoogle Research\\nusz@google.com\\nLlion Jones∗\\nGoogle Research\\nllion@google.comAidan N. Gomez∗ †\\nUniversity of Toronto\\naidan@cs.toronto.eduŁukasz Kaiser∗\\nGoogle Brain\\nlukaszkaiser@google.com\\nIllia Polosukhin∗ ‡\\nillia.polosukhin@gmail.com\\nAbstract\\nThe dominant sequence transduction models are based on complex recurrent or\\nconvolutional neural networks that include an encoder and a decoder. The best\\nperforming models also connect the encoder and decoder through an attention\\nmechanism. We propose a new simple network architecture, the Transformer,\\nbased solely on attention mechanisms, dispensing with recurrence and convolutions\\nentirely. Experiments on two machine translation tasks show these models to\\nbe superior in quality while being more parallelizable and requiring significantly\\nless time to train. Our model achieves 28.4 BLEU on the WMT 2014 English-\\nto-German translation task, improving over the existing best results, including\\nensembles, by over 2 BLEU. On the WMT 2014 English-to-French translation task,\\nour model establishes a new single-model state-of-the-art BLEU score of 41.8 after\\ntraining for 3.5 days on eight GPUs, a small fraction of the training costs of the\\nbest models from the literature. We show that the Transformer generalizes well to\\nother tasks by applying it successfully to English constituency parsing both with\\nlarge and limited training data.\\n∗Equal contribution. Listing order is random. Jakob proposed replacing RNNs with self-attention and started\\nthe effort to evaluate this idea. Ashish, with Illia, designed and implemented the first Transformer models and\\nhas been crucially involved in every aspect of this work. Noam proposed scaled dot-product attention, multi-head\\nattention and the parameter-free position representation and became the other person involved in nearly every\\ndetail. Niki designed, implemented, tuned and evaluated countless model variants in our original codebase and\\ntensor2tensor. Llion also experimented with novel model variants, was responsible for our initial codebase, and\\nefficient inference and visualizations. Lukasz and Aidan spent countless long days designing various parts of and\\nimplementing tensor2tensor, replacing our earlier codebase, greatly improving results and massively accelerating\\nour research.\\n†Work performed while at Google Brain.\\n‡Work performed while at Google Research.\\n31st Conference on Neural Information Processing Systems (NIPS 2017), Long Beach, CA, USA.arXiv:1706.03762v7  [cs.CL]  2 Aug 2023'),\n",
       " Document(metadata={'source': 'attention_is_all_you_need.pdf', 'page': 1}, page_content='1 Introduction\\nRecurrent neural networks, long short-term memory [ 13] and gated recurrent [ 7] neural networks\\nin particular, have been firmly established as state of the art approaches in sequence modeling and\\ntransduction problems such as language modeling and machine translation [ 35,2,5]. Numerous\\nefforts have since continued to push the boundaries of recurrent language models and encoder-decoder\\narchitectures [38, 24, 15].\\nRecurrent models typically factor computation along the symbol positions of the input and output\\nsequences. Aligning the positions to steps in computation time, they generate a sequence of hidden\\nstates ht, as a function of the previous hidden state ht−1and the input for position t. This inherently\\nsequential nature precludes parallelization within training examples, which becomes critical at longer\\nsequence lengths, as memory constraints limit batching across examples. Recent work has achieved\\nsignificant improvements in computational efficiency through factorization tricks [ 21] and conditional\\ncomputation [ 32], while also improving model performance in case of the latter. The fundamental\\nconstraint of sequential computation, however, remains.\\nAttention mechanisms have become an integral part of compelling sequence modeling and transduc-\\ntion models in various tasks, allowing modeling of dependencies without regard to their distance in\\nthe input or output sequences [ 2,19]. In all but a few cases [ 27], however, such attention mechanisms\\nare used in conjunction with a recurrent network.\\nIn this work we propose the Transformer, a model architecture eschewing recurrence and instead\\nrelying entirely on an attention mechanism to draw global dependencies between input and output.\\nThe Transformer allows for significantly more parallelization and can reach a new state of the art in\\ntranslation quality after being trained for as little as twelve hours on eight P100 GPUs.\\n2 Background\\nThe goal of reducing sequential computation also forms the foundation of the Extended Neural GPU\\n[16], ByteNet [ 18] and ConvS2S [ 9], all of which use convolutional neural networks as basic building\\nblock, computing hidden representations in parallel for all input and output positions. In these models,\\nthe number of operations required to relate signals from two arbitrary input or output positions grows\\nin the distance between positions, linearly for ConvS2S and logarithmically for ByteNet. This makes\\nit more difficult to learn dependencies between distant positions [ 12]. In the Transformer this is\\nreduced to a constant number of operations, albeit at the cost of reduced effective resolution due\\nto averaging attention-weighted positions, an effect we counteract with Multi-Head Attention as\\ndescribed in section 3.2.\\nSelf-attention, sometimes called intra-attention is an attention mechanism relating different positions\\nof a single sequence in order to compute a representation of the sequence. Self-attention has been\\nused successfully in a variety of tasks including reading comprehension, abstractive summarization,\\ntextual entailment and learning task-independent sentence representations [4, 27, 28, 22].\\nEnd-to-end memory networks are based on a recurrent attention mechanism instead of sequence-\\naligned recurrence and have been shown to perform well on simple-language question answering and\\nlanguage modeling tasks [34].\\nTo the best of our knowledge, however, the Transformer is the first transduction model relying\\nentirely on self-attention to compute representations of its input and output without using sequence-\\naligned RNNs or convolution. In the following sections, we will describe the Transformer, motivate\\nself-attention and discuss its advantages over models such as [17, 18] and [9].\\n3 Model Architecture\\nMost competitive neural sequence transduction models have an encoder-decoder structure [ 5,2,35].\\nHere, the encoder maps an input sequence of symbol representations (x1, ..., x n)to a sequence\\nof continuous representations z= (z1, ..., z n). Given z, the decoder then generates an output\\nsequence (y1, ..., y m)of symbols one element at a time. At each step the model is auto-regressive\\n[10], consuming the previously generated symbols as additional input when generating the next.\\n2'),\n",
       " Document(metadata={'source': 'attention_is_all_you_need.pdf', 'page': 2}, page_content='Figure 1: The Transformer - model architecture.\\nThe Transformer follows this overall architecture using stacked self-attention and point-wise, fully\\nconnected layers for both the encoder and decoder, shown in the left and right halves of Figure 1,\\nrespectively.\\n3.1 Encoder and Decoder Stacks\\nEncoder: The encoder is composed of a stack of N= 6 identical layers. Each layer has two\\nsub-layers. The first is a multi-head self-attention mechanism, and the second is a simple, position-\\nwise fully connected feed-forward network. We employ a residual connection [ 11] around each of\\nthe two sub-layers, followed by layer normalization [ 1]. That is, the output of each sub-layer is\\nLayerNorm( x+ Sublayer( x)), where Sublayer( x)is the function implemented by the sub-layer\\nitself. To facilitate these residual connections, all sub-layers in the model, as well as the embedding\\nlayers, produce outputs of dimension dmodel = 512 .\\nDecoder: The decoder is also composed of a stack of N= 6identical layers. In addition to the two\\nsub-layers in each encoder layer, the decoder inserts a third sub-layer, which performs multi-head\\nattention over the output of the encoder stack. Similar to the encoder, we employ residual connections\\naround each of the sub-layers, followed by layer normalization. We also modify the self-attention\\nsub-layer in the decoder stack to prevent positions from attending to subsequent positions. This\\nmasking, combined with fact that the output embeddings are offset by one position, ensures that the\\npredictions for position ican depend only on the known outputs at positions less than i.\\n3.2 Attention\\nAn attention function can be described as mapping a query and a set of key-value pairs to an output,\\nwhere the query, keys, values, and output are all vectors. The output is computed as a weighted sum\\n3'),\n",
       " Document(metadata={'source': 'attention_is_all_you_need.pdf', 'page': 3}, page_content='Scaled Dot-Product Attention\\n Multi-Head Attention\\nFigure 2: (left) Scaled Dot-Product Attention. (right) Multi-Head Attention consists of several\\nattention layers running in parallel.\\nof the values, where the weight assigned to each value is computed by a compatibility function of the\\nquery with the corresponding key.\\n3.2.1 Scaled Dot-Product Attention\\nWe call our particular attention \"Scaled Dot-Product Attention\" (Figure 2). The input consists of\\nqueries and keys of dimension dk, and values of dimension dv. We compute the dot products of the\\nquery with all keys, divide each by√dk, and apply a softmax function to obtain the weights on the\\nvalues.\\nIn practice, we compute the attention function on a set of queries simultaneously, packed together\\ninto a matrix Q. The keys and values are also packed together into matrices KandV. We compute\\nthe matrix of outputs as:\\nAttention( Q, K, V ) = softmax(QKT\\n√dk)V (1)\\nThe two most commonly used attention functions are additive attention [ 2], and dot-product (multi-\\nplicative) attention. Dot-product attention is identical to our algorithm, except for the scaling factor\\nof1√dk. Additive attention computes the compatibility function using a feed-forward network with\\na single hidden layer. While the two are similar in theoretical complexity, dot-product attention is\\nmuch faster and more space-efficient in practice, since it can be implemented using highly optimized\\nmatrix multiplication code.\\nWhile for small values of dkthe two mechanisms perform similarly, additive attention outperforms\\ndot product attention without scaling for larger values of dk[3]. We suspect that for large values of\\ndk, the dot products grow large in magnitude, pushing the softmax function into regions where it has\\nextremely small gradients4. To counteract this effect, we scale the dot products by1√dk.\\n3.2.2 Multi-Head Attention\\nInstead of performing a single attention function with dmodel-dimensional keys, values and queries,\\nwe found it beneficial to linearly project the queries, keys and values htimes with different, learned\\nlinear projections to dk,dkanddvdimensions, respectively. On each of these projected versions of\\nqueries, keys and values we then perform the attention function in parallel, yielding dv-dimensional\\n4To illustrate why the dot products get large, assume that the components of qandkare independent random\\nvariables with mean 0and variance 1. Then their dot product, q·k=Pdk\\ni=1qiki, has mean 0and variance dk.\\n4'),\n",
       " Document(metadata={'source': 'attention_is_all_you_need.pdf', 'page': 4}, page_content='output values. These are concatenated and once again projected, resulting in the final values, as\\ndepicted in Figure 2.\\nMulti-head attention allows the model to jointly attend to information from different representation\\nsubspaces at different positions. With a single attention head, averaging inhibits this.\\nMultiHead( Q, K, V ) = Concat(head 1, ...,head h)WO\\nwhere head i= Attention( QWQ\\ni, KWK\\ni, V WV\\ni)\\nWhere the projections are parameter matrices WQ\\ni∈Rdmodel×dk,WK\\ni∈Rdmodel×dk,WV\\ni∈Rdmodel×dv\\nandWO∈Rhdv×dmodel.\\nIn this work we employ h= 8 parallel attention layers, or heads. For each of these we use\\ndk=dv=dmodel/h= 64 . Due to the reduced dimension of each head, the total computational cost\\nis similar to that of single-head attention with full dimensionality.\\n3.2.3 Applications of Attention in our Model\\nThe Transformer uses multi-head attention in three different ways:\\n•In \"encoder-decoder attention\" layers, the queries come from the previous decoder layer,\\nand the memory keys and values come from the output of the encoder. This allows every\\nposition in the decoder to attend over all positions in the input sequence. This mimics the\\ntypical encoder-decoder attention mechanisms in sequence-to-sequence models such as\\n[38, 2, 9].\\n•The encoder contains self-attention layers. In a self-attention layer all of the keys, values\\nand queries come from the same place, in this case, the output of the previous layer in the\\nencoder. Each position in the encoder can attend to all positions in the previous layer of the\\nencoder.\\n•Similarly, self-attention layers in the decoder allow each position in the decoder to attend to\\nall positions in the decoder up to and including that position. We need to prevent leftward\\ninformation flow in the decoder to preserve the auto-regressive property. We implement this\\ninside of scaled dot-product attention by masking out (setting to −∞) all values in the input\\nof the softmax which correspond to illegal connections. See Figure 2.\\n3.3 Position-wise Feed-Forward Networks\\nIn addition to attention sub-layers, each of the layers in our encoder and decoder contains a fully\\nconnected feed-forward network, which is applied to each position separately and identically. This\\nconsists of two linear transformations with a ReLU activation in between.\\nFFN( x) = max(0 , xW 1+b1)W2+b2 (2)\\nWhile the linear transformations are the same across different positions, they use different parameters\\nfrom layer to layer. Another way of describing this is as two convolutions with kernel size 1.\\nThe dimensionality of input and output is dmodel = 512 , and the inner-layer has dimensionality\\ndff= 2048 .\\n3.4 Embeddings and Softmax\\nSimilarly to other sequence transduction models, we use learned embeddings to convert the input\\ntokens and output tokens to vectors of dimension dmodel. We also use the usual learned linear transfor-\\nmation and softmax function to convert the decoder output to predicted next-token probabilities. In\\nour model, we share the same weight matrix between the two embedding layers and the pre-softmax\\nlinear transformation, similar to [ 30]. In the embedding layers, we multiply those weights by√dmodel.\\n5'),\n",
       " Document(metadata={'source': 'attention_is_all_you_need.pdf', 'page': 5}, page_content='Table 1: Maximum path lengths, per-layer complexity and minimum number of sequential operations\\nfor different layer types. nis the sequence length, dis the representation dimension, kis the kernel\\nsize of convolutions and rthe size of the neighborhood in restricted self-attention.\\nLayer Type Complexity per Layer Sequential Maximum Path Length\\nOperations\\nSelf-Attention O(n2·d) O(1) O(1)\\nRecurrent O(n·d2) O(n) O(n)\\nConvolutional O(k·n·d2) O(1) O(logk(n))\\nSelf-Attention (restricted) O(r·n·d) O(1) O(n/r)\\n3.5 Positional Encoding\\nSince our model contains no recurrence and no convolution, in order for the model to make use of the\\norder of the sequence, we must inject some information about the relative or absolute position of the\\ntokens in the sequence. To this end, we add \"positional encodings\" to the input embeddings at the\\nbottoms of the encoder and decoder stacks. The positional encodings have the same dimension dmodel\\nas the embeddings, so that the two can be summed. There are many choices of positional encodings,\\nlearned and fixed [9].\\nIn this work, we use sine and cosine functions of different frequencies:\\nPE(pos,2i)=sin(pos/100002i/d model)\\nPE(pos,2i+1)=cos(pos/100002i/d model)\\nwhere posis the position and iis the dimension. That is, each dimension of the positional encoding\\ncorresponds to a sinusoid. The wavelengths form a geometric progression from 2πto10000 ·2π. We\\nchose this function because we hypothesized it would allow the model to easily learn to attend by\\nrelative positions, since for any fixed offset k,PEpos+kcan be represented as a linear function of\\nPEpos.\\nWe also experimented with using learned positional embeddings [ 9] instead, and found that the two\\nversions produced nearly identical results (see Table 3 row (E)). We chose the sinusoidal version\\nbecause it may allow the model to extrapolate to sequence lengths longer than the ones encountered\\nduring training.\\n4 Why Self-Attention\\nIn this section we compare various aspects of self-attention layers to the recurrent and convolu-\\ntional layers commonly used for mapping one variable-length sequence of symbol representations\\n(x1, ..., x n)to another sequence of equal length (z1, ..., z n), with xi, zi∈Rd, such as a hidden\\nlayer in a typical sequence transduction encoder or decoder. Motivating our use of self-attention we\\nconsider three desiderata.\\nOne is the total computational complexity per layer. Another is the amount of computation that can\\nbe parallelized, as measured by the minimum number of sequential operations required.\\nThe third is the path length between long-range dependencies in the network. Learning long-range\\ndependencies is a key challenge in many sequence transduction tasks. One key factor affecting the\\nability to learn such dependencies is the length of the paths forward and backward signals have to\\ntraverse in the network. The shorter these paths between any combination of positions in the input\\nand output sequences, the easier it is to learn long-range dependencies [ 12]. Hence we also compare\\nthe maximum path length between any two input and output positions in networks composed of the\\ndifferent layer types.\\nAs noted in Table 1, a self-attention layer connects all positions with a constant number of sequentially\\nexecuted operations, whereas a recurrent layer requires O(n)sequential operations. In terms of\\ncomputational complexity, self-attention layers are faster than recurrent layers when the sequence\\n6'),\n",
       " Document(metadata={'source': 'attention_is_all_you_need.pdf', 'page': 6}, page_content='length nis smaller than the representation dimensionality d, which is most often the case with\\nsentence representations used by state-of-the-art models in machine translations, such as word-piece\\n[38] and byte-pair [ 31] representations. To improve computational performance for tasks involving\\nvery long sequences, self-attention could be restricted to considering only a neighborhood of size rin\\nthe input sequence centered around the respective output position. This would increase the maximum\\npath length to O(n/r). We plan to investigate this approach further in future work.\\nA single convolutional layer with kernel width k < n does not connect all pairs of input and output\\npositions. Doing so requires a stack of O(n/k)convolutional layers in the case of contiguous kernels,\\norO(logk(n))in the case of dilated convolutions [ 18], increasing the length of the longest paths\\nbetween any two positions in the network. Convolutional layers are generally more expensive than\\nrecurrent layers, by a factor of k. Separable convolutions [ 6], however, decrease the complexity\\nconsiderably, to O(k·n·d+n·d2). Even with k=n, however, the complexity of a separable\\nconvolution is equal to the combination of a self-attention layer and a point-wise feed-forward layer,\\nthe approach we take in our model.\\nAs side benefit, self-attention could yield more interpretable models. We inspect attention distributions\\nfrom our models and present and discuss examples in the appendix. Not only do individual attention\\nheads clearly learn to perform different tasks, many appear to exhibit behavior related to the syntactic\\nand semantic structure of the sentences.\\n5 Training\\nThis section describes the training regime for our models.\\n5.1 Training Data and Batching\\nWe trained on the standard WMT 2014 English-German dataset consisting of about 4.5 million\\nsentence pairs. Sentences were encoded using byte-pair encoding [ 3], which has a shared source-\\ntarget vocabulary of about 37000 tokens. For English-French, we used the significantly larger WMT\\n2014 English-French dataset consisting of 36M sentences and split tokens into a 32000 word-piece\\nvocabulary [ 38]. Sentence pairs were batched together by approximate sequence length. Each training\\nbatch contained a set of sentence pairs containing approximately 25000 source tokens and 25000\\ntarget tokens.\\n5.2 Hardware and Schedule\\nWe trained our models on one machine with 8 NVIDIA P100 GPUs. For our base models using\\nthe hyperparameters described throughout the paper, each training step took about 0.4 seconds. We\\ntrained the base models for a total of 100,000 steps or 12 hours. For our big models,(described on the\\nbottom line of table 3), step time was 1.0 seconds. The big models were trained for 300,000 steps\\n(3.5 days).\\n5.3 Optimizer\\nWe used the Adam optimizer [ 20] with β1= 0.9,β2= 0.98andϵ= 10−9. We varied the learning\\nrate over the course of training, according to the formula:\\nlrate =d−0.5\\nmodel·min(step_num−0.5, step _num·warmup _steps−1.5) (3)\\nThis corresponds to increasing the learning rate linearly for the first warmup _steps training steps,\\nand decreasing it thereafter proportionally to the inverse square root of the step number. We used\\nwarmup _steps = 4000 .\\n5.4 Regularization\\nWe employ three types of regularization during training:\\n7'),\n",
       " Document(metadata={'source': 'attention_is_all_you_need.pdf', 'page': 7}, page_content='Table 2: The Transformer achieves better BLEU scores than previous state-of-the-art models on the\\nEnglish-to-German and English-to-French newstest2014 tests at a fraction of the training cost.\\nModelBLEU Training Cost (FLOPs)\\nEN-DE EN-FR EN-DE EN-FR\\nByteNet [18] 23.75\\nDeep-Att + PosUnk [39] 39.2 1.0·1020\\nGNMT + RL [38] 24.6 39.92 2.3·10191.4·1020\\nConvS2S [9] 25.16 40.46 9.6·10181.5·1020\\nMoE [32] 26.03 40.56 2.0·10191.2·1020\\nDeep-Att + PosUnk Ensemble [39] 40.4 8.0·1020\\nGNMT + RL Ensemble [38] 26.30 41.16 1.8·10201.1·1021\\nConvS2S Ensemble [9] 26.36 41.29 7.7·10191.2·1021\\nTransformer (base model) 27.3 38.1 3.3·1018\\nTransformer (big) 28.4 41.8 2.3·1019\\nResidual Dropout We apply dropout [ 33] to the output of each sub-layer, before it is added to the\\nsub-layer input and normalized. In addition, we apply dropout to the sums of the embeddings and the\\npositional encodings in both the encoder and decoder stacks. For the base model, we use a rate of\\nPdrop= 0.1.\\nLabel Smoothing During training, we employed label smoothing of value ϵls= 0.1[36]. This\\nhurts perplexity, as the model learns to be more unsure, but improves accuracy and BLEU score.\\n6 Results\\n6.1 Machine Translation\\nOn the WMT 2014 English-to-German translation task, the big transformer model (Transformer (big)\\nin Table 2) outperforms the best previously reported models (including ensembles) by more than 2.0\\nBLEU, establishing a new state-of-the-art BLEU score of 28.4. The configuration of this model is\\nlisted in the bottom line of Table 3. Training took 3.5days on 8P100 GPUs. Even our base model\\nsurpasses all previously published models and ensembles, at a fraction of the training cost of any of\\nthe competitive models.\\nOn the WMT 2014 English-to-French translation task, our big model achieves a BLEU score of 41.0,\\noutperforming all of the previously published single models, at less than 1/4the training cost of the\\nprevious state-of-the-art model. The Transformer (big) model trained for English-to-French used\\ndropout rate Pdrop= 0.1, instead of 0.3.\\nFor the base models, we used a single model obtained by averaging the last 5 checkpoints, which\\nwere written at 10-minute intervals. For the big models, we averaged the last 20 checkpoints. We\\nused beam search with a beam size of 4and length penalty α= 0.6[38]. These hyperparameters\\nwere chosen after experimentation on the development set. We set the maximum output length during\\ninference to input length + 50, but terminate early when possible [38].\\nTable 2 summarizes our results and compares our translation quality and training costs to other model\\narchitectures from the literature. We estimate the number of floating point operations used to train a\\nmodel by multiplying the training time, the number of GPUs used, and an estimate of the sustained\\nsingle-precision floating-point capacity of each GPU5.\\n6.2 Model Variations\\nTo evaluate the importance of different components of the Transformer, we varied our base model\\nin different ways, measuring the change in performance on English-to-German translation on the\\n5We used values of 2.8, 3.7, 6.0 and 9.5 TFLOPS for K80, K40, M40 and P100, respectively.\\n8'),\n",
       " Document(metadata={'source': 'attention_is_all_you_need.pdf', 'page': 8}, page_content='Table 3: Variations on the Transformer architecture. Unlisted values are identical to those of the base\\nmodel. All metrics are on the English-to-German translation development set, newstest2013. Listed\\nperplexities are per-wordpiece, according to our byte-pair encoding, and should not be compared to\\nper-word perplexities.\\nN d model dff h d k dvPdrop ϵlstrain PPL BLEU params\\nsteps (dev) (dev) ×106\\nbase 6 512 2048 8 64 64 0.1 0.1 100K 4.92 25.8 65\\n(A)1 512 512 5.29 24.9\\n4 128 128 5.00 25.5\\n16 32 32 4.91 25.8\\n32 16 16 5.01 25.4\\n(B)16 5.16 25.1 58\\n32 5.01 25.4 60\\n(C)2 6.11 23.7 36\\n4 5.19 25.3 50\\n8 4.88 25.5 80\\n256 32 32 5.75 24.5 28\\n1024 128 128 4.66 26.0 168\\n1024 5.12 25.4 53\\n4096 4.75 26.2 90\\n(D)0.0 5.77 24.6\\n0.2 4.95 25.5\\n0.0 4.67 25.3\\n0.2 5.47 25.7\\n(E) positional embedding instead of sinusoids 4.92 25.7\\nbig 6 1024 4096 16 0.3 300K 4.33 26.4 213\\ndevelopment set, newstest2013. We used beam search as described in the previous section, but no\\ncheckpoint averaging. We present these results in Table 3.\\nIn Table 3 rows (A), we vary the number of attention heads and the attention key and value dimensions,\\nkeeping the amount of computation constant, as described in Section 3.2.2. While single-head\\nattention is 0.9 BLEU worse than the best setting, quality also drops off with too many heads.\\nIn Table 3 rows (B), we observe that reducing the attention key size dkhurts model quality. This\\nsuggests that determining compatibility is not easy and that a more sophisticated compatibility\\nfunction than dot product may be beneficial. We further observe in rows (C) and (D) that, as expected,\\nbigger models are better, and dropout is very helpful in avoiding over-fitting. In row (E) we replace our\\nsinusoidal positional encoding with learned positional embeddings [ 9], and observe nearly identical\\nresults to the base model.\\n6.3 English Constituency Parsing\\nTo evaluate if the Transformer can generalize to other tasks we performed experiments on English\\nconstituency parsing. This task presents specific challenges: the output is subject to strong structural\\nconstraints and is significantly longer than the input. Furthermore, RNN sequence-to-sequence\\nmodels have not been able to attain state-of-the-art results in small-data regimes [37].\\nWe trained a 4-layer transformer with dmodel = 1024 on the Wall Street Journal (WSJ) portion of the\\nPenn Treebank [ 25], about 40K training sentences. We also trained it in a semi-supervised setting,\\nusing the larger high-confidence and BerkleyParser corpora from with approximately 17M sentences\\n[37]. We used a vocabulary of 16K tokens for the WSJ only setting and a vocabulary of 32K tokens\\nfor the semi-supervised setting.\\nWe performed only a small number of experiments to select the dropout, both attention and residual\\n(section 5.4), learning rates and beam size on the Section 22 development set, all other parameters\\nremained unchanged from the English-to-German base translation model. During inference, we\\n9'),\n",
       " Document(metadata={'source': 'attention_is_all_you_need.pdf', 'page': 9}, page_content='Table 4: The Transformer generalizes well to English constituency parsing (Results are on Section 23\\nof WSJ)\\nParser Training WSJ 23 F1\\nVinyals & Kaiser el al. (2014) [37] WSJ only, discriminative 88.3\\nPetrov et al. (2006) [29] WSJ only, discriminative 90.4\\nZhu et al. (2013) [40] WSJ only, discriminative 90.4\\nDyer et al. (2016) [8] WSJ only, discriminative 91.7\\nTransformer (4 layers) WSJ only, discriminative 91.3\\nZhu et al. (2013) [40] semi-supervised 91.3\\nHuang & Harper (2009) [14] semi-supervised 91.3\\nMcClosky et al. (2006) [26] semi-supervised 92.1\\nVinyals & Kaiser el al. (2014) [37] semi-supervised 92.1\\nTransformer (4 layers) semi-supervised 92.7\\nLuong et al. (2015) [23] multi-task 93.0\\nDyer et al. (2016) [8] generative 93.3\\nincreased the maximum output length to input length + 300. We used a beam size of 21andα= 0.3\\nfor both WSJ only and the semi-supervised setting.\\nOur results in Table 4 show that despite the lack of task-specific tuning our model performs sur-\\nprisingly well, yielding better results than all previously reported models with the exception of the\\nRecurrent Neural Network Grammar [8].\\nIn contrast to RNN sequence-to-sequence models [ 37], the Transformer outperforms the Berkeley-\\nParser [29] even when training only on the WSJ training set of 40K sentences.\\n7 Conclusion\\nIn this work, we presented the Transformer, the first sequence transduction model based entirely on\\nattention, replacing the recurrent layers most commonly used in encoder-decoder architectures with\\nmulti-headed self-attention.\\nFor translation tasks, the Transformer can be trained significantly faster than architectures based\\non recurrent or convolutional layers. On both WMT 2014 English-to-German and WMT 2014\\nEnglish-to-French translation tasks, we achieve a new state of the art. In the former task our best\\nmodel outperforms even all previously reported ensembles.\\nWe are excited about the future of attention-based models and plan to apply them to other tasks. We\\nplan to extend the Transformer to problems involving input and output modalities other than text and\\nto investigate local, restricted attention mechanisms to efficiently handle large inputs and outputs\\nsuch as images, audio and video. Making generation less sequential is another research goals of ours.\\nThe code we used to train and evaluate our models is available at https://github.com/\\ntensorflow/tensor2tensor .\\nAcknowledgements We are grateful to Nal Kalchbrenner and Stephan Gouws for their fruitful\\ncomments, corrections and inspiration.\\nReferences\\n[1]Jimmy Lei Ba, Jamie Ryan Kiros, and Geoffrey E Hinton. Layer normalization. arXiv preprint\\narXiv:1607.06450 , 2016.\\n[2]Dzmitry Bahdanau, Kyunghyun Cho, and Yoshua Bengio. Neural machine translation by jointly\\nlearning to align and translate. CoRR , abs/1409.0473, 2014.\\n[3]Denny Britz, Anna Goldie, Minh-Thang Luong, and Quoc V . Le. Massive exploration of neural\\nmachine translation architectures. CoRR , abs/1703.03906, 2017.\\n[4]Jianpeng Cheng, Li Dong, and Mirella Lapata. Long short-term memory-networks for machine\\nreading. arXiv preprint arXiv:1601.06733 , 2016.\\n10'),\n",
       " Document(metadata={'source': 'attention_is_all_you_need.pdf', 'page': 10}, page_content='[5]Kyunghyun Cho, Bart van Merrienboer, Caglar Gulcehre, Fethi Bougares, Holger Schwenk,\\nand Yoshua Bengio. Learning phrase representations using rnn encoder-decoder for statistical\\nmachine translation. CoRR , abs/1406.1078, 2014.\\n[6]Francois Chollet. Xception: Deep learning with depthwise separable convolutions. arXiv\\npreprint arXiv:1610.02357 , 2016.\\n[7]Junyoung Chung, Çaglar Gülçehre, Kyunghyun Cho, and Yoshua Bengio. Empirical evaluation\\nof gated recurrent neural networks on sequence modeling. CoRR , abs/1412.3555, 2014.\\n[8]Chris Dyer, Adhiguna Kuncoro, Miguel Ballesteros, and Noah A. Smith. Recurrent neural\\nnetwork grammars. In Proc. of NAACL , 2016.\\n[9]Jonas Gehring, Michael Auli, David Grangier, Denis Yarats, and Yann N. Dauphin. Convolu-\\ntional sequence to sequence learning. arXiv preprint arXiv:1705.03122v2 , 2017.\\n[10] Alex Graves. Generating sequences with recurrent neural networks. arXiv preprint\\narXiv:1308.0850 , 2013.\\n[11] Kaiming He, Xiangyu Zhang, Shaoqing Ren, and Jian Sun. Deep residual learning for im-\\nage recognition. In Proceedings of the IEEE Conference on Computer Vision and Pattern\\nRecognition , pages 770–778, 2016.\\n[12] Sepp Hochreiter, Yoshua Bengio, Paolo Frasconi, and Jürgen Schmidhuber. Gradient flow in\\nrecurrent nets: the difficulty of learning long-term dependencies, 2001.\\n[13] Sepp Hochreiter and Jürgen Schmidhuber. Long short-term memory. Neural computation ,\\n9(8):1735–1780, 1997.\\n[14] Zhongqiang Huang and Mary Harper. Self-training PCFG grammars with latent annotations\\nacross languages. In Proceedings of the 2009 Conference on Empirical Methods in Natural\\nLanguage Processing , pages 832–841. ACL, August 2009.\\n[15] Rafal Jozefowicz, Oriol Vinyals, Mike Schuster, Noam Shazeer, and Yonghui Wu. Exploring\\nthe limits of language modeling. arXiv preprint arXiv:1602.02410 , 2016.\\n[16] Łukasz Kaiser and Samy Bengio. Can active memory replace attention? In Advances in Neural\\nInformation Processing Systems, (NIPS) , 2016.\\n[17] Łukasz Kaiser and Ilya Sutskever. Neural GPUs learn algorithms. In International Conference\\non Learning Representations (ICLR) , 2016.\\n[18] Nal Kalchbrenner, Lasse Espeholt, Karen Simonyan, Aaron van den Oord, Alex Graves, and Ko-\\nray Kavukcuoglu. Neural machine translation in linear time. arXiv preprint arXiv:1610.10099v2 ,\\n2017.\\n[19] Yoon Kim, Carl Denton, Luong Hoang, and Alexander M. Rush. Structured attention networks.\\nInInternational Conference on Learning Representations , 2017.\\n[20] Diederik Kingma and Jimmy Ba. Adam: A method for stochastic optimization. In ICLR , 2015.\\n[21] Oleksii Kuchaiev and Boris Ginsburg. Factorization tricks for LSTM networks. arXiv preprint\\narXiv:1703.10722 , 2017.\\n[22] Zhouhan Lin, Minwei Feng, Cicero Nogueira dos Santos, Mo Yu, Bing Xiang, Bowen\\nZhou, and Yoshua Bengio. A structured self-attentive sentence embedding. arXiv preprint\\narXiv:1703.03130 , 2017.\\n[23] Minh-Thang Luong, Quoc V . Le, Ilya Sutskever, Oriol Vinyals, and Lukasz Kaiser. Multi-task\\nsequence to sequence learning. arXiv preprint arXiv:1511.06114 , 2015.\\n[24] Minh-Thang Luong, Hieu Pham, and Christopher D Manning. Effective approaches to attention-\\nbased neural machine translation. arXiv preprint arXiv:1508.04025 , 2015.\\n11'),\n",
       " Document(metadata={'source': 'attention_is_all_you_need.pdf', 'page': 11}, page_content='[25] Mitchell P Marcus, Mary Ann Marcinkiewicz, and Beatrice Santorini. Building a large annotated\\ncorpus of english: The penn treebank. Computational linguistics , 19(2):313–330, 1993.\\n[26] David McClosky, Eugene Charniak, and Mark Johnson. Effective self-training for parsing. In\\nProceedings of the Human Language Technology Conference of the NAACL, Main Conference ,\\npages 152–159. ACL, June 2006.\\n[27] Ankur Parikh, Oscar Täckström, Dipanjan Das, and Jakob Uszkoreit. A decomposable attention\\nmodel. In Empirical Methods in Natural Language Processing , 2016.\\n[28] Romain Paulus, Caiming Xiong, and Richard Socher. A deep reinforced model for abstractive\\nsummarization. arXiv preprint arXiv:1705.04304 , 2017.\\n[29] Slav Petrov, Leon Barrett, Romain Thibaux, and Dan Klein. Learning accurate, compact,\\nand interpretable tree annotation. In Proceedings of the 21st International Conference on\\nComputational Linguistics and 44th Annual Meeting of the ACL , pages 433–440. ACL, July\\n2006.\\n[30] Ofir Press and Lior Wolf. Using the output embedding to improve language models. arXiv\\npreprint arXiv:1608.05859 , 2016.\\n[31] Rico Sennrich, Barry Haddow, and Alexandra Birch. Neural machine translation of rare words\\nwith subword units. arXiv preprint arXiv:1508.07909 , 2015.\\n[32] Noam Shazeer, Azalia Mirhoseini, Krzysztof Maziarz, Andy Davis, Quoc Le, Geoffrey Hinton,\\nand Jeff Dean. Outrageously large neural networks: The sparsely-gated mixture-of-experts\\nlayer. arXiv preprint arXiv:1701.06538 , 2017.\\n[33] Nitish Srivastava, Geoffrey E Hinton, Alex Krizhevsky, Ilya Sutskever, and Ruslan Salakhutdi-\\nnov. Dropout: a simple way to prevent neural networks from overfitting. Journal of Machine\\nLearning Research , 15(1):1929–1958, 2014.\\n[34] Sainbayar Sukhbaatar, Arthur Szlam, Jason Weston, and Rob Fergus. End-to-end memory\\nnetworks. In C. Cortes, N. D. Lawrence, D. D. Lee, M. Sugiyama, and R. Garnett, editors,\\nAdvances in Neural Information Processing Systems 28 , pages 2440–2448. Curran Associates,\\nInc., 2015.\\n[35] Ilya Sutskever, Oriol Vinyals, and Quoc VV Le. Sequence to sequence learning with neural\\nnetworks. In Advances in Neural Information Processing Systems , pages 3104–3112, 2014.\\n[36] Christian Szegedy, Vincent Vanhoucke, Sergey Ioffe, Jonathon Shlens, and Zbigniew Wojna.\\nRethinking the inception architecture for computer vision. CoRR , abs/1512.00567, 2015.\\n[37] Vinyals & Kaiser, Koo, Petrov, Sutskever, and Hinton. Grammar as a foreign language. In\\nAdvances in Neural Information Processing Systems , 2015.\\n[38] Yonghui Wu, Mike Schuster, Zhifeng Chen, Quoc V Le, Mohammad Norouzi, Wolfgang\\nMacherey, Maxim Krikun, Yuan Cao, Qin Gao, Klaus Macherey, et al. Google’s neural machine\\ntranslation system: Bridging the gap between human and machine translation. arXiv preprint\\narXiv:1609.08144 , 2016.\\n[39] Jie Zhou, Ying Cao, Xuguang Wang, Peng Li, and Wei Xu. Deep recurrent models with\\nfast-forward connections for neural machine translation. CoRR , abs/1606.04199, 2016.\\n[40] Muhua Zhu, Yue Zhang, Wenliang Chen, Min Zhang, and Jingbo Zhu. Fast and accurate\\nshift-reduce constituent parsing. In Proceedings of the 51st Annual Meeting of the ACL (Volume\\n1: Long Papers) , pages 434–443. ACL, August 2013.\\n12'),\n",
       " Document(metadata={'source': 'attention_is_all_you_need.pdf', 'page': 12}, page_content='Attention Visualizations\\nInput-Input Layer5\\nIt\\nis\\nin\\nthis\\nspirit\\nthat\\na\\nmajority\\nof\\nAmerican\\ngovernments\\nhave\\npassed\\nnew\\nlaws\\nsince\\n2009\\nmaking\\nthe\\nregistration\\nor\\nvoting\\nprocess\\nmore\\ndifficult\\n.\\n<EOS>\\n<pad>\\n<pad>\\n<pad>\\n<pad>\\n<pad>\\n<pad>\\nIt\\nis\\nin\\nthis\\nspirit\\nthat\\na\\nmajority\\nof\\nAmerican\\ngovernments\\nhave\\npassed\\nnew\\nlaws\\nsince\\n2009\\nmaking\\nthe\\nregistration\\nor\\nvoting\\nprocess\\nmore\\ndifficult\\n.\\n<EOS>\\n<pad>\\n<pad>\\n<pad>\\n<pad>\\n<pad>\\n<pad>\\nFigure 3: An example of the attention mechanism following long-distance dependencies in the\\nencoder self-attention in layer 5 of 6. Many of the attention heads attend to a distant dependency of\\nthe verb ‘making’, completing the phrase ‘making...more difficult’. Attentions here shown only for\\nthe word ‘making’. Different colors represent different heads. Best viewed in color.\\n13'),\n",
       " Document(metadata={'source': 'attention_is_all_you_need.pdf', 'page': 13}, page_content='Input-Input Layer5\\nThe\\nLaw\\nwill\\nnever\\nbe\\nperfect\\n,\\nbut\\nits\\napplication\\nshould\\nbe\\njust\\n-\\nthis\\nis\\nwhat\\nwe\\nare\\nmissing\\n,\\nin\\nmy\\nopinion\\n.\\n<EOS>\\n<pad>\\nThe\\nLaw\\nwill\\nnever\\nbe\\nperfect\\n,\\nbut\\nits\\napplication\\nshould\\nbe\\njust\\n-\\nthis\\nis\\nwhat\\nwe\\nare\\nmissing\\n,\\nin\\nmy\\nopinion\\n.\\n<EOS>\\n<pad>\\nInput-Input Layer5\\nThe\\nLaw\\nwill\\nnever\\nbe\\nperfect\\n,\\nbut\\nits\\napplication\\nshould\\nbe\\njust\\n-\\nthis\\nis\\nwhat\\nwe\\nare\\nmissing\\n,\\nin\\nmy\\nopinion\\n.\\n<EOS>\\n<pad>\\nThe\\nLaw\\nwill\\nnever\\nbe\\nperfect\\n,\\nbut\\nits\\napplication\\nshould\\nbe\\njust\\n-\\nthis\\nis\\nwhat\\nwe\\nare\\nmissing\\n,\\nin\\nmy\\nopinion\\n.\\n<EOS>\\n<pad>Figure 4: Two attention heads, also in layer 5 of 6, apparently involved in anaphora resolution. Top:\\nFull attentions for head 5. Bottom: Isolated attentions from just the word ‘its’ for attention heads 5\\nand 6. Note that the attentions are very sharp for this word.\\n14'),\n",
       " Document(metadata={'source': 'attention_is_all_you_need.pdf', 'page': 14}, page_content='Input-Input Layer5\\nThe\\nLaw\\nwill\\nnever\\nbe\\nperfect\\n,\\nbut\\nits\\napplication\\nshould\\nbe\\njust\\n-\\nthis\\nis\\nwhat\\nwe\\nare\\nmissing\\n,\\nin\\nmy\\nopinion\\n.\\n<EOS>\\n<pad>\\nThe\\nLaw\\nwill\\nnever\\nbe\\nperfect\\n,\\nbut\\nits\\napplication\\nshould\\nbe\\njust\\n-\\nthis\\nis\\nwhat\\nwe\\nare\\nmissing\\n,\\nin\\nmy\\nopinion\\n.\\n<EOS>\\n<pad>\\nInput-Input Layer5\\nThe\\nLaw\\nwill\\nnever\\nbe\\nperfect\\n,\\nbut\\nits\\napplication\\nshould\\nbe\\njust\\n-\\nthis\\nis\\nwhat\\nwe\\nare\\nmissing\\n,\\nin\\nmy\\nopinion\\n.\\n<EOS>\\n<pad>\\nThe\\nLaw\\nwill\\nnever\\nbe\\nperfect\\n,\\nbut\\nits\\napplication\\nshould\\nbe\\njust\\n-\\nthis\\nis\\nwhat\\nwe\\nare\\nmissing\\n,\\nin\\nmy\\nopinion\\n.\\n<EOS>\\n<pad>Figure 5: Many of the attention heads exhibit behaviour that seems related to the structure of the\\nsentence. We give two such examples above, from two different heads from the encoder self-attention\\nat layer 5 of 6. The heads clearly learned to perform different tasks.\\n15')]"
      ]
     },
     "execution_count": 6,
     "metadata": {},
     "output_type": "execute_result"
    }
   ],
   "source": [
    "attention "
   ]
  },
  {
   "cell_type": "code",
   "execution_count": 7,
   "metadata": {},
   "outputs": [],
   "source": [
    "loader=PyPDFLoader(\"OOPS_Interview_Cheatsheet.pdf\")\n",
    "oops=loader.load()"
   ]
  },
  {
   "cell_type": "code",
   "execution_count": 8,
   "metadata": {},
   "outputs": [
    {
     "data": {
      "text/plain": [
       "[Document(metadata={'source': 'OOPS_Interview_Cheatsheet.pdf', 'page': 0}, page_content='Most Important Interview Topics for OOPS\\nClasses and Objects\\nFeature/characteristics of OOPs\\nInheritance (Type and Mode)\\nAccess Speciﬁers\\nVirtual (Functions and Class)\\nAbstract class and Interface\\nCompile-time and Runtime Polymorphism\\nFriend function and Friend class\\nCall by Value and Call by Reference\\nAbstraction\\nException Handling\\nConstructor and Destructor\\nCopy constructor\\nCopy assignment operator\\nOverloading (Function, Constructor, Operator)\\nFunction Overriding\\nReference variable\\nthis pointer\\nconst keyword\\nstatic keyword\\nvirtual keyword\\nabstract keyword\\nﬁnal keyword\\nnew keyword\\nsuper keyword\\nexplicit keyword1. \\n2. \\n3. \\n4. \\n5. \\n6. \\n7. \\n8. \\n9. \\n10. \\n11. \\n12. \\n13. \\n14. \\n15. \\n16. \\n17. \\n18. \\n19. \\n20. \\n21. \\n22. \\n23. \\n24. \\n25. \\n26. \\nMost Important Interview Questions for OOPS\\nWhat is Object-Oriented Programming? 1. \\nOOPs refers to Object-Oriented Programming. It is the programming paradigm that is deﬁned using objects. Objects \\ncan be considered as real-world instances of entities like class, that have some characteristics and behaviours.\\nWhy OOP? 2. \\nThere are many reasons why OOPs is mostly preferred, but the most important among them are:\\nOOPs helps users to understand the software easily, although they don’t know the actual implementation.\\nWith OOPs, the readability, understandability, and maintainability of the code increase multifold.\\nEven very big codebases can be easily written and managed easily using OOPs.●\\n●\\n●OOPS Interview Cheatsheet'),\n",
       " Document(metadata={'source': 'OOPS_Interview_Cheatsheet.pdf', 'page': 1}, page_content='What are some major Object Oriented Programming languages? 3. \\nThe programming languages that use and follow the Object-Oriented Programming paradigm or OOPs, are known as \\nObject-Oriented Programming languages. Some of the major Object-Oriented Programming languages include:\\nJava\\nC++\\nJavascript\\nPython\\nPHP●\\n●\\n●\\n●\\n●\\nAnd many more.\\nWhat is meant by Structured Programming? 4. \\nStructured Programming refers to the method of programming which consists of a completely structured control ﬂow. \\nHere, structure refers to a block, which contains a set of rules, and has a deﬁnitive control ﬂow, such as (if/then/else), \\n(while and for), block structures, and subroutines.\\nWhat are the main features of OOPs?\\xa0[American Express] [Microsoft]\\xa0[Intuit] [Oracle] 5. \\nOOPs or Object Oriented Programming mainly comprises of the below four features:\\nInheritance\\nEncapsulation\\nPolymorphism\\nData Abstraction●\\n●\\n●\\n●\\nWhat are some advantages of using OOPs? 6. \\nHighly complex programs can be created, handled, and maintained easily using object-oriented programming.\\nOOPs, promote code reuse, thereby reducing redundancy.\\nOOPs also helps to hide the unnecessary details with the help of Data Abstraction.\\nOOPs, are based on a bottom-up approach, unlike the Structural programming paradigm, which uses a top-down \\napproach.\\nPolymorphism oﬀers a lot of ﬂexibility in OOPs.●\\n●\\n●\\n●\\n●\\n\\xa0 \\xa0 \\xa0 7.\\xa0 Why is OOPs so popular?\\xa0[Oracle]\\nOOPs programming paradigm is considered as a better style of programming. Not only it helps in writing a complex \\npiece of code easily, but it also allows users to handle and maintain them easily as well. The main pillar of OOPs - Data \\nAbstraction, Encapsulation, Inheritance, and Polymorphism, makes it easy for programmers to solve complex scenarios.\\nWhat is a class? 8. \\nA class is a template or a blueprint, which contains some values, known as member data or member, and some set of \\nrules, known as behaviours or functions. So when an object is created, it automatically takes the data and functions \\nthat are deﬁned in the class.\\nWhat is an object? 9. \\nAn object refers to the instance of the class, which contains the instance of the members and behaviours deﬁned in the \\nclass template. In the real world, an object is an actual entity to which a user interacts, whereas class is just the \\nblueprint for that object. So the objects consume space and have some characteristic behaviour.'),\n",
       " Document(metadata={'source': 'OOPS_Interview_Cheatsheet.pdf', 'page': 2}, page_content=\"What is encapsulation? 10. \\nEncapsulation is putting everything that is required to do the job, inside a capsule and presenting that capsule to the \\nuser. What it means is that by Encapsulation, all the necessary data and methods are bind together and all the \\nunnecessary details are hidden to the normal user. So Encapsulation is the process of binding data members and \\nmethods of a program together to do a speciﬁc job, without revealing unnecessary details. \\nEncapsulation can also be deﬁned in two diﬀerent ways: \\n1) Data hiding: Encapsulation is the process of hiding unwanted information, such as restricting access to any member \\nof an object. \\n2) Data binding: Encapsulation is the process of binding the data members and the methods together as a whole, as a \\nclass.\\nWhat is Polymorphism?\\xa0[Microsoft]\\xa0[Intuit]\\xa0 11. \\nPolymorphism is composed of two words - “poly” which means “many”, and “morph” which means “shapes”. Therefore \\nPolymorphism refers to something that has many shapes. In OOPs, Polymorphism refers to the process by which some \\ncode, data, method, or object behaves diﬀerently under diﬀerent circumstances or contexts.\\nWhat are the two types of Polymorphism?\\xa0[American Express] 12. \\nCompile Time Polymorphism: Compile time polymorphism, also known as Static Polymorphism, refers to the type of \\nPolymorphism that happens at compile time. What it means is that the compiler decides what shape or value has to be \\ntaken by the entity in the picture.\\nRuntime Polymorphism:\\xa0Runtime polymorphism, also known as Dynamic Polymorphism, refers to the type of \\nPolymorphism that happens at the run time. What it means is it can't be decided by the compiler. Therefore what \\nshape or value has to be taken depends upon the execution. Hence the name Runtime Polymorphism.\\nHow does C++ support Polymorphism? 13. \\nC++ is an Object-oriented programming language and it supports Polymorphism as well:\\nCompile Time Polymorphism: C++ supports compile-time polymorphism with the help of features like templates, \\nfunction overloading, and default arguments.\\nRuntime Polymorphism: C++ supports Runtime polymorphism with the help of features like virtual functions. \\nVirtual functions take the shape of the functions based on the type of object in reference and are resolved at \\nruntime.●\\n●\\nWhat is meant by Inheritance?\\xa0[Goldman Sachs] 14. \\nThe term “inheritance” means “receiving some quality or behavior from a parent to an oﬀspring.” In object-oriented \\nprogramming, inheritance is the mechanism by which an object or class (referred to as a child) is created using the \\ndeﬁnition of another object or class (referred to as a parent). Inheritance not only helps to keep the implementation \\nsimpler but also helps to facilitate code reuse.\\nWhat is Abstraction?\\xa0 15. \\nAbstraction is the method of hiding unnecessary details from the necessary ones. It is one of the main features of \\nOOPs.  \\nFor example, consider a car. You only need to know how to run a car, and not how the wires are connected inside it. \\nThis is obtained using Abstraction.\"),\n",
       " Document(metadata={'source': 'OOPS_Interview_Cheatsheet.pdf', 'page': 3}, page_content='What are the levels of data abstraction? 16. \\nTo make the system eﬃcient for retrieval of data and reduce the complexity of the users, developers use the method of \\nData Abstraction.\\nThere are mainly three levels of data abstraction:\\nInternal Level: Actual PHYSICAL storage structure and access paths.\\nConceptual or Logical Level: Structure and constraints for the entire database\\nExternal or View level: Describes various user views1. \\n2. \\n3. \\nHow much memory does a class occupy? 17. \\nClasses do not consume any memory. They are just a blueprint based on which objects are created. Now when objects \\nare created, they actually initialise the class members and methods and therefore consume memory.\\nIs it always necessary to create objects from class? 18. \\nNo. An object is necessary to be created if the base class has non-static methods. But if the class has static methods, \\nthen objects don’t need to be created. You can call the class method directly in this case, using the class name.\\nWhat is a constructor?\\xa0[Adobe] 19. \\nConstructors are special methods whose name is the same as the class name. The constructors serve the special \\npurpose of initialising the objects. \\nFor example, suppose there is a class with the name “MyClass”, then when you instantiate this class, you pass the \\nsyntax:\\nMyClass myClassObject = new MyClass();\\nWhat are the various types of constructors in C++? 20. \\nThe most common classiﬁcation of constructors includes:\\nDefault constructor: The default constructor is the constructor which doesn’t take any argument. It has no \\nparameters.●\\n \\nclass ABC \\n{ \\n\\xa0\\xa0 int x; \\n\\xa0\\xa0 \\xa0 \\xa0 \\n\\xa0\\xa0 ABC () \\n\\xa0\\xa0 { \\n\\xa0\\xa0 \\xa0 \\xa0 x = 0; \\n\\xa0\\xa0 } \\n}\\nParameterised constructor: The constructors that take some arguments are known as parameterised constructors. ●\\n\\xa0class ABC \\n{ \\n\\xa0\\xa0 int x; \\n\\xa0\\xa0 \\xa0 \\xa0 \\n\\xa0\\xa0 ABC (int y) \\n\\xa0\\xa0 { '),\n",
       " Document(metadata={'source': 'OOPS_Interview_Cheatsheet.pdf', 'page': 4}, page_content=\"\\xa0\\xa0 \\xa0 \\xa0 x = y; \\n\\xa0\\xa0 } \\n}\\nCopy constructor: A copy constructor is a member function that initialises an object using another object of the \\nsame class.●\\nclass ABC \\n{ \\n\\xa0\\xa0 int x; \\n\\xa0\\xa0 \\xa0 \\xa0 \\n\\xa0\\xa0 ABC (int y) \\n\\xa0\\xa0 { \\n\\xa0\\xa0 \\xa0 \\xa0 x = y; \\n\\xa0\\xa0 } \\n\\xa0 \\xa0// Copy constructor  \\n\\xa0\\xa0 ABC (ABC abc ) \\n\\xa0\\xa0 { \\n\\xa0\\xa0 \\xa0 \\xa0 x = abc .x; \\n\\xa0\\xa0 } \\n}\\nWhat is a copy constructor? 21. \\nCopy Constructor is a type of constructor, whose purpose is to copy an object to another. What it means is that a copy \\nconstructor will clone an object and its values, into another object, is provided that both the objects are of the same \\nclass.\\nWhat is a destructor?\\xa0[Oracle] 22. \\nContrary to constructors, which initialise objects and specify space for them, Destructors are also special methods. But \\ndestructors free up the resources and memory occupied by an object. Destructors are automatically called when an \\nobject is being destroyed.\\nAre class and structure the same? If not, what's the diﬀerence between a class and a structure? 23. \\nNo, class and structure are not the same. Though they appear to be similar, they have diﬀerences that make them \\napart. For example, the structure is saved in the stack memory, whereas the class is saved in the heap memory. Also, \\nData Abstraction cannot be achieved with the help of structure, but with class, Abstraction is majorly used.\\nExplain Inheritance.\\xa0[American Express] [ServiceNow] 24. \\nInheritance is one of the major features of object-oriented programming, by which an entity inherits some \\ncharacteristics and behaviours of some other entity and makes them their own. Inheritance helps to improve and \\nfacilitate code reuse.\\nLet me explain to you with a common example. Let's take three diﬀerent vehicles - a car, truck, or bus. These three are \\nentirely diﬀerent from one another with their own speciﬁc characteristics and behavior. But, in all three, you will ﬁnd \\nsome common elements, like steering wheel, accelerator, clutch, brakes, etc. Though these elements are used in \\ndiﬀerent vehicles, still they have their own features which are common among all vehicles. This is achieved with \\ninheritance. The car, the truck, and the bus have all inherited the features like steering wheel, accelerator, clutch, \\nbrakes, etc, and used them as their own. Due to this, they did not have to create these components from scratch, \\nthereby facilitating code reuse.\\nAre there any limitations of Inheritance? 25. \"),\n",
       " Document(metadata={'source': 'OOPS_Interview_Cheatsheet.pdf', 'page': 5}, page_content='Yes, Inheritance is a very powerful feature in OOPs, but it has some limitations too. Inheritance needs more time to \\nprocess, as it needs to navigate through multiple classes for its implementation. Also, the classes involved in \\nInheritance - the base class and the child class, are very tightly coupled together. So if one needs to make some \\nchanges, they might need to do nested changes in both classes. Inheritance might be complex for implementation, as \\nwell. So if not correctly implemented, this might lead to unexpected errors or incorrect outputs.\\nWhat are the various types of inheritance?\\xa0[American Express]\\xa0[Microsoft]\\xa0 26. \\nThe various types of inheritance include:\\nSingle inheritance\\nMultiple inheritances\\nMulti-level inheritance\\nHierarchical inheritance\\nHybrid inheritance●\\n●\\n●\\n●\\n●\\nWhat is an Interface?\\xa0[Goldman Sachs] 27. \\nAn interface refers to a special type of class, which contains methods, but not their deﬁnition. Only the declaration of \\nmethods is allowed inside an interface. To use an interface, you cannot create objects. Instead, you need to implement \\nthat interface and deﬁne the methods for their implementation.\\xa0\\nWhat is meant by static polymorphism? 28. \\nStatic Polymorphism is commonly known as the Compile time polymorphism. Static polymorphism is the feature by \\nwhich an object is linked with the respective function or operator based on the values during the compile time. Static \\nor Compile time Polymorphism can be achieved through Method overloading or operator overloading.\\nWhat is meant by dynamic polymorphism? 29. \\nDynamic Polymorphism or Runtime polymorphism refers to the type of Polymorphism in OOPs, by which the actual \\nimplementation of the function is decided during the runtime or execution. The dynamic or runtime polymorphism \\ncan be achieved with the help of method overriding.\\nWhat is function overloading? Explain with an example.\\xa0[American Express] 30. \\nFunction overloading is a feature of object oriented programming where two or more functions can have the same \\nname but diﬀerent parameters.\\n#include  <bits /stdc ++.h> \\nusing namespace  std ; \\n\\xa0 \\nvoid print (int i) { \\n\\xa0\\xa0cout << \" Here is int \"  << i << endl ; \\n} \\n \\nvoid print (double \\xa0f) { \\n\\xa0\\xa0cout << \" Here is float \"  << f << endl ; \\n} \\n \\nvoid print (string \\xa0s) { \\n\\xa0\\xa0cout << \" Here is string \"  <<\\xa0s\\xa0<< endl ; \\n} \\n\\xa0 \\nint main () { '),\n",
       " Document(metadata={'source': 'OOPS_Interview_Cheatsheet.pdf', 'page': 6}, page_content='\\xa0\\xa0print (10); \\n\\xa0\\xa0print (10.10 ); \\n\\xa0\\xa0print (\"ten\" ); \\n\\xa0\\xa0return 0; \\n}\\nWhat is the diﬀerence between overloading and overriding?\\xa0[American Express]\\xa0[Adobe]\\xa0[American \\nExpress]\\xa0[Goldman Sachs] [Oracle]31. \\nOverloading is a compile-time polymorphism feature in which an entity has multiple implementations with the same \\nname. For example, method overloading and operator overloading.\\nWhereas Overriding is a runtime polymorphism feature in which an entity has the same name, but its implementation \\nchanges during execution. For example, method overriding.\\nWhat is an abstract class? 32. \\nAn abstract class is a special class containing abstract methods. The signiﬁcance of abstract class is that the abstract \\nmethods inside it are not implemented and only declared. So as a result, when a subclass inherits the abstract class \\nand needs to use its abstract methods, they need to deﬁne and implement them.\\nHow is an abstract class diﬀerent from an interface? 33. \\nInterface and abstract class both are special types of classes that contain only the methods declaration and not their \\nimplementation. But the interface is entirely diﬀerent from an abstract class. The main diﬀerence between the two is \\nthat, when an interface is implemented, the subclass must deﬁne all its methods and provide its implementation. \\nWhereas when an abstract class is inherited, the subclass does not need to provide the deﬁnition of its abstract \\nmethod, until and unless the subclass is using it.\\nWhat is a friend function?\\xa0[Adobe]\\xa0 34. \\nA friend function of a class is deﬁned outside that class\\' scope but it has the right to access all private and protected \\nmembers of the class. Even though the prototypes for friend functions appear in the class deﬁnition, friends are not \\nmember functions.\\nA friend can be a function, function template, or member function, or a class or class template, in which case the entire\\nclass and all of its members are friends.\\nclass Box { \\n\\xa0\\xa0 double width ; \\n\\xa0\\xa0  \\n\\xa0\\xa0 public : \\n\\xa0\\xa0 \\xa0 \\xa0friend void printWidth ( Box box ); \\n\\xa0\\xa0 \\xa0 \\xa0void setWidth ( double wid ); \\n}; \\n \\n// Member function definition  \\nvoid Box::setWidth ( double wid ) { \\n\\xa0\\xa0 width = wid ; \\n} \\n \\n \\nvoid printWidth ( Box box ) { \\n\\xa0\\xa0 /* Because printWidth() is a friend of Box, it can  \\n\\xa0\\xa0 directly access any member of this class */  \\n\\xa0\\xa0 cout << \"Width of box : \"  << box .width <<endl ; \\n} '),\n",
       " Document(metadata={'source': 'OOPS_Interview_Cheatsheet.pdf', 'page': 7}, page_content='\\xa0 \\n// Main function for the program  \\nint main () { \\n\\xa0\\xa0 Box box ; \\n\\xa0 \\n\\xa0\\xa0 // set box width without member function  \\n\\xa0\\xa0 box .setWidth (10.0 ); \\n\\xa0\\xa0  \\n\\xa0\\xa0 // Use friend function to print the wdith.  \\n\\xa0\\xa0 printWidth ( box ); \\n\\xa0 \\n\\xa0\\xa0 return 0; \\n}\\nWhat are access speciﬁers and what is their signiﬁcance? 35. \\nAccess speciﬁers, as the name suggests, are a special type of keywords, which are used to control or specify the \\naccessibility of entities like classes, methods, etc. Some of the access speciﬁers or access modiﬁers include “private”, \\n“public”, etc. These access speciﬁers also play a very vital role in achieving encapsulation - one of the major features of \\nOOPs.\\nWhat is an exception? 36. \\nAn exception can be considered as a special event, which is raised during the execution of a program at runtime, that \\nbrings the execution to a halt. The reason for the exception is mainly due to a position in the program, where the user \\nwants to do something for which the program is not speciﬁed, like undesirable input.\\nWhat is meant by exception handling? 37. \\nExceptions are the major reason for software failure. The exceptions can be handled in the program beforehand and \\nprevent the execution from stopping. This is known as exception handling. \\nSo exception handling is the mechanism for identifying the undesirable states that the program can reach and \\nspecifying the desirable outcomes of such states. Try-catch is the most common method used for handling exceptions \\nin the program.\\nWhat is meant by Garbage Collection in OOPs world? 38. \\nObject-oriented programming revolves around entities like objects. Each object consumes memory and there can be \\nmultiple objects of a class. So if these objects and their memories are not handled properly, then it might lead to \\ncertain memory-related errors and the system might fail.\\nGarbage collection refers to this mechanism of handling the memory in the program. Through garbage collection, the \\nunwanted memory is freed up by removing the objects that are no longer needed.\\nCan we run a Java application without implementing the OOPs concept? 39. \\nNo, Java applications are based on object-oriented programming models, and hence they cannot be implemented \\nwithout it.\\nCan we run a C++ application without implementing the OOPs concept? 40. \\nYes, C++ can be implemented without OOPs, as it supports the C-like structural programming model.\\nWhat is a virtual function?\\xa0[American Express]\\xa0[Goldman Sachs] [Adobe] [Microsoft]\\xa0 41. \\nA virtual function is a member function which is declared within a base class and is re-deﬁned(overriden) by a derived \\nclass. When you refer to a derived class object using a pointer or a reference to the base class, you can call a virtual '),\n",
       " Document(metadata={'source': 'OOPS_Interview_Cheatsheet.pdf', 'page': 8}, page_content='function for that object and execute the derived class’s version of the function.\\nWhat is a pure virtual function?\\xa0[Adobe]\\xa0[Microsoft]\\xa0 42. \\nA pure virtual function (or abstract function) is a virtual function for which we can have implementation, but we must \\noverride that function in the derived class, otherwise the derived class will also become abstract class.\\nWhat is a ﬁnal variable? 43. \\nIf you make any variable as ﬁnal, you cannot change the value of ﬁnal variable, i.e., it will be constant.\\nWhat is a Garbage Collection, and how does it work? 44. \\nGarbage means unreferenced objects and Garbage Collection is a process of reclaiming the runtime unused memory \\nautomatically. In other words, it is a way to destroy the unused objects.\\xa0To do so, we use free() function in C language, \\ndelete() in C++, but in Java, it is performed automatically.\\xa0\\nWhat is composition? 45. \\nComposition is a way to design or implement the \"has-a\" relationship.\\xa0The composition relationship of two objects is \\npossible when one object contains another object, and that object is fully dependent on it. The contained object \\nshould not exist without the existence of its parent object.\\xa0\\nIn a simple way, we can say it is a technique through which we can describe the reference between two or more \\nclasses. And for that, we use the instance variable, which should be created before it is used.\\nWhat is copy assignment operator? 46. \\nThe copy assignment operator lets you create a new object from an existing one by initialisation. A copy assignment \\noperator of a class A is a non-static non-template member function that has one of the following forms:\\nA::operator=(A)\\nA::operator=(A&)\\nA::operator=(const A&)\\nA::operator=(volatile A&)\\nA::operator=(const volatile A&)●\\n●\\n●\\n●\\n●\\nName the operators that cannot be overloaded. 47. \\nIn C++, following operators can not be overloaded:\\n. (Member Access or Dot operator)\\n?: (Ternary or Conditional Operator )\\n:: (Scope Resolution Operator)\\n.* (Pointer-to-member Operator )\\nsizeof (Object size Operator)\\ntypeid (Object type Operator)1. \\n2. \\n3. \\n4. \\n5. \\n6. \\nWhat are Manipulators? 48. \\nManipulators are helping functions that can modify the input/output stream. It does not mean that we change the \\nvalue of a variable, it only modiﬁes the I/O stream using insertion (<<) and extraction (>>) operators. For example, if \\nwe want to print the hexadecimal value of 100 then we can print it as:\\xa0\\ncout <<setbase (16)<<100;'),\n",
       " Document(metadata={'source': 'OOPS_Interview_Cheatsheet.pdf', 'page': 9}, page_content=\"What is const keyword? 49. \\nThe const keyword speciﬁes that a variable's value is constant and tells the compiler to prevent the programmer from \\nmodifying it.\\nWhy is virtual keyword used? 50. \\nThe virtual keyword is used to modify a method, property, indexer, or event declaration and allow for it to be \\noverridden in a derived class.\\nWhy is explicit keyword used? 51. \\n\\xa0If a class has a constructor which can be called with a single argument, then this constructor becomes conversion \\nconstructor because such a constructor allows conversion of the single argument to the class being constructed. \\nWe can avoid such implicit conversions as these may lead to unexpected results. We can make the constructor explicit with \\nthe help of explicit keyword.\\nWhy is static keyword used? 52. \\nStatic is a non-access modiﬁer. It means that something (a ﬁeld, method, block or nested class) is related to the type \\nrather than any particular instance of the type. \\nThe Static keyword can be applied to: \\nStatic Method \\nStatic Variable \\nInitialisation Block \\nNested class\\nWhy is super keyword used? 53. \\nThe super keyword in Java is a reference variable which is used to refer immediate parent class object.\\nWhenever you create the instance of subclass, an instance of parent class is created implicitly which is referred by super\\nreference variable.\\nWhy is this keyword used? 54. \\nthis is a reference variable that refers to the current object.\\nWhy is new keyword used? 55. \\nnew keyword is used to create an instance of the class. In other words, it instantiates a class by allocating memory for a \\nnew object and returning a reference to that memory.\\xa0\\nClass student=new\\xa0Class();\\xa0\\nMost Important Object Oriented Design Interview Questions\\nDesign a Hashmap. [Goldman Sachs]\\xa0[Walmart]\\nDesign an ATM Machine. [American Express]\\nDesign a Library Management System.\\xa0\\nDesign an online Coding Platform like LeetCode.\\xa0[Flipkart]\\nDesign a Car Rental System.\\xa0[Flipkart]\\nDesign a 2-Player Chess Game.\\xa0[Amazon]\\nDesign LRU Cache.\\xa0[Goldman Sachs]\\xa0[AppDynamics]1. \\n2. \\n3. \\n4. \\n5. \\n6. \\n7. \"),\n",
       " Document(metadata={'source': 'OOPS_Interview_Cheatsheet.pdf', 'page': 10}, page_content='Design a JSON Parser.\\xa0[ServiceNow]\\nDesign a Vending Machine.\\xa0[Amazon]\\nDesign a Food Delivery System.\\xa0[Amazon]\\nDesign a Calendar like application (Google Calendar).\\xa0[Flipkart]\\nDesign BlackJack.\\xa0[Gojek]\\nDesign a Web Browser.\\xa0[Bloomberg]\\nDesign a Parking Lot. [Google]\\xa0[Amazon]8. \\n9. \\n10. \\n11. \\n12. \\n13. \\n14. ')]"
      ]
     },
     "execution_count": 8,
     "metadata": {},
     "output_type": "execute_result"
    }
   ],
   "source": [
    "oops"
   ]
  },
  {
   "cell_type": "code",
   "execution_count": 9,
   "metadata": {},
   "outputs": [],
   "source": [
    "from langchain.text_splitter import RecursiveCharacterTextSplitter\n",
    "text_splitter=RecursiveCharacterTextSplitter(chunk_size=1000,chunk_overlap=200)\n",
    "attention_split=text_splitter.split_documents(attention)"
   ]
  },
  {
   "cell_type": "code",
   "execution_count": 10,
   "metadata": {},
   "outputs": [
    {
     "data": {
      "text/plain": [
       "[Document(metadata={'source': 'attention_is_all_you_need.pdf', 'page': 0}, page_content='Provided proper attribution is provided, Google hereby grants permission to\\nreproduce the tables and figures in this paper solely for use in journalistic or\\nscholarly works.\\nAttention Is All You Need\\nAshish Vaswani∗\\nGoogle Brain\\navaswani@google.comNoam Shazeer∗\\nGoogle Brain\\nnoam@google.comNiki Parmar∗\\nGoogle Research\\nnikip@google.comJakob Uszkoreit∗\\nGoogle Research\\nusz@google.com\\nLlion Jones∗\\nGoogle Research\\nllion@google.comAidan N. Gomez∗ †\\nUniversity of Toronto\\naidan@cs.toronto.eduŁukasz Kaiser∗\\nGoogle Brain\\nlukaszkaiser@google.com\\nIllia Polosukhin∗ ‡\\nillia.polosukhin@gmail.com\\nAbstract\\nThe dominant sequence transduction models are based on complex recurrent or\\nconvolutional neural networks that include an encoder and a decoder. The best\\nperforming models also connect the encoder and decoder through an attention\\nmechanism. We propose a new simple network architecture, the Transformer,\\nbased solely on attention mechanisms, dispensing with recurrence and convolutions'),\n",
       " Document(metadata={'source': 'attention_is_all_you_need.pdf', 'page': 0}, page_content='mechanism. We propose a new simple network architecture, the Transformer,\\nbased solely on attention mechanisms, dispensing with recurrence and convolutions\\nentirely. Experiments on two machine translation tasks show these models to\\nbe superior in quality while being more parallelizable and requiring significantly\\nless time to train. Our model achieves 28.4 BLEU on the WMT 2014 English-\\nto-German translation task, improving over the existing best results, including\\nensembles, by over 2 BLEU. On the WMT 2014 English-to-French translation task,\\nour model establishes a new single-model state-of-the-art BLEU score of 41.8 after\\ntraining for 3.5 days on eight GPUs, a small fraction of the training costs of the\\nbest models from the literature. We show that the Transformer generalizes well to\\nother tasks by applying it successfully to English constituency parsing both with\\nlarge and limited training data.'),\n",
       " Document(metadata={'source': 'attention_is_all_you_need.pdf', 'page': 0}, page_content='best models from the literature. We show that the Transformer generalizes well to\\nother tasks by applying it successfully to English constituency parsing both with\\nlarge and limited training data.\\n∗Equal contribution. Listing order is random. Jakob proposed replacing RNNs with self-attention and started\\nthe effort to evaluate this idea. Ashish, with Illia, designed and implemented the first Transformer models and\\nhas been crucially involved in every aspect of this work. Noam proposed scaled dot-product attention, multi-head\\nattention and the parameter-free position representation and became the other person involved in nearly every\\ndetail. Niki designed, implemented, tuned and evaluated countless model variants in our original codebase and\\ntensor2tensor. Llion also experimented with novel model variants, was responsible for our initial codebase, and\\nefficient inference and visualizations. Lukasz and Aidan spent countless long days designing various parts of and'),\n",
       " Document(metadata={'source': 'attention_is_all_you_need.pdf', 'page': 0}, page_content='efficient inference and visualizations. Lukasz and Aidan spent countless long days designing various parts of and\\nimplementing tensor2tensor, replacing our earlier codebase, greatly improving results and massively accelerating\\nour research.\\n†Work performed while at Google Brain.\\n‡Work performed while at Google Research.\\n31st Conference on Neural Information Processing Systems (NIPS 2017), Long Beach, CA, USA.arXiv:1706.03762v7  [cs.CL]  2 Aug 2023'),\n",
       " Document(metadata={'source': 'attention_is_all_you_need.pdf', 'page': 1}, page_content='1 Introduction\\nRecurrent neural networks, long short-term memory [ 13] and gated recurrent [ 7] neural networks\\nin particular, have been firmly established as state of the art approaches in sequence modeling and\\ntransduction problems such as language modeling and machine translation [ 35,2,5]. Numerous\\nefforts have since continued to push the boundaries of recurrent language models and encoder-decoder\\narchitectures [38, 24, 15].\\nRecurrent models typically factor computation along the symbol positions of the input and output\\nsequences. Aligning the positions to steps in computation time, they generate a sequence of hidden\\nstates ht, as a function of the previous hidden state ht−1and the input for position t. This inherently\\nsequential nature precludes parallelization within training examples, which becomes critical at longer\\nsequence lengths, as memory constraints limit batching across examples. Recent work has achieved')]"
      ]
     },
     "execution_count": 10,
     "metadata": {},
     "output_type": "execute_result"
    }
   ],
   "source": [
    "attention_split[:5]"
   ]
  },
  {
   "cell_type": "code",
   "execution_count": 11,
   "metadata": {},
   "outputs": [],
   "source": [
    "text_splitter=RecursiveCharacterTextSplitter(chunk_size=1000,chunk_overlap=200)\n",
    "oops_split=text_splitter.split_documents(oops)"
   ]
  },
  {
   "cell_type": "code",
   "execution_count": 12,
   "metadata": {},
   "outputs": [
    {
     "data": {
      "text/plain": [
       "[Document(metadata={'source': 'OOPS_Interview_Cheatsheet.pdf', 'page': 0}, page_content='Most Important Interview Topics for OOPS\\nClasses and Objects\\nFeature/characteristics of OOPs\\nInheritance (Type and Mode)\\nAccess Speciﬁers\\nVirtual (Functions and Class)\\nAbstract class and Interface\\nCompile-time and Runtime Polymorphism\\nFriend function and Friend class\\nCall by Value and Call by Reference\\nAbstraction\\nException Handling\\nConstructor and Destructor\\nCopy constructor\\nCopy assignment operator\\nOverloading (Function, Constructor, Operator)\\nFunction Overriding\\nReference variable\\nthis pointer\\nconst keyword\\nstatic keyword\\nvirtual keyword\\nabstract keyword\\nﬁnal keyword\\nnew keyword\\nsuper keyword\\nexplicit keyword1. \\n2. \\n3. \\n4. \\n5. \\n6. \\n7. \\n8. \\n9. \\n10. \\n11. \\n12. \\n13. \\n14. \\n15. \\n16. \\n17. \\n18. \\n19. \\n20. \\n21. \\n22. \\n23. \\n24. \\n25. \\n26. \\nMost Important Interview Questions for OOPS\\nWhat is Object-Oriented Programming? 1. \\nOOPs refers to Object-Oriented Programming. It is the programming paradigm that is deﬁned using objects. Objects'),\n",
       " Document(metadata={'source': 'OOPS_Interview_Cheatsheet.pdf', 'page': 0}, page_content='Most Important Interview Questions for OOPS\\nWhat is Object-Oriented Programming? 1. \\nOOPs refers to Object-Oriented Programming. It is the programming paradigm that is deﬁned using objects. Objects \\ncan be considered as real-world instances of entities like class, that have some characteristics and behaviours.\\nWhy OOP? 2. \\nThere are many reasons why OOPs is mostly preferred, but the most important among them are:\\nOOPs helps users to understand the software easily, although they don’t know the actual implementation.\\nWith OOPs, the readability, understandability, and maintainability of the code increase multifold.\\nEven very big codebases can be easily written and managed easily using OOPs.●\\n●\\n●OOPS Interview Cheatsheet'),\n",
       " Document(metadata={'source': 'OOPS_Interview_Cheatsheet.pdf', 'page': 1}, page_content='What are some major Object Oriented Programming languages? 3. \\nThe programming languages that use and follow the Object-Oriented Programming paradigm or OOPs, are known as \\nObject-Oriented Programming languages. Some of the major Object-Oriented Programming languages include:\\nJava\\nC++\\nJavascript\\nPython\\nPHP●\\n●\\n●\\n●\\n●\\nAnd many more.\\nWhat is meant by Structured Programming? 4. \\nStructured Programming refers to the method of programming which consists of a completely structured control ﬂow. \\nHere, structure refers to a block, which contains a set of rules, and has a deﬁnitive control ﬂow, such as (if/then/else), \\n(while and for), block structures, and subroutines.\\nWhat are the main features of OOPs?\\xa0[American Express] [Microsoft]\\xa0[Intuit] [Oracle] 5. \\nOOPs or Object Oriented Programming mainly comprises of the below four features:\\nInheritance\\nEncapsulation\\nPolymorphism\\nData Abstraction●\\n●\\n●\\n●\\nWhat are some advantages of using OOPs? 6.'),\n",
       " Document(metadata={'source': 'OOPS_Interview_Cheatsheet.pdf', 'page': 1}, page_content='OOPs or Object Oriented Programming mainly comprises of the below four features:\\nInheritance\\nEncapsulation\\nPolymorphism\\nData Abstraction●\\n●\\n●\\n●\\nWhat are some advantages of using OOPs? 6. \\nHighly complex programs can be created, handled, and maintained easily using object-oriented programming.\\nOOPs, promote code reuse, thereby reducing redundancy.\\nOOPs also helps to hide the unnecessary details with the help of Data Abstraction.\\nOOPs, are based on a bottom-up approach, unlike the Structural programming paradigm, which uses a top-down \\napproach.\\nPolymorphism oﬀers a lot of ﬂexibility in OOPs.●\\n●\\n●\\n●\\n●\\n\\xa0 \\xa0 \\xa0 7.\\xa0 Why is OOPs so popular?\\xa0[Oracle]\\nOOPs programming paradigm is considered as a better style of programming. Not only it helps in writing a complex \\npiece of code easily, but it also allows users to handle and maintain them easily as well. The main pillar of OOPs - Data'),\n",
       " Document(metadata={'source': 'OOPS_Interview_Cheatsheet.pdf', 'page': 1}, page_content='piece of code easily, but it also allows users to handle and maintain them easily as well. The main pillar of OOPs - Data \\nAbstraction, Encapsulation, Inheritance, and Polymorphism, makes it easy for programmers to solve complex scenarios.\\nWhat is a class? 8. \\nA class is a template or a blueprint, which contains some values, known as member data or member, and some set of \\nrules, known as behaviours or functions. So when an object is created, it automatically takes the data and functions \\nthat are deﬁned in the class.\\nWhat is an object? 9. \\nAn object refers to the instance of the class, which contains the instance of the members and behaviours deﬁned in the \\nclass template. In the real world, an object is an actual entity to which a user interacts, whereas class is just the \\nblueprint for that object. So the objects consume space and have some characteristic behaviour.')]"
      ]
     },
     "execution_count": 12,
     "metadata": {},
     "output_type": "execute_result"
    }
   ],
   "source": [
    "oops_split[:5]"
   ]
  },
  {
   "cell_type": "code",
   "execution_count": 13,
   "metadata": {},
   "outputs": [],
   "source": [
    "from langchain_openai import OpenAIEmbeddings\n",
    "from langchain_community.vectorstores import Chroma"
   ]
  },
  {
   "cell_type": "code",
   "execution_count": 14,
   "metadata": {},
   "outputs": [],
   "source": [
    "db_attention=Chroma.from_documents(attention_split,OpenAIEmbeddings())"
   ]
  },
  {
   "cell_type": "code",
   "execution_count": 15,
   "metadata": {},
   "outputs": [
    {
     "data": {
      "text/plain": [
       "<langchain_community.vectorstores.chroma.Chroma at 0x245ce4b6600>"
      ]
     },
     "execution_count": 15,
     "metadata": {},
     "output_type": "execute_result"
    }
   ],
   "source": [
    "db_attention"
   ]
  },
  {
   "cell_type": "code",
   "execution_count": 16,
   "metadata": {},
   "outputs": [],
   "source": [
    "db_oops=Chroma.from_documents(oops_split,OpenAIEmbeddings())"
   ]
  },
  {
   "cell_type": "code",
   "execution_count": 17,
   "metadata": {},
   "outputs": [
    {
     "data": {
      "text/plain": [
       "<langchain_community.vectorstores.chroma.Chroma at 0x245d0ed7320>"
      ]
     },
     "execution_count": 17,
     "metadata": {},
     "output_type": "execute_result"
    }
   ],
   "source": [
    "db_oops"
   ]
  },
  {
   "cell_type": "code",
   "execution_count": 18,
   "metadata": {},
   "outputs": [
    {
     "data": {
      "text/plain": [
       "'3.2 Attention\\nAn attention function can be described as mapping a query and a set of key-value pairs to an output,\\nwhere the query, keys, values, and output are all vectors. The output is computed as a weighted sum\\n3'"
      ]
     },
     "execution_count": 18,
     "metadata": {},
     "output_type": "execute_result"
    }
   ],
   "source": [
    "query=\"what is query,key and values in attention model\"\n",
    "retrieved_results=db_attention.similarity_search(query)\n",
    "retrieved_results[0].page_content"
   ]
  },
  {
   "cell_type": "code",
   "execution_count": 19,
   "metadata": {},
   "outputs": [
    {
     "data": {
      "text/plain": [
       "'Most Important Interview Questions for OOPS\\nWhat is Object-Oriented Programming? 1. \\nOOPs refers to Object-Oriented Programming. It is the programming paradigm that is deﬁned using objects. Objects \\ncan be considered as real-world instances of entities like class, that have some characteristics and behaviours.\\nWhy OOP? 2. \\nThere are many reasons why OOPs is mostly preferred, but the most important among them are:\\nOOPs helps users to understand the software easily, although they don’t know the actual implementation.\\nWith OOPs, the readability, understandability, and maintainability of the code increase multifold.\\nEven very big codebases can be easily written and managed easily using OOPs.●\\n●\\n●OOPS Interview Cheatsheet'"
      ]
     },
     "execution_count": 19,
     "metadata": {},
     "output_type": "execute_result"
    }
   ],
   "source": [
    "query=\"what is oops\"\n",
    "retrieved_results=db_oops.similarity_search(query)\n",
    "retrieved_results[0].page_content"
   ]
  },
  {
   "cell_type": "markdown",
   "metadata": {},
   "source": [
    "## For multiple pdf_files"
   ]
  },
  {
   "cell_type": "code",
   "execution_count": 20,
   "metadata": {},
   "outputs": [],
   "source": [
    "pdf_files = [\n",
    "    \"attention_is_all_you_need.pdf\",\n",
    "    \"OOPS_Interview_Cheatsheet.pdf\"\n",
    "]"
   ]
  },
  {
   "cell_type": "code",
   "execution_count": 21,
   "metadata": {},
   "outputs": [],
   "source": [
    "for pdf_file in pdf_files:\n",
    "\n",
    "    loader=PyPDFLoader(pdf_file)\n",
    "    documents=loader.load()\n",
    "    \n",
    "    text_splitter=RecursiveCharacterTextSplitter(chunk_size=800, chunk_overlap=200)\n",
    "    split_documents=text_splitter.split_documents(documents)\n",
    "    \n",
    "    db_all=Chroma.from_documents(split_documents,OpenAIEmbeddings())"
   ]
  },
  {
   "cell_type": "code",
   "execution_count": 22,
   "metadata": {},
   "outputs": [
    {
     "data": {
      "text/plain": [
       "'3.2 Attention\\nAn attention function can be described as mapping a query and a set of key-value pairs to an output,\\nwhere the query, keys, values, and output are all vectors. The output is computed as a weighted sum\\n3'"
      ]
     },
     "execution_count": 22,
     "metadata": {},
     "output_type": "execute_result"
    }
   ],
   "source": [
    "query=\"what is attention\"\n",
    "retrieved_results=db_all.similarity_search(query)\n",
    "retrieved_results[0].page_content"
   ]
  },
  {
   "cell_type": "code",
   "execution_count": 23,
   "metadata": {},
   "outputs": [
    {
     "data": {
      "text/plain": [
       "'Most Important Interview Questions for OOPS\\nWhat is Object-Oriented Programming? 1. \\nOOPs refers to Object-Oriented Programming. It is the programming paradigm that is deﬁned using objects. Objects \\ncan be considered as real-world instances of entities like class, that have some characteristics and behaviours.\\nWhy OOP? 2. \\nThere are many reasons why OOPs is mostly preferred, but the most important among them are:\\nOOPs helps users to understand the software easily, although they don’t know the actual implementation.\\nWith OOPs, the readability, understandability, and maintainability of the code increase multifold.\\nEven very big codebases can be easily written and managed easily using OOPs.●\\n●\\n●OOPS Interview Cheatsheet'"
      ]
     },
     "execution_count": 23,
     "metadata": {},
     "output_type": "execute_result"
    }
   ],
   "source": [
    "query=\"what is oops\"\n",
    "retrieved_results=db_all.similarity_search(query)\n",
    "retrieved_results[0].page_content"
   ]
  },
  {
   "cell_type": "code",
   "execution_count": 24,
   "metadata": {},
   "outputs": [],
   "source": [
    "# for extra optimisation we can use groq faster inferencing time "
   ]
  },
  {
   "cell_type": "code",
   "execution_count": 25,
   "metadata": {},
   "outputs": [],
   "source": [
    "from langchain_core.prompts import ChatPromptTemplate\n",
    "prompt=ChatPromptTemplate.from_template(\n",
    "    \"\"\"\n",
    "Answer the following question based on provided context.\n",
    "Think step by step before providing a detailed answer.\n",
    "<context>\n",
    "{context}\n",
    "</context>\n",
    "Question:{input}\n",
    "\"\"\"\n",
    ")"
   ]
  },
  {
   "cell_type": "markdown",
   "metadata": {},
   "source": [
    "## Chain\n",
    "Two approaches are there->\n",
    "1) Entire document as a prompt\n",
    "2) First retrieve the results and then use them as context"
   ]
  },
  {
   "cell_type": "markdown",
   "metadata": {},
   "source": [
    "### 2 Approach"
   ]
  },
  {
   "cell_type": "code",
   "execution_count": 26,
   "metadata": {},
   "outputs": [],
   "source": [
    "from langchain_core.output_parsers import StrOutputParser\n",
    "from langchain_openai import ChatOpenAI"
   ]
  },
  {
   "cell_type": "code",
   "execution_count": 27,
   "metadata": {},
   "outputs": [],
   "source": [
    "query=\"What is attention ?\"\n",
    "retrieved_results = db_all.similarity_search(query)\n",
    "context = retrieved_results[0].page_content"
   ]
  },
  {
   "cell_type": "code",
   "execution_count": 28,
   "metadata": {},
   "outputs": [],
   "source": [
    "chain=prompt|ChatOpenAI()|StrOutputParser()"
   ]
  },
  {
   "cell_type": "code",
   "execution_count": 29,
   "metadata": {},
   "outputs": [
    {
     "data": {
      "text/plain": [
       "'Attention is a function that maps a query and a set of key-value pairs to an output. The query, keys, values, and output are all vectors. The output is computed as a weighted sum of the values, where the weights are determined by the similarity between the query and the keys. By using attention, a model can focus on different parts of the input data when making predictions or generating outputs.'"
      ]
     },
     "execution_count": 29,
     "metadata": {},
     "output_type": "execute_result"
    }
   ],
   "source": [
    "response=chain.invoke(\n",
    "    {\n",
    "        \"context\":context,\n",
    "        \"input\":query\n",
    "    }\n",
    ")\n",
    "response"
   ]
  },
  {
   "cell_type": "code",
   "execution_count": 30,
   "metadata": {},
   "outputs": [
    {
     "data": {
      "text/plain": [
       "'1. Definition of attention: Attention is a cognitive process that involves focusing on a specific stimulus or task while ignoring other distractions. It is the ability to selectively concentrate on relevant information while filtering out irrelevant information.\\n\\n2. Components of attention: Attention can be divided into different components such as selective attention (the ability to focus on one stimulus while ignoring others), sustained attention (the ability to maintain focus over an extended period of time), divided attention (the ability to focus on multiple tasks simultaneously), and executive attention (the ability to control and regulate attention).\\n\\n3. Importance of attention: Attention is crucial for various cognitive processes such as learning, memory, problem-solving, and decision-making. It allows individuals to effectively process and respond to information in their environment.\\n\\n4. Factors influencing attention: Attention can be influenced by various factors such as arousal levels, motivation, individual differences, and external distractions. For example, high levels of arousal can enhance attention, while distractions can hinder attention.\\n\\n5. Disorders related to attention: Attention deficits can manifest in various disorders such as Attention Deficit Hyperactivity Disorder (ADHD), which is characterized by difficulties in sustaining attention, controlling impulses, and hyperactivity.\\n\\nIn conclusion, attention is a complex cognitive process that involves focusing on relevant information while filtering out distractions. It plays a crucial role in various cognitive processes and can be influenced by factors such as arousal levels, motivation, and distractions. Understanding attention is essential for improving cognitive functioning and addressing attention-related disorders.'"
      ]
     },
     "execution_count": 30,
     "metadata": {},
     "output_type": "execute_result"
    }
   ],
   "source": [
    "prompt_no_context=ChatPromptTemplate.from_template(\n",
    "    \"\"\"\n",
    "Answer the following question.\n",
    "Think step by step before providing a detailed answer.\n",
    "Question:{input}\n",
    "\"\"\"\n",
    ")\n",
    "chain_no_context=prompt_no_context|ChatOpenAI()|StrOutputParser()\n",
    "response_no_context=chain_no_context.invoke(\n",
    "    {\n",
    "        \"input\":query\n",
    "    }\n",
    ")\n",
    "response_no_context"
   ]
  },
  {
   "cell_type": "code",
   "execution_count": null,
   "metadata": {},
   "outputs": [],
   "source": []
  }
 ],
 "metadata": {
  "kernelspec": {
   "display_name": "virtual_env",
   "language": "python",
   "name": "python3"
  },
  "language_info": {
   "codemirror_mode": {
    "name": "ipython",
    "version": 3
   },
   "file_extension": ".py",
   "mimetype": "text/x-python",
   "name": "python",
   "nbconvert_exporter": "python",
   "pygments_lexer": "ipython3",
   "version": "3.12.0"
  }
 },
 "nbformat": 4,
 "nbformat_minor": 2
}
